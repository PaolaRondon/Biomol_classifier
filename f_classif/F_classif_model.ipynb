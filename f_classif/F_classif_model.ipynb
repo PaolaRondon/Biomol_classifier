{
 "cells": [
  {
   "cell_type": "markdown",
   "metadata": {},
   "source": [
    "# Basic imports"
   ]
  },
  {
   "cell_type": "code",
   "execution_count": 1,
   "metadata": {},
   "outputs": [],
   "source": [
    "import pandas as pd\n",
    "import numpy as np\n",
    "import os\n",
    "import matplotlib.pyplot as plt\n",
    "%matplotlib inline \n",
    "plt.rcParams.update({'figure.max_open_warning': 0})"
   ]
  },
  {
   "cell_type": "code",
   "execution_count": 2,
   "metadata": {},
   "outputs": [],
   "source": [
    "current_path = os.getcwd()\n",
    "root_path=current_path.replace('\\\\f_classif','')"
   ]
  },
  {
   "cell_type": "markdown",
   "metadata": {},
   "source": [
    "# Loading dataframes"
   ]
  },
  {
   "cell_type": "code",
   "execution_count": 3,
   "metadata": {},
   "outputs": [],
   "source": [
    "e_df=pd.read_csv(root_path+\"\\e_molecules.csv\", sep=\"\\t\")\n",
    "em_df=pd.read_csv(\"f_classif_em_molecules.csv\", sep=\"\\t\")\n",
    "emp_df=pd.read_csv(\"f_classif_emp_molecules.csv\", sep=\"\\t\")\n",
    "best_df=pd.read_csv(\"f_classif_best.csv\", sep=\"\\t\")"
   ]
  },
  {
   "cell_type": "markdown",
   "metadata": {},
   "source": [
    "# Model imports"
   ]
  },
  {
   "cell_type": "code",
   "execution_count": 4,
   "metadata": {},
   "outputs": [],
   "source": [
    "from sklearn.model_selection import train_test_split\n",
    "from sklearn.metrics import confusion_matrix\n",
    "from sklearn.metrics import f1_score\n",
    "from sklearn.metrics import accuracy_score\n",
    "from sklearn.svm import LinearSVC"
   ]
  },
  {
   "cell_type": "markdown",
   "metadata": {},
   "source": [
    "# Linear model"
   ]
  },
  {
   "cell_type": "markdown",
   "metadata": {},
   "source": [
    " When dual=False the underlying implementation of LinearSVC is not random and random_state has no effect on the results."
   ]
  },
  {
   "cell_type": "code",
   "execution_count": 5,
   "metadata": {},
   "outputs": [],
   "source": [
    "clf = LinearSVC(random_state=0, tol=1e-5, dual=False)"
   ]
  },
  {
   "cell_type": "code",
   "execution_count": 6,
   "metadata": {},
   "outputs": [],
   "source": [
    "def linear_model(model,data,prediction,testing_size=0.2):\n",
    "    \n",
    "    def print_model_scores(y_test,predicted):\n",
    "        matrix=confusion_matrix(y_test,predicted)\n",
    "        matrix_labels=[[\"True positive\",\"False positive\"],\n",
    "                       [\"False negative\",\"True negative\"]]\n",
    "\n",
    "        for i in range(2):\n",
    "            for j in range(2):\n",
    "                print(\"{} {}\".format(matrix_labels[i][j],matrix[i][j]))\n",
    "\n",
    "        print(\"\\nf1 score: {}%\".format(f1_score(y_test,predicted)*100)) \n",
    "        print(\"accuracy score: {}%\".format(accuracy_score(y_test,predicted)*100)) \n",
    "    \n",
    "    x_train, x_test, y_train, y_test=train_test_split(data,prediction,random_state=0,test_size=testing_size)    \n",
    "    clf.fit(x_train,y_train)\n",
    "    predicted=clf.predict(x_test)\n",
    "    print_model_scores(y_test,predicted)   "
   ]
  },
  {
   "cell_type": "markdown",
   "metadata": {},
   "source": [
    "## Experimental features"
   ]
  },
  {
   "cell_type": "code",
   "execution_count": 7,
   "metadata": {},
   "outputs": [],
   "source": [
    "temp_e_df=e_df.drop([\"m_name\"],axis=1)\n",
    "e_y=temp_e_df[\"is_cns_molecule\"]\n",
    "e_x=temp_e_df.drop([\"is_cns_molecule\"],axis=1)"
   ]
  },
  {
   "cell_type": "code",
   "execution_count": 8,
   "metadata": {},
   "outputs": [
    {
     "name": "stdout",
     "output_type": "stream",
     "text": [
      "True positive 101\n",
      "False positive 12\n",
      "False negative 30\n",
      "True negative 45\n",
      "\n",
      "f1 score: 68.18181818181819%\n",
      "accuracy score: 77.6595744680851%\n"
     ]
    }
   ],
   "source": [
    "linear_model(clf,e_x,e_y)"
   ]
  },
  {
   "cell_type": "markdown",
   "metadata": {},
   "source": [
    "## Experimental + must have features"
   ]
  },
  {
   "cell_type": "code",
   "execution_count": 9,
   "metadata": {},
   "outputs": [],
   "source": [
    "temp_em_df=em_df.drop([\"m_name\"],axis=1)\n",
    "em_y=temp_em_df[\"is_cns_molecule\"]\n",
    "em_x=temp_em_df.drop([\"is_cns_molecule\"],axis=1)"
   ]
  },
  {
   "cell_type": "code",
   "execution_count": 10,
   "metadata": {},
   "outputs": [
    {
     "name": "stdout",
     "output_type": "stream",
     "text": [
      "True positive 101\n",
      "False positive 12\n",
      "False negative 30\n",
      "True negative 45\n",
      "\n",
      "f1 score: 68.18181818181819%\n",
      "accuracy score: 77.6595744680851%\n"
     ]
    }
   ],
   "source": [
    "linear_model(clf,em_x,em_y)"
   ]
  },
  {
   "cell_type": "markdown",
   "metadata": {},
   "source": [
    "##  Experimental + must have features + possible features"
   ]
  },
  {
   "cell_type": "code",
   "execution_count": 11,
   "metadata": {},
   "outputs": [],
   "source": [
    "temp_emp_df=emp_df.drop([\"m_name\"],axis=1)\n",
    "emp_y=temp_emp_df[\"is_cns_molecule\"]\n",
    "emp_x=temp_emp_df.drop([\"is_cns_molecule\"],axis=1)"
   ]
  },
  {
   "cell_type": "code",
   "execution_count": 12,
   "metadata": {
    "scrolled": true
   },
   "outputs": [
    {
     "name": "stdout",
     "output_type": "stream",
     "text": [
      "True positive 98\n",
      "False positive 15\n",
      "False negative 28\n",
      "True negative 47\n",
      "\n",
      "f1 score: 68.61313868613139%\n",
      "accuracy score: 77.12765957446808%\n"
     ]
    }
   ],
   "source": [
    "linear_model(clf,emp_x,emp_y)"
   ]
  },
  {
   "cell_type": "markdown",
   "metadata": {},
   "source": [
    "# Best"
   ]
  },
  {
   "cell_type": "code",
   "execution_count": 13,
   "metadata": {},
   "outputs": [],
   "source": [
    "temp_best_df=best_df.drop([\"m_name\"],axis=1)\n",
    "best_y=temp_best_df[\"is_cns_molecule\"]\n",
    "best_x=temp_best_df.drop([\"is_cns_molecule\"],axis=1)"
   ]
  },
  {
   "cell_type": "code",
   "execution_count": 14,
   "metadata": {},
   "outputs": [
    {
     "name": "stdout",
     "output_type": "stream",
     "text": [
      "True positive 106\n",
      "False positive 7\n",
      "False negative 28\n",
      "True negative 47\n",
      "\n",
      "f1 score: 72.86821705426357%\n",
      "accuracy score: 81.38297872340425%\n"
     ]
    }
   ],
   "source": [
    "linear_model(clf,best_x,best_y)"
   ]
  },
  {
   "cell_type": "markdown",
   "metadata": {},
   "source": [
    "# CV linear model"
   ]
  },
  {
   "cell_type": "code",
   "execution_count": 15,
   "metadata": {},
   "outputs": [],
   "source": [
    "from sklearn.model_selection import cross_validate\n",
    "from sklearn.model_selection import KFold"
   ]
  },
  {
   "cell_type": "code",
   "execution_count": 16,
   "metadata": {},
   "outputs": [],
   "source": [
    "def print_results(cv):\n",
    "    keys=list(sorted(cv.keys()))\n",
    "    for i in keys:\n",
    "        print(\"Average: {}\".format(round(cv[i].mean(),4)))\n",
    "        print(\"{} -> {}\".format(i,cv[i]),end=\"\\n\\n\")"
   ]
  },
  {
   "cell_type": "code",
   "execution_count": 17,
   "metadata": {},
   "outputs": [],
   "source": [
    "clf = LinearSVC(random_state=0, tol=1e-5, dual=False)"
   ]
  },
  {
   "cell_type": "markdown",
   "metadata": {},
   "source": [
    "## Experimental features"
   ]
  },
  {
   "cell_type": "code",
   "execution_count": 18,
   "metadata": {},
   "outputs": [
    {
     "name": "stdout",
     "output_type": "stream",
     "text": [
      "Average: 0.0035\n",
      "fit_time -> [0.00497794 0.00299191 0.00398874 0.00299168 0.00299191 0.00299168\n",
      " 0.0039897  0.00299168 0.00299191 0.00398898]\n",
      "\n",
      "Average: 0.0076\n",
      "score_time -> [0.00897646 0.00797892 0.00698161 0.00797868 0.00797844 0.00698137\n",
      " 0.00797892 0.00698161 0.00698137 0.00698185]\n",
      "\n",
      "Average: 0.7606\n",
      "test_accuracy -> [0.76842105 0.72631579 0.77894737 0.75789474 0.74468085 0.79787234\n",
      " 0.72043011 0.76344086 0.79569892 0.75268817]\n",
      "\n",
      "Average: 0.693\n",
      "test_average_precision -> [0.71120921 0.75452623 0.60094624 0.6205017  0.68512058 0.74060313\n",
      " 0.697981   0.70164351 0.74325273 0.67446673]\n",
      "\n",
      "Average: 0.6126\n",
      "test_f1 -> [0.63333333 0.53571429 0.69565217 0.62295082 0.55555556 0.6984127\n",
      " 0.5        0.60714286 0.66666667 0.61016949]\n",
      "\n",
      "Average: 0.4444\n",
      "test_jaccard -> [0.46341463 0.36585366 0.53333333 0.45238095 0.38461538 0.53658537\n",
      " 0.33333333 0.43589744 0.5        0.43902439]\n",
      "\n",
      "Average: 0.5724\n",
      "test_recall -> [0.59375    0.46875    0.75       0.59375    0.46875    0.6875\n",
      " 0.41935484 0.5483871  0.61290323 0.58064516]\n",
      "\n",
      "Average: 0.8258\n",
      "test_roc_auc -> [0.84623016 0.8422619  0.81746032 0.81894841 0.80796371 0.85534274\n",
      " 0.81373569 0.82258065 0.84859521 0.78511967]\n",
      "\n"
     ]
    }
   ],
   "source": [
    "cv_results_e = cross_validate(clf, e_x, e_y, cv=10,scoring=('accuracy','average_precision',\n",
    "                                                           'f1','jaccard','recall','roc_auc'))\n",
    "print_results(cv_results_e)"
   ]
  },
  {
   "cell_type": "markdown",
   "metadata": {},
   "source": [
    "##  Experimental + must have features"
   ]
  },
  {
   "cell_type": "code",
   "execution_count": 19,
   "metadata": {},
   "outputs": [
    {
     "name": "stdout",
     "output_type": "stream",
     "text": [
      "Average: 0.0036\n",
      "fit_time -> [0.00597286 0.00399089 0.00398922 0.00299191 0.0029912  0.00299191\n",
      " 0.00398803 0.00299168 0.00299168 0.00299191]\n",
      "\n",
      "Average: 0.0076\n",
      "score_time -> [0.00797749 0.00797725 0.00800467 0.00795364 0.00698161 0.00897717\n",
      " 0.00698161 0.00698161 0.00698161 0.00698137]\n",
      "\n",
      "Average: 0.7617\n",
      "test_accuracy -> [0.76842105 0.72631579 0.77894737 0.75789474 0.74468085 0.79787234\n",
      " 0.7311828  0.76344086 0.79569892 0.75268817]\n",
      "\n",
      "Average: 0.6922\n",
      "test_average_precision -> [0.70631775 0.75452623 0.59872542 0.61764345 0.68471678 0.74175445\n",
      " 0.68622402 0.70384293 0.74563918 0.68249822]\n",
      "\n",
      "Average: 0.6154\n",
      "test_f1 -> [0.63333333 0.53571429 0.69565217 0.62295082 0.55555556 0.6984127\n",
      " 0.52830189 0.60714286 0.66666667 0.61016949]\n",
      "\n",
      "Average: 0.447\n",
      "test_jaccard -> [0.46341463 0.36585366 0.53333333 0.45238095 0.38461538 0.53658537\n",
      " 0.35897436 0.43589744 0.5        0.43902439]\n",
      "\n",
      "Average: 0.5756\n",
      "test_recall -> [0.59375    0.46875    0.75       0.59375    0.46875    0.6875\n",
      " 0.4516129  0.5483871  0.61290323 0.58064516]\n",
      "\n",
      "Average: 0.8246\n",
      "test_roc_auc -> [0.84375    0.8422619  0.81597222 0.81696429 0.80897177 0.85584677\n",
      " 0.80593132 0.82310094 0.84599376 0.78720083]\n",
      "\n"
     ]
    }
   ],
   "source": [
    "cv_results_em = cross_validate(clf, em_x, em_y, cv=10,scoring=('accuracy','average_precision',\n",
    "                                                           'f1','jaccard','recall','roc_auc'))\n",
    "print_results(cv_results_em)"
   ]
  },
  {
   "cell_type": "markdown",
   "metadata": {},
   "source": [
    "## Experimental + must have features + possible features"
   ]
  },
  {
   "cell_type": "code",
   "execution_count": 20,
   "metadata": {},
   "outputs": [
    {
     "name": "stdout",
     "output_type": "stream",
     "text": [
      "Average: 0.0078\n",
      "fit_time -> [0.01096988 0.0069809  0.0079782  0.00598383 0.0069809  0.00897527\n",
      " 0.0079782  0.00698066 0.00700784 0.0079782 ]\n",
      "\n",
      "Average: 0.0072\n",
      "score_time -> [0.00698137 0.00698185 0.00698161 0.00797892 0.00797939 0.00698161\n",
      " 0.00698209 0.00698137 0.00698161 0.0069828 ]\n",
      "\n",
      "Average: 0.782\n",
      "test_accuracy -> [0.74736842 0.76842105 0.78947368 0.78947368 0.72340426 0.81914894\n",
      " 0.76344086 0.82795699 0.80645161 0.78494624]\n",
      "\n",
      "Average: 0.7135\n",
      "test_average_precision -> [0.70973517 0.77556357 0.60977542 0.60683099 0.70256433 0.77345534\n",
      " 0.69101679 0.74918824 0.81991303 0.69715822]\n",
      "\n",
      "Average: 0.6533\n",
      "test_f1 -> [0.5862069  0.60714286 0.70588235 0.70588235 0.51851852 0.73846154\n",
      " 0.59259259 0.73333333 0.67857143 0.66666667]\n",
      "\n",
      "Average: 0.489\n",
      "test_jaccard -> [0.41463415 0.43589744 0.54545455 0.54545455 0.35       0.58536585\n",
      " 0.42105263 0.57894737 0.51351351 0.5       ]\n",
      "\n",
      "Average: 0.6234\n",
      "test_recall -> [0.53125    0.53125    0.75       0.75       0.4375     0.75\n",
      " 0.51612903 0.70967742 0.61290323 0.64516129]\n",
      "\n",
      "Average: 0.8346\n",
      "test_roc_auc -> [0.83184524 0.84821429 0.83581349 0.82490079 0.80443548 0.87147177\n",
      " 0.82258065 0.84131113 0.87513007 0.78980229]\n",
      "\n"
     ]
    }
   ],
   "source": [
    "cv_results_emp = cross_validate(clf, emp_x, emp_y, cv=10,scoring=('accuracy','average_precision',\n",
    "                                                           'f1','jaccard','recall','roc_auc'))\n",
    "print_results(cv_results_emp)"
   ]
  },
  {
   "cell_type": "markdown",
   "metadata": {},
   "source": [
    "# Best"
   ]
  },
  {
   "cell_type": "code",
   "execution_count": 21,
   "metadata": {},
   "outputs": [
    {
     "name": "stdout",
     "output_type": "stream",
     "text": [
      "Average: 0.0106\n",
      "fit_time -> [0.01495671 0.01097012 0.00997281 0.01098013 0.01097035 0.01001382\n",
      " 0.00897598 0.00997186 0.00897646 0.00997329]\n",
      "\n",
      "Average: 0.0064\n",
      "score_time -> [0.00698161 0.00598454 0.00598454 0.00597453 0.00698161 0.00698018\n",
      " 0.00598526 0.00598407 0.00598311 0.00698066]\n",
      "\n",
      "Average: 0.8234\n",
      "test_accuracy -> [0.78947368 0.85263158 0.83157895 0.84210526 0.80851064 0.82978723\n",
      " 0.76344086 0.84946237 0.86021505 0.80645161]\n",
      "\n",
      "Average: 0.7903\n",
      "test_average_precision -> [0.80737829 0.82520484 0.71593138 0.71134844 0.79673592 0.72086982\n",
      " 0.76280949 0.88538235 0.85271397 0.82470511]\n",
      "\n",
      "Average: 0.7207\n",
      "test_f1 -> [0.64285714 0.75862069 0.75757576 0.78873239 0.68965517 0.75\n",
      " 0.60714286 0.74074074 0.77192982 0.7       ]\n",
      "\n",
      "Average: 0.5663\n",
      "test_jaccard -> [0.47368421 0.61111111 0.6097561  0.65116279 0.52631579 0.6\n",
      " 0.43589744 0.58823529 0.62857143 0.53846154]\n",
      "\n",
      "Average: 0.6862\n",
      "test_recall -> [0.5625     0.6875     0.78125    0.875      0.625      0.75\n",
      " 0.5483871  0.64516129 0.70967742 0.67741935]\n",
      "\n",
      "Average: 0.8805\n",
      "test_roc_auc -> [0.87698413 0.89831349 0.87400794 0.87549603 0.86441532 0.87197581\n",
      " 0.86264308 0.90634755 0.90270552 0.87200832]\n",
      "\n"
     ]
    }
   ],
   "source": [
    "cv_results_best = cross_validate(clf, best_x, best_y, cv=10,scoring=('accuracy','average_precision',\n",
    "                                                           'f1','jaccard','recall','roc_auc'))\n",
    "print_results(cv_results_best)"
   ]
  }
 ],
 "metadata": {
  "kernelspec": {
   "display_name": "Python 3",
   "language": "python",
   "name": "python3"
  },
  "language_info": {
   "codemirror_mode": {
    "name": "ipython",
    "version": 3
   },
   "file_extension": ".py",
   "mimetype": "text/x-python",
   "name": "python",
   "nbconvert_exporter": "python",
   "pygments_lexer": "ipython3",
   "version": "3.7.4"
  },
  "latex_envs": {
   "LaTeX_envs_menu_present": true,
   "autoclose": false,
   "autocomplete": true,
   "bibliofile": "biblio.bib",
   "cite_by": "apalike",
   "current_citInitial": 1,
   "eqLabelWithNumbers": true,
   "eqNumInitial": 1,
   "hotkeys": {
    "equation": "Ctrl-E",
    "itemize": "Ctrl-I"
   },
   "labels_anchors": false,
   "latex_user_defs": false,
   "report_style_numbering": false,
   "user_envs_cfg": false
  }
 },
 "nbformat": 4,
 "nbformat_minor": 2
}
