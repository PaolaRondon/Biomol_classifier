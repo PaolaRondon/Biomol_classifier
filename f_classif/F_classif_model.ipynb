{
 "cells": [
  {
   "cell_type": "markdown",
   "metadata": {},
   "source": [
    "# Basic imports"
   ]
  },
  {
   "cell_type": "code",
   "execution_count": 1,
   "metadata": {},
   "outputs": [],
   "source": [
    "import pandas as pd\n",
    "import numpy as np\n",
    "import os\n",
    "import matplotlib.pyplot as plt\n",
    "%matplotlib inline \n",
    "plt.rcParams.update({'figure.max_open_warning': 0})"
   ]
  },
  {
   "cell_type": "code",
   "execution_count": 2,
   "metadata": {},
   "outputs": [],
   "source": [
    "current_path = os.getcwd()\n",
    "root_path=current_path.replace('\\\\f_classif','')"
   ]
  },
  {
   "cell_type": "markdown",
   "metadata": {},
   "source": [
    "# Loading dataframes"
   ]
  },
  {
   "cell_type": "code",
   "execution_count": 3,
   "metadata": {},
   "outputs": [],
   "source": [
    "e_df=pd.read_csv(root_path+\"\\e_molecules.csv\", sep=\"\\t\")\n",
    "em_df=pd.read_csv(\"f_classif_em_molecules.csv\", sep=\"\\t\")\n",
    "emp_df=pd.read_csv(\"f_classif_emp_molecules.csv\", sep=\"\\t\")\n",
    "best_df=pd.read_csv(\"f_classif_best.csv\", sep=\"\\t\")"
   ]
  },
  {
   "cell_type": "markdown",
   "metadata": {},
   "source": [
    "# Model imports"
   ]
  },
  {
   "cell_type": "code",
   "execution_count": 4,
   "metadata": {},
   "outputs": [],
   "source": [
    "from sklearn.model_selection import train_test_split\n",
    "from sklearn.metrics import confusion_matrix\n",
    "from sklearn.metrics import f1_score\n",
    "from sklearn.metrics import accuracy_score\n",
    "from sklearn.svm import LinearSVC"
   ]
  },
  {
   "cell_type": "markdown",
   "metadata": {},
   "source": [
    "# Linear model"
   ]
  },
  {
   "cell_type": "markdown",
   "metadata": {},
   "source": [
    " When dual=False the underlying implementation of LinearSVC is not random and random_state has no effect on the results."
   ]
  },
  {
   "cell_type": "code",
   "execution_count": 5,
   "metadata": {},
   "outputs": [],
   "source": [
    "clf = LinearSVC(random_state=0, tol=1e-5, dual=False)"
   ]
  },
  {
   "cell_type": "code",
   "execution_count": 6,
   "metadata": {},
   "outputs": [],
   "source": [
    "def linear_model(model,data,prediction,testing_size=0.2):\n",
    "    \n",
    "    def print_model_scores(y_test,predicted):\n",
    "        matrix=confusion_matrix(y_test,predicted)\n",
    "        matrix_labels=[[\"True positive\",\"False positive\"],\n",
    "                       [\"False negative\",\"True negative\"]]\n",
    "\n",
    "        for i in range(2):\n",
    "            for j in range(2):\n",
    "                print(\"{} {}\".format(matrix_labels[i][j],matrix[i][j]))\n",
    "\n",
    "        print(\"\\nf1 score: {}%\".format(f1_score(y_test,predicted)*100)) \n",
    "        print(\"accuracy score: {}%\".format(accuracy_score(y_test,predicted)*100)) \n",
    "    \n",
    "    x_train, x_test, y_train, y_test=train_test_split(data,prediction,random_state=0,test_size=testing_size)    \n",
    "    clf.fit(x_train,y_train)\n",
    "    predicted=clf.predict(x_test)\n",
    "    print_model_scores(y_test,predicted)   "
   ]
  },
  {
   "cell_type": "markdown",
   "metadata": {},
   "source": [
    "## Experimental features"
   ]
  },
  {
   "cell_type": "code",
   "execution_count": 7,
   "metadata": {},
   "outputs": [],
   "source": [
    "temp_e_df=e_df.drop([\"m_name\"],axis=1)\n",
    "e_y=temp_e_df[\"is_cns_molecule\"]\n",
    "e_x=temp_e_df.drop([\"is_cns_molecule\"],axis=1)"
   ]
  },
  {
   "cell_type": "code",
   "execution_count": 8,
   "metadata": {},
   "outputs": [
    {
     "name": "stdout",
     "output_type": "stream",
     "text": [
      "True positive 100\n",
      "False positive 13\n",
      "False negative 42\n",
      "True negative 33\n",
      "\n",
      "f1 score: 54.54545454545454%\n",
      "accuracy score: 70.74468085106383%\n"
     ]
    }
   ],
   "source": [
    "linear_model(clf,e_x,e_y)"
   ]
  },
  {
   "cell_type": "markdown",
   "metadata": {},
   "source": [
    "## Experimental + must have features"
   ]
  },
  {
   "cell_type": "code",
   "execution_count": 9,
   "metadata": {},
   "outputs": [],
   "source": [
    "temp_em_df=em_df.drop([\"m_name\"],axis=1)\n",
    "em_y=temp_em_df[\"is_cns_molecule\"]\n",
    "em_x=temp_em_df.drop([\"is_cns_molecule\"],axis=1)"
   ]
  },
  {
   "cell_type": "code",
   "execution_count": 10,
   "metadata": {},
   "outputs": [
    {
     "name": "stdout",
     "output_type": "stream",
     "text": [
      "True positive 101\n",
      "False positive 12\n",
      "False negative 30\n",
      "True negative 45\n",
      "\n",
      "f1 score: 68.18181818181819%\n",
      "accuracy score: 77.6595744680851%\n"
     ]
    }
   ],
   "source": [
    "linear_model(clf,em_x,em_y)"
   ]
  },
  {
   "cell_type": "markdown",
   "metadata": {},
   "source": [
    "##  Experimental + must have features + possible features"
   ]
  },
  {
   "cell_type": "code",
   "execution_count": 11,
   "metadata": {},
   "outputs": [],
   "source": [
    "temp_emp_df=emp_df.drop([\"m_name\"],axis=1)\n",
    "emp_y=temp_emp_df[\"is_cns_molecule\"]\n",
    "emp_x=temp_emp_df.drop([\"is_cns_molecule\"],axis=1)"
   ]
  },
  {
   "cell_type": "code",
   "execution_count": 12,
   "metadata": {
    "scrolled": true
   },
   "outputs": [
    {
     "name": "stdout",
     "output_type": "stream",
     "text": [
      "True positive 99\n",
      "False positive 14\n",
      "False negative 29\n",
      "True negative 46\n",
      "\n",
      "f1 score: 68.14814814814815%\n",
      "accuracy score: 77.12765957446808%\n"
     ]
    }
   ],
   "source": [
    "linear_model(clf,emp_x,emp_y)"
   ]
  },
  {
   "cell_type": "markdown",
   "metadata": {},
   "source": [
    "# Best"
   ]
  },
  {
   "cell_type": "code",
   "execution_count": 13,
   "metadata": {},
   "outputs": [],
   "source": [
    "temp_best_df=best_df.drop([\"m_name\"],axis=1)\n",
    "best_y=temp_best_df[\"is_cns_molecule\"]\n",
    "best_x=temp_best_df.drop([\"is_cns_molecule\"],axis=1)"
   ]
  },
  {
   "cell_type": "code",
   "execution_count": 14,
   "metadata": {},
   "outputs": [
    {
     "name": "stdout",
     "output_type": "stream",
     "text": [
      "True positive 106\n",
      "False positive 7\n",
      "False negative 28\n",
      "True negative 47\n",
      "\n",
      "f1 score: 72.86821705426357%\n",
      "accuracy score: 81.38297872340425%\n"
     ]
    }
   ],
   "source": [
    "linear_model(clf,best_x,best_y)"
   ]
  },
  {
   "cell_type": "markdown",
   "metadata": {},
   "source": [
    "# CV linear model"
   ]
  },
  {
   "cell_type": "code",
   "execution_count": 15,
   "metadata": {},
   "outputs": [],
   "source": [
    "from sklearn.model_selection import cross_validate\n",
    "from sklearn.model_selection import KFold"
   ]
  },
  {
   "cell_type": "code",
   "execution_count": 16,
   "metadata": {},
   "outputs": [],
   "source": [
    "def print_results(cv):\n",
    "    keys=list(sorted(cv.keys()))\n",
    "    for i in keys:\n",
    "        print(\"Average: {}\".format(round(cv[i].mean(),4)))\n",
    "        print(\"{} -> {}\".format(i,cv[i]),end=\"\\n\\n\")"
   ]
  },
  {
   "cell_type": "code",
   "execution_count": 17,
   "metadata": {},
   "outputs": [],
   "source": [
    "clf = LinearSVC(random_state=0, tol=1e-5, dual=False)"
   ]
  },
  {
   "cell_type": "markdown",
   "metadata": {},
   "source": [
    "## Experimental features"
   ]
  },
  {
   "cell_type": "code",
   "execution_count": 18,
   "metadata": {},
   "outputs": [
    {
     "name": "stdout",
     "output_type": "stream",
     "text": [
      "Average: 0.0032\n",
      "fit_time -> [0.00402975 0.00299239 0.00299478 0.00394988 0.00297546 0.00299191\n",
      " 0.00299239 0.00299239 0.00299215 0.00299168]\n",
      "\n",
      "Average: 0.0074\n",
      "score_time -> [0.00897145 0.00797915 0.00698185 0.00700617 0.00698185 0.00797796\n",
      " 0.00698233 0.00698256 0.00695634 0.00698018]\n",
      "\n",
      "Average: 0.7127\n",
      "test_accuracy -> [0.70526316 0.72631579 0.72631579 0.68421053 0.74468085 0.75531915\n",
      " 0.64516129 0.70967742 0.72043011 0.70967742]\n",
      "\n",
      "Average: 0.6259\n",
      "test_average_precision -> [0.60377854 0.69527613 0.55523182 0.62929819 0.65572762 0.69821848\n",
      " 0.560444   0.67506146 0.63457986 0.55150016]\n",
      "\n",
      "Average: 0.5299\n",
      "test_f1 -> [0.5        0.53571429 0.58064516 0.46428571 0.52       0.59649123\n",
      " 0.42105263 0.55737705 0.55172414 0.57142857]\n",
      "\n",
      "Average: 0.3621\n",
      "test_jaccard -> [0.33333333 0.36585366 0.40909091 0.30232558 0.35135135 0.425\n",
      " 0.26666667 0.38636364 0.38095238 0.4       ]\n",
      "\n",
      "Average: 0.4845\n",
      "test_recall -> [0.4375     0.46875    0.5625     0.40625    0.40625    0.53125\n",
      " 0.38709677 0.5483871  0.51612903 0.58064516]\n",
      "\n",
      "Average: 0.7879\n",
      "test_roc_auc -> [0.78472222 0.78769841 0.78918651 0.81349206 0.80241935 0.83921371\n",
      " 0.74141519 0.78876171 0.80437045 0.72788762]\n",
      "\n"
     ]
    }
   ],
   "source": [
    "cv_results_e = cross_validate(clf, e_x, e_y, cv=10,scoring=('accuracy','average_precision',\n",
    "                                                           'f1','jaccard','recall','roc_auc'))\n",
    "print_results(cv_results_e)"
   ]
  },
  {
   "cell_type": "markdown",
   "metadata": {},
   "source": [
    "##  Experimental + must have features"
   ]
  },
  {
   "cell_type": "code",
   "execution_count": 19,
   "metadata": {},
   "outputs": [
    {
     "name": "stdout",
     "output_type": "stream",
     "text": [
      "Average: 0.0044\n",
      "fit_time -> [0.00700498 0.00502753 0.0039916  0.00397849 0.00400257 0.00397682\n",
      " 0.00398898 0.00398946 0.00398946 0.00398993]\n",
      "\n",
      "Average: 0.0073\n",
      "score_time -> [0.00795436 0.00797319 0.0069797  0.0079782  0.00698113 0.00698137\n",
      " 0.00698113 0.00698113 0.00698113 0.00698137]\n",
      "\n",
      "Average: 0.7617\n",
      "test_accuracy -> [0.76842105 0.72631579 0.77894737 0.75789474 0.74468085 0.79787234\n",
      " 0.7311828  0.76344086 0.79569892 0.75268817]\n",
      "\n",
      "Average: 0.6924\n",
      "test_average_precision -> [0.70780134 0.75452623 0.59872542 0.61764345 0.68471678 0.74175445\n",
      " 0.68665269 0.70384293 0.74563918 0.68249822]\n",
      "\n",
      "Average: 0.6154\n",
      "test_f1 -> [0.63333333 0.53571429 0.69565217 0.62295082 0.55555556 0.6984127\n",
      " 0.52830189 0.60714286 0.66666667 0.61016949]\n",
      "\n",
      "Average: 0.447\n",
      "test_jaccard -> [0.46341463 0.36585366 0.53333333 0.45238095 0.38461538 0.53658537\n",
      " 0.35897436 0.43589744 0.5        0.43902439]\n",
      "\n",
      "Average: 0.5756\n",
      "test_recall -> [0.59375    0.46875    0.75       0.59375    0.46875    0.6875\n",
      " 0.4516129  0.5483871  0.61290323 0.58064516]\n",
      "\n",
      "Average: 0.8248\n",
      "test_roc_auc -> [0.84474206 0.8422619  0.81597222 0.81696429 0.80897177 0.85584677\n",
      " 0.80645161 0.82310094 0.84599376 0.78720083]\n",
      "\n"
     ]
    }
   ],
   "source": [
    "cv_results_em = cross_validate(clf, em_x, em_y, cv=10,scoring=('accuracy','average_precision',\n",
    "                                                           'f1','jaccard','recall','roc_auc'))\n",
    "print_results(cv_results_em)"
   ]
  },
  {
   "cell_type": "markdown",
   "metadata": {},
   "source": [
    "## Experimental + must have features + possible features"
   ]
  },
  {
   "cell_type": "code",
   "execution_count": 20,
   "metadata": {},
   "outputs": [
    {
     "name": "stdout",
     "output_type": "stream",
     "text": [
      "Average: 0.0067\n",
      "fit_time -> [0.01000667 0.00798631 0.00594735 0.00598526 0.00598431 0.00598502\n",
      " 0.00598192 0.00598335 0.00698113 0.00598097]\n",
      "\n",
      "Average: 0.0075\n",
      "score_time -> [0.00897455 0.00797486 0.00801969 0.0069685  0.00698113 0.00797868\n",
      " 0.00698161 0.00698137 0.00698161 0.00698066]\n",
      "\n",
      "Average: 0.7767\n",
      "test_accuracy -> [0.73684211 0.77894737 0.8        0.74736842 0.73404255 0.82978723\n",
      " 0.75268817 0.79569892 0.80645161 0.78494624]\n",
      "\n",
      "Average: 0.715\n",
      "test_average_precision -> [0.71722328 0.76990851 0.62842304 0.60069288 0.70756533 0.79553289\n",
      " 0.6836331  0.74325698 0.81444399 0.68931132]\n",
      "\n",
      "Average: 0.644\n",
      "test_f1 -> [0.56140351 0.63157895 0.71641791 0.64705882 0.54545455 0.73333333\n",
      " 0.58181818 0.6779661  0.67857143 0.66666667]\n",
      "\n",
      "Average: 0.4779\n",
      "test_jaccard -> [0.3902439  0.46153846 0.55813953 0.47826087 0.375      0.57894737\n",
      " 0.41025641 0.51282051 0.51351351 0.5       ]\n",
      "\n",
      "Average: 0.6076\n",
      "test_recall -> [0.5        0.5625     0.75       0.6875     0.46875    0.6875\n",
      " 0.51612903 0.64516129 0.61290323 0.64516129]\n",
      "\n",
      "Average: 0.8358\n",
      "test_roc_auc -> [0.83382937 0.84771825 0.84474206 0.82242063 0.80342742 0.88306452\n",
      " 0.81997919 0.83766909 0.87617066 0.78876171]\n",
      "\n"
     ]
    }
   ],
   "source": [
    "cv_results_emp = cross_validate(clf, emp_x, emp_y, cv=10,scoring=('accuracy','average_precision',\n",
    "                                                           'f1','jaccard','recall','roc_auc'))\n",
    "print_results(cv_results_emp)"
   ]
  },
  {
   "cell_type": "markdown",
   "metadata": {},
   "source": [
    "# Best"
   ]
  },
  {
   "cell_type": "code",
   "execution_count": 21,
   "metadata": {},
   "outputs": [
    {
     "name": "stdout",
     "output_type": "stream",
     "text": [
      "Average: 0.0119\n",
      "fit_time -> [0.01299214 0.01196814 0.01196671 0.01200771 0.01296496 0.01396465\n",
      " 0.01097322 0.01095772 0.009974   0.01097107]\n",
      "\n",
      "Average: 0.0072\n",
      "score_time -> [0.00797939 0.00797963 0.00894976 0.00897694 0.00697875 0.00696731\n",
      " 0.00598383 0.00598383 0.00598812 0.00598502]\n",
      "\n",
      "Average: 0.8234\n",
      "test_accuracy -> [0.78947368 0.85263158 0.83157895 0.84210526 0.80851064 0.82978723\n",
      " 0.76344086 0.84946237 0.86021505 0.80645161]\n",
      "\n",
      "Average: 0.7902\n",
      "test_average_precision -> [0.80737829 0.82520484 0.71593138 0.71134844 0.79673592 0.72099678\n",
      " 0.76280949 0.88538235 0.85271397 0.82354427]\n",
      "\n",
      "Average: 0.7207\n",
      "test_f1 -> [0.64285714 0.75862069 0.75757576 0.78873239 0.68965517 0.75\n",
      " 0.60714286 0.74074074 0.77192982 0.7       ]\n",
      "\n",
      "Average: 0.5663\n",
      "test_jaccard -> [0.47368421 0.61111111 0.6097561  0.65116279 0.52631579 0.6\n",
      " 0.43589744 0.58823529 0.62857143 0.53846154]\n",
      "\n",
      "Average: 0.6862\n",
      "test_recall -> [0.5625     0.6875     0.78125    0.875      0.625      0.75\n",
      " 0.5483871  0.64516129 0.70967742 0.67741935]\n",
      "\n",
      "Average: 0.8804\n",
      "test_roc_auc -> [0.87698413 0.89831349 0.87400794 0.87549603 0.86441532 0.87197581\n",
      " 0.86264308 0.90634755 0.90270552 0.87096774]\n",
      "\n"
     ]
    }
   ],
   "source": [
    "cv_results_best = cross_validate(clf, best_x, best_y, cv=10,scoring=('accuracy','average_precision',\n",
    "                                                           'f1','jaccard','recall','roc_auc'))\n",
    "print_results(cv_results_best)"
   ]
  }
 ],
 "metadata": {
  "kernelspec": {
   "display_name": "Python 3",
   "language": "python",
   "name": "python3"
  },
  "language_info": {
   "codemirror_mode": {
    "name": "ipython",
    "version": 3
   },
   "file_extension": ".py",
   "mimetype": "text/x-python",
   "name": "python",
   "nbconvert_exporter": "python",
   "pygments_lexer": "ipython3",
   "version": "3.7.4"
  },
  "latex_envs": {
   "LaTeX_envs_menu_present": true,
   "autoclose": false,
   "autocomplete": true,
   "bibliofile": "biblio.bib",
   "cite_by": "apalike",
   "current_citInitial": 1,
   "eqLabelWithNumbers": true,
   "eqNumInitial": 1,
   "hotkeys": {
    "equation": "Ctrl-E",
    "itemize": "Ctrl-I"
   },
   "labels_anchors": false,
   "latex_user_defs": false,
   "report_style_numbering": false,
   "user_envs_cfg": false
  }
 },
 "nbformat": 4,
 "nbformat_minor": 2
}
