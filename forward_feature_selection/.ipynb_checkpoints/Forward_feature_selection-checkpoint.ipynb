{
 "cells": [
  {
   "cell_type": "markdown",
   "metadata": {},
   "source": [
    "# Basic imports"
   ]
  },
  {
   "cell_type": "code",
   "execution_count": 1,
   "metadata": {},
   "outputs": [],
   "source": [
    "import pandas as pd\n",
    "import numpy as np\n",
    "import os\n",
    "import operator\n",
    "import statistics\n",
    "import matplotlib.pyplot as plt\n",
    "%matplotlib inline \n",
    "plt.rcParams.update({'figure.max_open_warning': 0})"
   ]
  },
  {
   "cell_type": "code",
   "execution_count": 2,
   "metadata": {},
   "outputs": [],
   "source": [
    "current_path = os.getcwd()\n",
    "root_path=current_path.replace('\\\\forward_feature_selection','')"
   ]
  },
  {
   "cell_type": "markdown",
   "metadata": {},
   "source": [
    "# Loading dataframe"
   ]
  },
  {
   "cell_type": "code",
   "execution_count": 3,
   "metadata": {},
   "outputs": [
    {
     "data": {
      "text/html": [
       "<div>\n",
       "<style scoped>\n",
       "    .dataframe tbody tr th:only-of-type {\n",
       "        vertical-align: middle;\n",
       "    }\n",
       "\n",
       "    .dataframe tbody tr th {\n",
       "        vertical-align: top;\n",
       "    }\n",
       "\n",
       "    .dataframe thead th {\n",
       "        text-align: right;\n",
       "    }\n",
       "</style>\n",
       "<table border=\"1\" class=\"dataframe\">\n",
       "  <thead>\n",
       "    <tr style=\"text-align: right;\">\n",
       "      <th></th>\n",
       "      <th>m_name</th>\n",
       "      <th>n_atoms_without_Hydrogen</th>\n",
       "      <th>n_atoms_with_Hydrogen</th>\n",
       "      <th>m_weight</th>\n",
       "      <th>m_avg_weigth</th>\n",
       "      <th>m_weigth_without_Hydrogen</th>\n",
       "      <th>n_radical_electrons</th>\n",
       "      <th>n_valence_electrons</th>\n",
       "      <th>n_aliphatic_carbocycles</th>\n",
       "      <th>n_aliphatic_heterocycles</th>\n",
       "      <th>...</th>\n",
       "      <th>n_Hydrogen_acceptors</th>\n",
       "      <th>n_Hydrogen_donnors</th>\n",
       "      <th>n_briged_head_atoms</th>\n",
       "      <th>n_atoms_stereo_centers</th>\n",
       "      <th>n_atoms_unspecified_stereo_centers</th>\n",
       "      <th>n_spiro_atoms</th>\n",
       "      <th>m_logp</th>\n",
       "      <th>m_mr</th>\n",
       "      <th>fraction_CSP3</th>\n",
       "      <th>is_cns_molecule</th>\n",
       "    </tr>\n",
       "  </thead>\n",
       "  <tbody>\n",
       "    <tr>\n",
       "      <td>0</td>\n",
       "      <td>BUMETANIDE</td>\n",
       "      <td>25</td>\n",
       "      <td>45</td>\n",
       "      <td>364.109293</td>\n",
       "      <td>344.263</td>\n",
       "      <td>364.423</td>\n",
       "      <td>0</td>\n",
       "      <td>134</td>\n",
       "      <td>0</td>\n",
       "      <td>0</td>\n",
       "      <td>...</td>\n",
       "      <td>5</td>\n",
       "      <td>3</td>\n",
       "      <td>0</td>\n",
       "      <td>0</td>\n",
       "      <td>0</td>\n",
       "      <td>0</td>\n",
       "      <td>3.0365</td>\n",
       "      <td>94.6882</td>\n",
       "      <td>0.235294</td>\n",
       "      <td>0</td>\n",
       "    </tr>\n",
       "    <tr>\n",
       "      <td>1</td>\n",
       "      <td>BACLOFEN</td>\n",
       "      <td>14</td>\n",
       "      <td>26</td>\n",
       "      <td>213.055656</td>\n",
       "      <td>201.568</td>\n",
       "      <td>213.664</td>\n",
       "      <td>0</td>\n",
       "      <td>76</td>\n",
       "      <td>0</td>\n",
       "      <td>0</td>\n",
       "      <td>...</td>\n",
       "      <td>2</td>\n",
       "      <td>2</td>\n",
       "      <td>0</td>\n",
       "      <td>1</td>\n",
       "      <td>1</td>\n",
       "      <td>0</td>\n",
       "      <td>1.8570</td>\n",
       "      <td>55.5002</td>\n",
       "      <td>0.300000</td>\n",
       "      <td>1</td>\n",
       "    </tr>\n",
       "    <tr>\n",
       "      <td>2</td>\n",
       "      <td>METYRAPONE</td>\n",
       "      <td>17</td>\n",
       "      <td>31</td>\n",
       "      <td>226.110613</td>\n",
       "      <td>212.167</td>\n",
       "      <td>226.279</td>\n",
       "      <td>0</td>\n",
       "      <td>86</td>\n",
       "      <td>0</td>\n",
       "      <td>0</td>\n",
       "      <td>...</td>\n",
       "      <td>3</td>\n",
       "      <td>0</td>\n",
       "      <td>0</td>\n",
       "      <td>0</td>\n",
       "      <td>0</td>\n",
       "      <td>0</td>\n",
       "      <td>2.6371</td>\n",
       "      <td>65.8305</td>\n",
       "      <td>0.214286</td>\n",
       "      <td>0</td>\n",
       "    </tr>\n",
       "    <tr>\n",
       "      <td>3</td>\n",
       "      <td>METHYLPHENOBARBITAL</td>\n",
       "      <td>18</td>\n",
       "      <td>32</td>\n",
       "      <td>246.100442</td>\n",
       "      <td>232.154</td>\n",
       "      <td>246.266</td>\n",
       "      <td>0</td>\n",
       "      <td>94</td>\n",
       "      <td>0</td>\n",
       "      <td>1</td>\n",
       "      <td>...</td>\n",
       "      <td>3</td>\n",
       "      <td>1</td>\n",
       "      <td>0</td>\n",
       "      <td>1</td>\n",
       "      <td>1</td>\n",
       "      <td>0</td>\n",
       "      <td>1.0426</td>\n",
       "      <td>64.7197</td>\n",
       "      <td>0.307692</td>\n",
       "      <td>1</td>\n",
       "    </tr>\n",
       "    <tr>\n",
       "      <td>4</td>\n",
       "      <td>DULOXETINE</td>\n",
       "      <td>21</td>\n",
       "      <td>40</td>\n",
       "      <td>297.118735</td>\n",
       "      <td>278.271</td>\n",
       "      <td>297.423</td>\n",
       "      <td>0</td>\n",
       "      <td>108</td>\n",
       "      <td>0</td>\n",
       "      <td>0</td>\n",
       "      <td>...</td>\n",
       "      <td>3</td>\n",
       "      <td>1</td>\n",
       "      <td>0</td>\n",
       "      <td>1</td>\n",
       "      <td>1</td>\n",
       "      <td>0</td>\n",
       "      <td>4.6309</td>\n",
       "      <td>90.1797</td>\n",
       "      <td>0.222222</td>\n",
       "      <td>1</td>\n",
       "    </tr>\n",
       "  </tbody>\n",
       "</table>\n",
       "<p>5 rows × 38 columns</p>\n",
       "</div>"
      ],
      "text/plain": [
       "                m_name  n_atoms_without_Hydrogen  n_atoms_with_Hydrogen  \\\n",
       "0           BUMETANIDE                        25                     45   \n",
       "1             BACLOFEN                        14                     26   \n",
       "2           METYRAPONE                        17                     31   \n",
       "3  METHYLPHENOBARBITAL                        18                     32   \n",
       "4           DULOXETINE                        21                     40   \n",
       "\n",
       "     m_weight  m_avg_weigth  m_weigth_without_Hydrogen  n_radical_electrons  \\\n",
       "0  364.109293       344.263                    364.423                    0   \n",
       "1  213.055656       201.568                    213.664                    0   \n",
       "2  226.110613       212.167                    226.279                    0   \n",
       "3  246.100442       232.154                    246.266                    0   \n",
       "4  297.118735       278.271                    297.423                    0   \n",
       "\n",
       "   n_valence_electrons  n_aliphatic_carbocycles  n_aliphatic_heterocycles  \\\n",
       "0                  134                        0                         0   \n",
       "1                   76                        0                         0   \n",
       "2                   86                        0                         0   \n",
       "3                   94                        0                         1   \n",
       "4                  108                        0                         0   \n",
       "\n",
       "   ...  n_Hydrogen_acceptors  n_Hydrogen_donnors  n_briged_head_atoms  \\\n",
       "0  ...                     5                   3                    0   \n",
       "1  ...                     2                   2                    0   \n",
       "2  ...                     3                   0                    0   \n",
       "3  ...                     3                   1                    0   \n",
       "4  ...                     3                   1                    0   \n",
       "\n",
       "   n_atoms_stereo_centers  n_atoms_unspecified_stereo_centers  n_spiro_atoms  \\\n",
       "0                       0                                   0              0   \n",
       "1                       1                                   1              0   \n",
       "2                       0                                   0              0   \n",
       "3                       1                                   1              0   \n",
       "4                       1                                   1              0   \n",
       "\n",
       "   m_logp     m_mr  fraction_CSP3  is_cns_molecule  \n",
       "0  3.0365  94.6882       0.235294                0  \n",
       "1  1.8570  55.5002       0.300000                1  \n",
       "2  2.6371  65.8305       0.214286                0  \n",
       "3  1.0426  64.7197       0.307692                1  \n",
       "4  4.6309  90.1797       0.222222                1  \n",
       "\n",
       "[5 rows x 38 columns]"
      ]
     },
     "execution_count": 3,
     "metadata": {},
     "output_type": "execute_result"
    }
   ],
   "source": [
    "mixed_df=pd.read_csv(root_path+\"\\molecules.csv\",sep=\"\\t\"); mixed_df.head()"
   ]
  },
  {
   "cell_type": "markdown",
   "metadata": {},
   "source": [
    "# Functions"
   ]
  },
  {
   "cell_type": "code",
   "execution_count": 4,
   "metadata": {},
   "outputs": [],
   "source": [
    "def save_df_to_disk(df,name:str,separator=\"\\t\"):\n",
    "    df.to_csv(name,sep=separator,index = False, header=True)"
   ]
  },
  {
   "cell_type": "code",
   "execution_count": 5,
   "metadata": {},
   "outputs": [
    {
     "data": {
      "text/plain": [
       "0      0\n",
       "1      1\n",
       "2      0\n",
       "3      1\n",
       "4      1\n",
       "      ..\n",
       "935    0\n",
       "936    1\n",
       "937    0\n",
       "938    0\n",
       "939    0\n",
       "Name: is_cns_molecule, Length: 940, dtype: int64"
      ]
     },
     "execution_count": 5,
     "metadata": {},
     "output_type": "execute_result"
    }
   ],
   "source": [
    "mixed_df[mixed_df.columns[-1]]"
   ]
  },
  {
   "cell_type": "code",
   "execution_count": 6,
   "metadata": {},
   "outputs": [],
   "source": [
    "def get_data_and_true_prediction(df,not_wanted_features:list):\n",
    "        temp_df=df.drop(not_wanted_features,axis=1)\n",
    "        y=temp_df[temp_df.columns[-1]]\n",
    "        x=temp_df.drop([temp_df.columns[-1]],axis=1)\n",
    "        \n",
    "        return x,y   "
   ]
  },
  {
   "cell_type": "code",
   "execution_count": 7,
   "metadata": {},
   "outputs": [],
   "source": [
    "unnecesary_features=[\"m_name\"]\n",
    "x,y=get_data_and_true_prediction(mixed_df,unnecesary_features)"
   ]
  },
  {
   "cell_type": "code",
   "execution_count": 101,
   "metadata": {},
   "outputs": [],
   "source": [
    "clf = LinearSVC(random_state=0, tol=1e-5, dual=False) # model"
   ]
  },
  {
   "cell_type": "code",
   "execution_count": 105,
   "metadata": {},
   "outputs": [],
   "source": [
    "score_lst=[]\n",
    "for i in range(len(x.columns)):\n",
    "    k=x.columns[i]\n",
    "    temp_x=x[[k]]\n",
    "    score=get_roc_auc_score(temp_x,y,clf)\n",
    "    score_lst.append(score)\n",
    "\n",
    "max_score = max(score_lst) # best score\n",
    "max_score_index=[i for i, j in enumerate(score_lst) if j == max_score] # indx with best score   "
   ]
  },
  {
   "cell_type": "markdown",
   "metadata": {},
   "source": [
    "#### We can take any of the results, model will be the same"
   ]
  },
  {
   "cell_type": "code",
   "execution_count": 131,
   "metadata": {},
   "outputs": [
    {
     "name": "stdout",
     "output_type": "stream",
     "text": [
      "0.7445237527459821\n",
      "0.7445237527459821\n",
      "0.7445237527459821\n"
     ]
    }
   ],
   "source": [
    "best_features=[x.columns[i] for i in max_score_index]\n",
    "best_x_1=x[[best_features[0]]]\n",
    "best_x_2=x[[best_features[1]]]\n",
    "best_x=x[best_features]\n",
    "new_x=x.drop(best_features,axis=1)\n",
    "\n",
    "print(get_roc_auc_score(best_x_1,y,clf))\n",
    "print(get_roc_auc_score(best_x_2,y,clf))\n",
    "print(get_roc_auc_score(best_x,y,clf))"
   ]
  },
  {
   "cell_type": "markdown",
   "metadata": {},
   "source": [
    "# Forward selection"
   ]
  },
  {
   "cell_type": "code",
   "execution_count": 10,
   "metadata": {},
   "outputs": [],
   "source": [
    "from sklearn.model_selection import cross_validate\n",
    "from sklearn.svm import LinearSVC"
   ]
  },
  {
   "cell_type": "code",
   "execution_count": 39,
   "metadata": {},
   "outputs": [],
   "source": [
    "def get_roc_auc_score(x,y,model): # gets roc auc average\n",
    "        cv_results = cross_validate(model, x, y, cv=10,scoring=('roc_auc'))\n",
    "        roc_auc_avrg=cv_results['test_score'].mean()\n",
    "        \n",
    "        return roc_auc_avrg "
   ]
  },
  {
   "cell_type": "code",
   "execution_count": 134,
   "metadata": {},
   "outputs": [],
   "source": [
    "def forward_selection(x,y,model):\n",
    "    def first_iteration(x,y,model):\n",
    "        score_lst=[]\n",
    "        for i in range(len(x.columns)):\n",
    "            k=x.columns[i]\n",
    "            temp_x=x[[k]]\n",
    "            score=get_roc_auc_score(temp_x,y,clf)\n",
    "            score_lst.append(score)\n",
    "\n",
    "        max_score = max(score_lst) # best score\n",
    "        max_score_index=[i for i, j in enumerate(score_lst) if j == max_score] # indx with best score \n",
    "        best_x=x[best_features]\n",
    "        new_x=x.drop(best_features,axis=1)\n",
    "        \n",
    "        return best_x,new_x,max_score\n",
    "    \n",
    "    def else_iteration(best_x,x,y,actual_score): # break condition not added yet!!!\n",
    "        score_lst=[]\n",
    "        for i in range(len(x.columns)):\n",
    "            k=x.columns[i]\n",
    "            temp_x=x[[k]]\n",
    "            temp_new_x=pd.concat([best_x,temp_x],axis=1, ignore_index=True)\n",
    "            score=get_roc_auc_score(temp_new_x,y,clf)\n",
    "            score_lst.append(score)\n",
    "            \n",
    "        max_score = max(score_lst) # best score\n",
    "        max_score_index=[i for i, j in enumerate(score_lst) if j == max_score] # indx with best score \n",
    "        # assing selected features to best_x\n",
    "        # get new_x\n",
    "        # return else iteration"
   ]
  },
  {
   "cell_type": "code",
   "execution_count": 109,
   "metadata": {},
   "outputs": [],
   "source": [
    "forward_selection(x,y,clf)"
   ]
  }
 ],
 "metadata": {
  "kernelspec": {
   "display_name": "Python 3",
   "language": "python",
   "name": "python3"
  },
  "language_info": {
   "codemirror_mode": {
    "name": "ipython",
    "version": 3
   },
   "file_extension": ".py",
   "mimetype": "text/x-python",
   "name": "python",
   "nbconvert_exporter": "python",
   "pygments_lexer": "ipython3",
   "version": "3.7.4"
  },
  "latex_envs": {
   "LaTeX_envs_menu_present": true,
   "autoclose": false,
   "autocomplete": true,
   "bibliofile": "biblio.bib",
   "cite_by": "apalike",
   "current_citInitial": 1,
   "eqLabelWithNumbers": true,
   "eqNumInitial": 1,
   "hotkeys": {
    "equation": "Ctrl-E",
    "itemize": "Ctrl-I"
   },
   "labels_anchors": false,
   "latex_user_defs": false,
   "report_style_numbering": false,
   "user_envs_cfg": false
  }
 },
 "nbformat": 4,
 "nbformat_minor": 2
}
