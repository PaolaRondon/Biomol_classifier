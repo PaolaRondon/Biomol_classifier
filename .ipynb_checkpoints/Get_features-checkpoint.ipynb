{
 "cells": [
  {
   "cell_type": "markdown",
   "metadata": {},
   "source": [
    "# Basic imports"
   ]
  },
  {
   "cell_type": "code",
   "execution_count": 1,
   "metadata": {},
   "outputs": [],
   "source": [
    "import pandas as pd\n",
    "import numpy as np"
   ]
  },
  {
   "cell_type": "markdown",
   "metadata": {},
   "source": [
    "# Loading datasets"
   ]
  },
  {
   "cell_type": "code",
   "execution_count": 2,
   "metadata": {},
   "outputs": [],
   "source": [
    "cns_smiles_df=pd.read_csv('cns_smiles.txt',sep='\\t')\n",
    "non_cns_smiles_df=pd.read_csv('non_cns_smiles.txt',sep='\\t')"
   ]
  },
  {
   "cell_type": "code",
   "execution_count": 3,
   "metadata": {},
   "outputs": [
    {
     "data": {
      "text/html": [
       "<div>\n",
       "<style scoped>\n",
       "    .dataframe tbody tr th:only-of-type {\n",
       "        vertical-align: middle;\n",
       "    }\n",
       "\n",
       "    .dataframe tbody tr th {\n",
       "        vertical-align: top;\n",
       "    }\n",
       "\n",
       "    .dataframe thead th {\n",
       "        text-align: right;\n",
       "    }\n",
       "</style>\n",
       "<table border=\"1\" class=\"dataframe\">\n",
       "  <thead>\n",
       "    <tr style=\"text-align: right;\">\n",
       "      <th></th>\n",
       "      <th>Name</th>\n",
       "      <th>Smiles</th>\n",
       "    </tr>\n",
       "  </thead>\n",
       "  <tbody>\n",
       "    <tr>\n",
       "      <td>0</td>\n",
       "      <td>ACETAZOLAMIDE</td>\n",
       "      <td>CC(=O)Nc1nnc(s1)S(=O)(=O)N</td>\n",
       "    </tr>\n",
       "    <tr>\n",
       "      <td>1</td>\n",
       "      <td>ACETOPHENAZINE</td>\n",
       "      <td>CC(=O)c1ccc2c(c1)N(c3ccccc3S2)CCCN4CCN(CC4)CCO</td>\n",
       "    </tr>\n",
       "    <tr>\n",
       "      <td>2</td>\n",
       "      <td>ALFENTANIL</td>\n",
       "      <td>CCC(=O)N(c1ccccc1)C2(CCN(CC2)CCn3c(=O)n(nn3)CC...</td>\n",
       "    </tr>\n",
       "    <tr>\n",
       "      <td>3</td>\n",
       "      <td>ALPRAZOLAM</td>\n",
       "      <td>Cc1nnc2n1-c3ccc(cc3C(=NC2)c4ccccc4)Cl</td>\n",
       "    </tr>\n",
       "    <tr>\n",
       "      <td>4</td>\n",
       "      <td>AMANTADINE</td>\n",
       "      <td>C1C2CC3CC1CC(C2)(C3)N</td>\n",
       "    </tr>\n",
       "  </tbody>\n",
       "</table>\n",
       "</div>"
      ],
      "text/plain": [
       "             Name                                             Smiles\n",
       "0   ACETAZOLAMIDE                         CC(=O)Nc1nnc(s1)S(=O)(=O)N\n",
       "1  ACETOPHENAZINE     CC(=O)c1ccc2c(c1)N(c3ccccc3S2)CCCN4CCN(CC4)CCO\n",
       "2      ALFENTANIL  CCC(=O)N(c1ccccc1)C2(CCN(CC2)CCn3c(=O)n(nn3)CC...\n",
       "3      ALPRAZOLAM              Cc1nnc2n1-c3ccc(cc3C(=NC2)c4ccccc4)Cl\n",
       "4      AMANTADINE                              C1C2CC3CC1CC(C2)(C3)N"
      ]
     },
     "execution_count": 3,
     "metadata": {},
     "output_type": "execute_result"
    }
   ],
   "source": [
    "cns_smiles_df.head()"
   ]
  },
  {
   "cell_type": "code",
   "execution_count": 4,
   "metadata": {},
   "outputs": [
    {
     "data": {
      "text/html": [
       "<div>\n",
       "<style scoped>\n",
       "    .dataframe tbody tr th:only-of-type {\n",
       "        vertical-align: middle;\n",
       "    }\n",
       "\n",
       "    .dataframe tbody tr th {\n",
       "        vertical-align: top;\n",
       "    }\n",
       "\n",
       "    .dataframe thead th {\n",
       "        text-align: right;\n",
       "    }\n",
       "</style>\n",
       "<table border=\"1\" class=\"dataframe\">\n",
       "  <thead>\n",
       "    <tr style=\"text-align: right;\">\n",
       "      <th></th>\n",
       "      <th>Name</th>\n",
       "      <th>Smiles</th>\n",
       "    </tr>\n",
       "  </thead>\n",
       "  <tbody>\n",
       "    <tr>\n",
       "      <td>0</td>\n",
       "      <td>ABACAVIR_SULFATE</td>\n",
       "      <td>Nc1nc(NC2CC2)c3ncn(C4CC(CO)C=C4)c3n1</td>\n",
       "    </tr>\n",
       "    <tr>\n",
       "      <td>1</td>\n",
       "      <td>ACARBOSE</td>\n",
       "      <td>CC1OC(OC2C(O)C(O)C(OC3C(O)C(O)C(O)OC3CO)OC2CO)...</td>\n",
       "    </tr>\n",
       "    <tr>\n",
       "      <td>2</td>\n",
       "      <td>ACEBUTOLOL</td>\n",
       "      <td>CCCC(=O)Nc1ccc(OCC(O)CNC(C)C)c(c1)C(=O)C</td>\n",
       "    </tr>\n",
       "    <tr>\n",
       "      <td>3</td>\n",
       "      <td>ACECAINIDE</td>\n",
       "      <td>CCN(CC)CCNC(=O)c1ccc(NC(=O)C)cc1</td>\n",
       "    </tr>\n",
       "    <tr>\n",
       "      <td>4</td>\n",
       "      <td>ACECLOFENAC</td>\n",
       "      <td>OC(=O)COC(=O)Cc1ccccc1Nc2c(Cl)cccc2Cl</td>\n",
       "    </tr>\n",
       "  </tbody>\n",
       "</table>\n",
       "</div>"
      ],
      "text/plain": [
       "               Name                                             Smiles\n",
       "0  ABACAVIR_SULFATE               Nc1nc(NC2CC2)c3ncn(C4CC(CO)C=C4)c3n1\n",
       "1          ACARBOSE  CC1OC(OC2C(O)C(O)C(OC3C(O)C(O)C(O)OC3CO)OC2CO)...\n",
       "2        ACEBUTOLOL           CCCC(=O)Nc1ccc(OCC(O)CNC(C)C)c(c1)C(=O)C\n",
       "3        ACECAINIDE                   CCN(CC)CCNC(=O)c1ccc(NC(=O)C)cc1\n",
       "4       ACECLOFENAC              OC(=O)COC(=O)Cc1ccccc1Nc2c(Cl)cccc2Cl"
      ]
     },
     "execution_count": 4,
     "metadata": {},
     "output_type": "execute_result"
    }
   ],
   "source": [
    "non_cns_smiles_df.head()"
   ]
  },
  {
   "cell_type": "markdown",
   "metadata": {},
   "source": [
    "# Empty dataframe"
   ]
  },
  {
   "cell_type": "code",
   "execution_count": 5,
   "metadata": {},
   "outputs": [],
   "source": [
    "labels=[\"m_name\",\"n_atoms_without_Hydrogen\",\"n_atoms_with_Hydrogen\",\"m_weight\",\"m_avg_weigth\",\"m_weigth_without_Hydrogen\",\"n_valence_electrons\",\n",
    "        \"n_aliphatic_carbocycles\",\"n_aliphatic_heterocycles\",\"n_aliphatic_rings\",\"n_amide_bonds\",\n",
    "        \"n_aromatic_carbocycles\",\"n_aromatic_heterocycles\",\"n_aromatic_rings\",\n",
    "        \"n_saturated_carbocycles\",\"n_saturated_heterocycles\",\"n_saturated_rings\",\"n_HBA\",\"n_HBD\",\n",
    "        \"n_hetero_atoms\",\"n_hetero_cycles\",\"n_rings\",\"n_strict_rotable_bonds\",\"n_non_strict_rotable_bonds\",\n",
    "         \"n_primary_carbon_atoms\",\"n_HOH\",\"n_O\",\n",
    "        \"n_briged_head_atoms\",\"n_atoms_stereo_centers\",\"n_atoms_unspecified_stereo_centers\",\"n_spiro_atoms\",\n",
    "        \"m_logp\",\"m_mr\",\"fraction_CSP3\"]"
   ]
  },
  {
   "cell_type": "markdown",
   "metadata": {},
   "source": [
    "# rdkit imports"
   ]
  },
  {
   "cell_type": "code",
   "execution_count": 6,
   "metadata": {},
   "outputs": [
    {
     "name": "stderr",
     "output_type": "stream",
     "text": [
      "RDKit WARNING: [13:31:07] Enabling RDKit 2019.09.3 jupyter extensions\n"
     ]
    }
   ],
   "source": [
    "from IPython.display import SVG\n",
    "from rdkit import Chem\n",
    "from rdkit.Chem import AllChem\n",
    "from rdkit.Chem import rdMolDescriptors\n",
    "from rdkit.Chem import Descriptors"
   ]
  },
  {
   "cell_type": "markdown",
   "metadata": {},
   "source": [
    "# Getting all the features"
   ]
  },
  {
   "cell_type": "markdown",
   "metadata": {},
   "source": [
    "#### n means number, m means molecule"
   ]
  },
  {
   "cell_type": "code",
   "execution_count": 7,
   "metadata": {},
   "outputs": [],
   "source": [
    "def getFeatures(m):\n",
    "    \n",
    "    rslt=[] # rslt list initialization\n",
    "        \n",
    "    def getCarbonAtoms(m): #sub method  \n",
    "        patt=Chem.MolFromSmarts(\"[#6]\")\n",
    "        n_primary_carbon_atoms = len(m.GetSubstructMatches(patt))\n",
    "    \n",
    "        return n_primary_carbon_atoms    \n",
    "    \n",
    "    if m is not None:\n",
    "        n_atoms_without_Hydrogen=m.GetNumAtoms()\n",
    "        m2=Chem.AddHs(m)\n",
    "        n_atoms_with_Hydrogen=m2.GetNumAtoms()\n",
    "\n",
    "        m_weigth=Chem.Descriptors.ExactMolWt(m)\n",
    "        m_avg_weigth=Chem.Descriptors.HeavyAtomMolWt(m)\n",
    "        m_weigth_without_Hydrogen=Chem.Descriptors.MolWt(m)\n",
    "\n",
    "        n_valence_electrons=Chem.Descriptors.NumValenceElectrons(m)\n",
    "\n",
    "        n_aliphatic_carbocycles=Chem.rdMolDescriptors.CalcNumAliphaticCarbocycles(m)\n",
    "        n_aliphatic_heterocycles=Chem.rdMolDescriptors.CalcNumAliphaticHeterocycles(m)\n",
    "        n_aliphatic_rings=Chem.rdMolDescriptors.CalcNumAliphaticRings(m)    \n",
    "        n_amide_bonds=Chem.rdMolDescriptors.CalcNumAmideBonds(m)\n",
    "\n",
    "        n_aromatic_carbocycles=Chem.rdMolDescriptors.CalcNumAromaticCarbocycles(m)\n",
    "        n_aromatic_heterocycles=Chem.rdMolDescriptors.CalcNumAromaticHeterocycles(m)\n",
    "        n_aromatic_rings=Chem.rdMolDescriptors.CalcNumAromaticRings(m)\n",
    "\n",
    "        n_saturated_carbocycles=Chem.rdMolDescriptors.CalcNumSaturatedCarbocycles(m)\n",
    "        n_saturated_heterocycles=Chem.rdMolDescriptors.CalcNumSaturatedHeterocycles(m)\n",
    "        n_saturated_rings=Chem.rdMolDescriptors.CalcNumSaturatedRings(m)\n",
    "\n",
    "        n_HBA=Chem.rdMolDescriptors.CalcNumHBA(m)\n",
    "        n_HBD=Chem.rdMolDescriptors.CalcNumHBD(m)\n",
    "\n",
    "        n_hetero_atoms=Chem.rdMolDescriptors.CalcNumHeteroatoms(m)\n",
    "        n_hetero_cycles=Chem.rdMolDescriptors.CalcNumHeterocycles(m)\n",
    "        n_rings=Chem.rdMolDescriptors.CalcNumRings(m)\n",
    "        n_strict_rotable_bonds=Chem.rdMolDescriptors.CalcNumRotatableBonds(m,True)\n",
    "        n_non_strict_rotable_bonds=Chem.rdMolDescriptors.CalcNumRotatableBonds(m,False)\n",
    "        \n",
    "        n_primary_carbon_atoms=getCarbonAtoms(m)\n",
    "        n_HOH=Chem.Descriptors.NHOHCount(m)\n",
    "        n_O=Chem.Descriptors.NOCount(m)\n",
    "        n_briged_head_atoms=Chem.rdMolDescriptors.CalcNumBridgeheadAtoms(m,None)\n",
    "        n_atoms_stereo_centers=Chem.rdMolDescriptors.CalcNumAtomStereoCenters(m)\n",
    "        n_atoms_unspecified_stereo_centers=Chem.rdMolDescriptors.CalcNumUnspecifiedAtomStereoCenters(m)\n",
    "        n_spiro_atoms=Chem.rdMolDescriptors.CalcNumSpiroAtoms(m)\n",
    "        \n",
    "        m_logp=Chem.Descriptors.MolLogP(m)\n",
    "        m_mr=Chem.Descriptors.MolMR(m)\n",
    "        fraction_CSP3=Chem.rdMolDescriptors.CalcFractionCSP3(m)\n",
    "        \n",
    "    rslt=[n_atoms_without_Hydrogen,n_atoms_with_Hydrogen,m_weigth,m_avg_weigth,m_weigth_without_Hydrogen, n_valence_electrons,           \n",
    "           n_aliphatic_carbocycles,n_aliphatic_heterocycles,n_aliphatic_rings,n_amide_bonds,\n",
    "          n_aromatic_carbocycles,n_aromatic_heterocycles,n_aromatic_rings,\n",
    "          n_saturated_carbocycles,n_saturated_heterocycles,n_saturated_rings,n_HBA,n_HBD,\n",
    "         n_hetero_atoms,n_hetero_cycles,n_rings,n_strict_rotable_bonds,n_non_strict_rotable_bonds,\n",
    "         n_primary_carbon_atoms,n_HOH,n_O,\n",
    "          n_briged_head_atoms,n_atoms_stereo_centers,n_atoms_unspecified_stereo_centers,n_spiro_atoms,\n",
    "          m_logp,m_mr,fraction_CSP3]\n",
    "    \n",
    "    return rslt "
   ]
  },
  {
   "cell_type": "code",
   "execution_count": 8,
   "metadata": {},
   "outputs": [],
   "source": [
    "def getDataList(df):\n",
    "    data_list=[]\n",
    "    \n",
    "    for m_name,m_smile in zip(df[\"Name\"].values,df[\"Smiles\"].values):\n",
    "        m = Chem.MolFromSmiles(m_smile)                        \n",
    "        data=getFeatures(m)\n",
    "        data.insert(0,m_name)\n",
    "        data_list.append(data)\n",
    "        \n",
    "    return data_list"
   ]
  },
  {
   "cell_type": "markdown",
   "metadata": {},
   "source": [
    "### Data as a list"
   ]
  },
  {
   "cell_type": "code",
   "execution_count": 9,
   "metadata": {},
   "outputs": [],
   "source": [
    "cns_data=getDataList(cns_smiles_df)\n",
    "non_cns_data=getDataList(non_cns_smiles_df)"
   ]
  },
  {
   "cell_type": "markdown",
   "metadata": {},
   "source": [
    "### This is how data is storaged in our list"
   ]
  },
  {
   "cell_type": "code",
   "execution_count": 10,
   "metadata": {},
   "outputs": [
    {
     "name": "stdout",
     "output_type": "stream",
     "text": [
      "m_name: ACETAZOLAMIDE\n",
      "n_atoms_without_Hydrogen: 13\n",
      "n_atoms_with_Hydrogen: 19\n",
      "m_weight: 221.988132052\n",
      "m_avg_weigth: 216.203\n",
      "m_weigth_without_Hydrogen: 222.251\n",
      "n_valence_electrons: 72\n",
      "n_aliphatic_carbocycles: 0\n",
      "n_aliphatic_heterocycles: 0\n",
      "n_aliphatic_rings: 0\n",
      "n_amide_bonds: 1\n",
      "n_aromatic_carbocycles: 0\n",
      "n_aromatic_heterocycles: 1\n",
      "n_aromatic_rings: 1\n",
      "n_saturated_carbocycles: 0\n",
      "n_saturated_heterocycles: 0\n",
      "n_saturated_rings: 0\n",
      "n_HBA: 6\n",
      "n_HBD: 2\n",
      "n_hetero_atoms: 9\n",
      "n_hetero_cycles: 1\n",
      "n_rings: 1\n",
      "n_strict_rotable_bonds: 2\n",
      "n_non_strict_rotable_bonds: 3\n",
      "n_primary_carbon_atoms: 4\n",
      "n_HOH: 3\n",
      "n_O: 7\n",
      "n_briged_head_atoms: 0\n",
      "n_atoms_stereo_centers: 0\n",
      "n_atoms_unspecified_stereo_centers: 0\n",
      "n_spiro_atoms: 0\n",
      "m_logp: -0.8561000000000003\n",
      "m_mr: 45.5859\n",
      "fraction_CSP3: 0.25\n"
     ]
    }
   ],
   "source": [
    "sub_lst=cns_data[0]\n",
    "for l,i in zip(labels,sub_lst):\n",
    "    print(\"{}: {}\".format(l,i))"
   ]
  },
  {
   "cell_type": "markdown",
   "metadata": {},
   "source": [
    "### Creating new dataframe from scratch"
   ]
  },
  {
   "cell_type": "code",
   "execution_count": 11,
   "metadata": {},
   "outputs": [],
   "source": [
    "def createDataFrameFromScracht(data,labels):\n",
    "    df=pd.DataFrame(columns=labels)\n",
    "    for row in data:\n",
    "        new_row={}\n",
    "        for cnt,x in enumerate(row):\n",
    "            new_row[labels[cnt]]=x\n",
    "        df=df.append(new_row,ignore_index=True)\n",
    "    return df"
   ]
  },
  {
   "cell_type": "code",
   "execution_count": 12,
   "metadata": {},
   "outputs": [],
   "source": [
    "cns_df=createDataFrameFromScracht(cns_data,labels)\n",
    "non_cns_df=createDataFrameFromScracht(non_cns_data,labels)"
   ]
  },
  {
   "cell_type": "markdown",
   "metadata": {},
   "source": [
    "# From dataframe to CSV"
   ]
  },
  {
   "cell_type": "code",
   "execution_count": 13,
   "metadata": {},
   "outputs": [],
   "source": [
    "cns_df.to_csv('cns_molecules.csv', sep=\"\\t\", index = False, header=True)\n",
    "non_cns_df.to_csv('non_cns_molecules.csv', sep=\"\\t\", index = False, header=True)"
   ]
  }
 ],
 "metadata": {
  "kernelspec": {
   "display_name": "Python 3",
   "language": "python",
   "name": "python3"
  },
  "language_info": {
   "codemirror_mode": {
    "name": "ipython",
    "version": 3
   },
   "file_extension": ".py",
   "mimetype": "text/x-python",
   "name": "python",
   "nbconvert_exporter": "python",
   "pygments_lexer": "ipython3",
   "version": "3.7.4"
  },
  "latex_envs": {
   "LaTeX_envs_menu_present": true,
   "autoclose": false,
   "autocomplete": true,
   "bibliofile": "biblio.bib",
   "cite_by": "apalike",
   "current_citInitial": 1,
   "eqLabelWithNumbers": true,
   "eqNumInitial": 1,
   "hotkeys": {
    "equation": "Ctrl-E",
    "itemize": "Ctrl-I"
   },
   "labels_anchors": false,
   "latex_user_defs": false,
   "report_style_numbering": false,
   "user_envs_cfg": false
  }
 },
 "nbformat": 4,
 "nbformat_minor": 2
}
