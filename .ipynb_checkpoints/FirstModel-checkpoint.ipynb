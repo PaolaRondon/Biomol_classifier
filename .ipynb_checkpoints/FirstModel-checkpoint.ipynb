{
 "cells": [
  {
   "cell_type": "markdown",
   "metadata": {},
   "source": [
    "# Basic imports"
   ]
  },
  {
   "cell_type": "code",
   "execution_count": 1,
   "metadata": {},
   "outputs": [],
   "source": [
    "import pandas as pd\n",
    "import numpy as np\n",
    "import matplotlib.pyplot as plt\n",
    "%matplotlib inline  "
   ]
  },
  {
   "cell_type": "markdown",
   "metadata": {},
   "source": [
    "# Loading datasets"
   ]
  },
  {
   "cell_type": "code",
   "execution_count": 2,
   "metadata": {},
   "outputs": [],
   "source": [
    "cns_df=pd.read_csv(\"cns_molecules.csv\", sep=\"\\t\")\n",
    "non_cns_df=pd.read_csv(\"non_cns_molecules.csv\", sep=\"\\t\")"
   ]
  },
  {
   "cell_type": "code",
   "execution_count": 3,
   "metadata": {},
   "outputs": [
    {
     "name": "stdout",
     "output_type": "stream",
     "text": [
      "cns rows: 316\n",
      "non cns rows: 624\n"
     ]
    }
   ],
   "source": [
    "cns_df_length=len(cns_df)\n",
    "non_cns_df_length=len(non_cns_df)\n",
    "\n",
    "print(\"cns rows: {}\".format(cns_df_length))\n",
    "print(\"non cns rows: {}\".format(non_cns_df_length))"
   ]
  },
  {
   "cell_type": "markdown",
   "metadata": {},
   "source": [
    "# New column for both datasets (1= true, 0=false)"
   ]
  },
  {
   "cell_type": "code",
   "execution_count": 4,
   "metadata": {},
   "outputs": [],
   "source": [
    "new_cns_column=[1 for i in range(cns_df_length)]\n",
    "new_non_cns_columns=[0 for i in range(non_cns_df_length)]"
   ]
  },
  {
   "cell_type": "code",
   "execution_count": 5,
   "metadata": {},
   "outputs": [],
   "source": [
    "cns_df[\"is_cns_molecule\"]=new_cns_column\n",
    "non_cns_df[\"is_cns_molecule\"]=new_non_cns_columns"
   ]
  },
  {
   "cell_type": "markdown",
   "metadata": {},
   "source": [
    "### Merged dataset"
   ]
  },
  {
   "cell_type": "code",
   "execution_count": 6,
   "metadata": {},
   "outputs": [],
   "source": [
    "mixed_df=cns_df\n",
    "mixed_df=mixed_df.append(non_cns_df)"
   ]
  },
  {
   "cell_type": "markdown",
   "metadata": {},
   "source": [
    "### Shuffle dataset"
   ]
  },
  {
   "cell_type": "markdown",
   "metadata": {},
   "source": [
    "The idiomatic way to do this with Pandas is to use the .sample method of your dataframe to sample all rows without replacement:\n",
    "\n",
    "df.sample(frac=1)\n",
    "The frac keyword argument specifies the fraction of rows to return in the random sample, so frac=1 means return all rows (in random order).\n",
    "\n",
    "Note: If you wish to shuffle your dataframe in-place and reset the index, you could do e.g.\n",
    "\n",
    "df = df.sample(frac=1).reset_index(drop=True)\n",
    "Here, specifying drop=True prevents .reset_index from creating a column containing the old index entries."
   ]
  },
  {
   "cell_type": "code",
   "execution_count": 7,
   "metadata": {},
   "outputs": [],
   "source": [
    "mixed_df=mixed_df.sample(frac=1,random_state=0).reset_index(drop=True)"
   ]
  },
  {
   "cell_type": "code",
   "execution_count": 8,
   "metadata": {},
   "outputs": [
    {
     "data": {
      "text/html": [
       "<div>\n",
       "<style scoped>\n",
       "    .dataframe tbody tr th:only-of-type {\n",
       "        vertical-align: middle;\n",
       "    }\n",
       "\n",
       "    .dataframe tbody tr th {\n",
       "        vertical-align: top;\n",
       "    }\n",
       "\n",
       "    .dataframe thead th {\n",
       "        text-align: right;\n",
       "    }\n",
       "</style>\n",
       "<table border=\"1\" class=\"dataframe\">\n",
       "  <thead>\n",
       "    <tr style=\"text-align: right;\">\n",
       "      <th></th>\n",
       "      <th>m_name</th>\n",
       "      <th>n_atoms_without_Hydrogen</th>\n",
       "      <th>n_atoms_with_Hydrogen</th>\n",
       "      <th>m_weight</th>\n",
       "      <th>m_avg_weigth</th>\n",
       "      <th>m_weigth_without_Hydrogen</th>\n",
       "      <th>n_radical_electrons</th>\n",
       "      <th>n_valence_electrons</th>\n",
       "      <th>n_aliphatic_carbocycles</th>\n",
       "      <th>n_aliphatic_heterocycles</th>\n",
       "      <th>...</th>\n",
       "      <th>n_Hydrogen_acceptors</th>\n",
       "      <th>n_Hydrogen_donnors</th>\n",
       "      <th>n_briged_head_atoms</th>\n",
       "      <th>n_atoms_stereo_centers</th>\n",
       "      <th>n_atoms_unspecified_stereo_centers</th>\n",
       "      <th>n_spiro_atoms</th>\n",
       "      <th>m_logp</th>\n",
       "      <th>m_mr</th>\n",
       "      <th>fraction_CSP3</th>\n",
       "      <th>is_cns_molecule</th>\n",
       "    </tr>\n",
       "  </thead>\n",
       "  <tbody>\n",
       "    <tr>\n",
       "      <td>0</td>\n",
       "      <td>BUMETANIDE</td>\n",
       "      <td>25</td>\n",
       "      <td>45</td>\n",
       "      <td>364.109293</td>\n",
       "      <td>344.263</td>\n",
       "      <td>364.423</td>\n",
       "      <td>0</td>\n",
       "      <td>134</td>\n",
       "      <td>0</td>\n",
       "      <td>0</td>\n",
       "      <td>...</td>\n",
       "      <td>5</td>\n",
       "      <td>3</td>\n",
       "      <td>0</td>\n",
       "      <td>0</td>\n",
       "      <td>0</td>\n",
       "      <td>0</td>\n",
       "      <td>3.0365</td>\n",
       "      <td>94.6882</td>\n",
       "      <td>0.235294</td>\n",
       "      <td>0</td>\n",
       "    </tr>\n",
       "    <tr>\n",
       "      <td>1</td>\n",
       "      <td>BACLOFEN</td>\n",
       "      <td>14</td>\n",
       "      <td>26</td>\n",
       "      <td>213.055656</td>\n",
       "      <td>201.568</td>\n",
       "      <td>213.664</td>\n",
       "      <td>0</td>\n",
       "      <td>76</td>\n",
       "      <td>0</td>\n",
       "      <td>0</td>\n",
       "      <td>...</td>\n",
       "      <td>2</td>\n",
       "      <td>2</td>\n",
       "      <td>0</td>\n",
       "      <td>1</td>\n",
       "      <td>1</td>\n",
       "      <td>0</td>\n",
       "      <td>1.8570</td>\n",
       "      <td>55.5002</td>\n",
       "      <td>0.300000</td>\n",
       "      <td>1</td>\n",
       "    </tr>\n",
       "    <tr>\n",
       "      <td>2</td>\n",
       "      <td>METYRAPONE</td>\n",
       "      <td>17</td>\n",
       "      <td>31</td>\n",
       "      <td>226.110613</td>\n",
       "      <td>212.167</td>\n",
       "      <td>226.279</td>\n",
       "      <td>0</td>\n",
       "      <td>86</td>\n",
       "      <td>0</td>\n",
       "      <td>0</td>\n",
       "      <td>...</td>\n",
       "      <td>3</td>\n",
       "      <td>0</td>\n",
       "      <td>0</td>\n",
       "      <td>0</td>\n",
       "      <td>0</td>\n",
       "      <td>0</td>\n",
       "      <td>2.6371</td>\n",
       "      <td>65.8305</td>\n",
       "      <td>0.214286</td>\n",
       "      <td>0</td>\n",
       "    </tr>\n",
       "    <tr>\n",
       "      <td>3</td>\n",
       "      <td>METHYLPHENOBARBITAL</td>\n",
       "      <td>18</td>\n",
       "      <td>32</td>\n",
       "      <td>246.100442</td>\n",
       "      <td>232.154</td>\n",
       "      <td>246.266</td>\n",
       "      <td>0</td>\n",
       "      <td>94</td>\n",
       "      <td>0</td>\n",
       "      <td>1</td>\n",
       "      <td>...</td>\n",
       "      <td>3</td>\n",
       "      <td>1</td>\n",
       "      <td>0</td>\n",
       "      <td>1</td>\n",
       "      <td>1</td>\n",
       "      <td>0</td>\n",
       "      <td>1.0426</td>\n",
       "      <td>64.7197</td>\n",
       "      <td>0.307692</td>\n",
       "      <td>1</td>\n",
       "    </tr>\n",
       "    <tr>\n",
       "      <td>4</td>\n",
       "      <td>DULOXETINE</td>\n",
       "      <td>21</td>\n",
       "      <td>40</td>\n",
       "      <td>297.118735</td>\n",
       "      <td>278.271</td>\n",
       "      <td>297.423</td>\n",
       "      <td>0</td>\n",
       "      <td>108</td>\n",
       "      <td>0</td>\n",
       "      <td>0</td>\n",
       "      <td>...</td>\n",
       "      <td>3</td>\n",
       "      <td>1</td>\n",
       "      <td>0</td>\n",
       "      <td>1</td>\n",
       "      <td>1</td>\n",
       "      <td>0</td>\n",
       "      <td>4.6309</td>\n",
       "      <td>90.1797</td>\n",
       "      <td>0.222222</td>\n",
       "      <td>1</td>\n",
       "    </tr>\n",
       "    <tr>\n",
       "      <td>...</td>\n",
       "      <td>...</td>\n",
       "      <td>...</td>\n",
       "      <td>...</td>\n",
       "      <td>...</td>\n",
       "      <td>...</td>\n",
       "      <td>...</td>\n",
       "      <td>...</td>\n",
       "      <td>...</td>\n",
       "      <td>...</td>\n",
       "      <td>...</td>\n",
       "      <td>...</td>\n",
       "      <td>...</td>\n",
       "      <td>...</td>\n",
       "      <td>...</td>\n",
       "      <td>...</td>\n",
       "      <td>...</td>\n",
       "      <td>...</td>\n",
       "      <td>...</td>\n",
       "      <td>...</td>\n",
       "      <td>...</td>\n",
       "      <td>...</td>\n",
       "    </tr>\n",
       "    <tr>\n",
       "      <td>935</td>\n",
       "      <td>SAPROPTERIN</td>\n",
       "      <td>17</td>\n",
       "      <td>32</td>\n",
       "      <td>241.117489</td>\n",
       "      <td>226.131</td>\n",
       "      <td>241.251</td>\n",
       "      <td>0</td>\n",
       "      <td>94</td>\n",
       "      <td>0</td>\n",
       "      <td>1</td>\n",
       "      <td>...</td>\n",
       "      <td>7</td>\n",
       "      <td>6</td>\n",
       "      <td>0</td>\n",
       "      <td>3</td>\n",
       "      <td>3</td>\n",
       "      <td>0</td>\n",
       "      <td>-1.7002</td>\n",
       "      <td>62.8581</td>\n",
       "      <td>0.555556</td>\n",
       "      <td>0</td>\n",
       "    </tr>\n",
       "    <tr>\n",
       "      <td>936</td>\n",
       "      <td>PHENELZINE</td>\n",
       "      <td>10</td>\n",
       "      <td>22</td>\n",
       "      <td>136.100048</td>\n",
       "      <td>124.102</td>\n",
       "      <td>136.198</td>\n",
       "      <td>0</td>\n",
       "      <td>54</td>\n",
       "      <td>0</td>\n",
       "      <td>0</td>\n",
       "      <td>...</td>\n",
       "      <td>2</td>\n",
       "      <td>2</td>\n",
       "      <td>0</td>\n",
       "      <td>0</td>\n",
       "      <td>0</td>\n",
       "      <td>0</td>\n",
       "      <td>0.6924</td>\n",
       "      <td>42.3361</td>\n",
       "      <td>0.250000</td>\n",
       "      <td>1</td>\n",
       "    </tr>\n",
       "    <tr>\n",
       "      <td>937</td>\n",
       "      <td>ISOPROTERENOL_HYDROCHLORIDE</td>\n",
       "      <td>15</td>\n",
       "      <td>32</td>\n",
       "      <td>211.120843</td>\n",
       "      <td>194.125</td>\n",
       "      <td>211.261</td>\n",
       "      <td>0</td>\n",
       "      <td>84</td>\n",
       "      <td>0</td>\n",
       "      <td>0</td>\n",
       "      <td>...</td>\n",
       "      <td>4</td>\n",
       "      <td>4</td>\n",
       "      <td>0</td>\n",
       "      <td>1</td>\n",
       "      <td>1</td>\n",
       "      <td>0</td>\n",
       "      <td>1.1292</td>\n",
       "      <td>57.8701</td>\n",
       "      <td>0.454545</td>\n",
       "      <td>0</td>\n",
       "    </tr>\n",
       "    <tr>\n",
       "      <td>938</td>\n",
       "      <td>FLOCTAFENINE</td>\n",
       "      <td>29</td>\n",
       "      <td>46</td>\n",
       "      <td>406.114042</td>\n",
       "      <td>389.224</td>\n",
       "      <td>406.360</td>\n",
       "      <td>0</td>\n",
       "      <td>152</td>\n",
       "      <td>0</td>\n",
       "      <td>0</td>\n",
       "      <td>...</td>\n",
       "      <td>6</td>\n",
       "      <td>3</td>\n",
       "      <td>0</td>\n",
       "      <td>1</td>\n",
       "      <td>1</td>\n",
       "      <td>0</td>\n",
       "      <td>3.5072</td>\n",
       "      <td>99.8448</td>\n",
       "      <td>0.200000</td>\n",
       "      <td>0</td>\n",
       "    </tr>\n",
       "    <tr>\n",
       "      <td>939</td>\n",
       "      <td>METHOTREXATE_SODIUM</td>\n",
       "      <td>33</td>\n",
       "      <td>55</td>\n",
       "      <td>454.171316</td>\n",
       "      <td>432.271</td>\n",
       "      <td>454.447</td>\n",
       "      <td>0</td>\n",
       "      <td>172</td>\n",
       "      <td>0</td>\n",
       "      <td>0</td>\n",
       "      <td>...</td>\n",
       "      <td>10</td>\n",
       "      <td>5</td>\n",
       "      <td>0</td>\n",
       "      <td>1</td>\n",
       "      <td>1</td>\n",
       "      <td>0</td>\n",
       "      <td>0.2684</td>\n",
       "      <td>118.2616</td>\n",
       "      <td>0.250000</td>\n",
       "      <td>0</td>\n",
       "    </tr>\n",
       "  </tbody>\n",
       "</table>\n",
       "<p>940 rows × 38 columns</p>\n",
       "</div>"
      ],
      "text/plain": [
       "                          m_name  n_atoms_without_Hydrogen  \\\n",
       "0                     BUMETANIDE                        25   \n",
       "1                       BACLOFEN                        14   \n",
       "2                     METYRAPONE                        17   \n",
       "3            METHYLPHENOBARBITAL                        18   \n",
       "4                     DULOXETINE                        21   \n",
       "..                           ...                       ...   \n",
       "935                  SAPROPTERIN                        17   \n",
       "936                   PHENELZINE                        10   \n",
       "937  ISOPROTERENOL_HYDROCHLORIDE                        15   \n",
       "938                 FLOCTAFENINE                        29   \n",
       "939          METHOTREXATE_SODIUM                        33   \n",
       "\n",
       "     n_atoms_with_Hydrogen    m_weight  m_avg_weigth  \\\n",
       "0                       45  364.109293       344.263   \n",
       "1                       26  213.055656       201.568   \n",
       "2                       31  226.110613       212.167   \n",
       "3                       32  246.100442       232.154   \n",
       "4                       40  297.118735       278.271   \n",
       "..                     ...         ...           ...   \n",
       "935                     32  241.117489       226.131   \n",
       "936                     22  136.100048       124.102   \n",
       "937                     32  211.120843       194.125   \n",
       "938                     46  406.114042       389.224   \n",
       "939                     55  454.171316       432.271   \n",
       "\n",
       "     m_weigth_without_Hydrogen  n_radical_electrons  n_valence_electrons  \\\n",
       "0                      364.423                    0                  134   \n",
       "1                      213.664                    0                   76   \n",
       "2                      226.279                    0                   86   \n",
       "3                      246.266                    0                   94   \n",
       "4                      297.423                    0                  108   \n",
       "..                         ...                  ...                  ...   \n",
       "935                    241.251                    0                   94   \n",
       "936                    136.198                    0                   54   \n",
       "937                    211.261                    0                   84   \n",
       "938                    406.360                    0                  152   \n",
       "939                    454.447                    0                  172   \n",
       "\n",
       "     n_aliphatic_carbocycles  n_aliphatic_heterocycles  ...  \\\n",
       "0                          0                         0  ...   \n",
       "1                          0                         0  ...   \n",
       "2                          0                         0  ...   \n",
       "3                          0                         1  ...   \n",
       "4                          0                         0  ...   \n",
       "..                       ...                       ...  ...   \n",
       "935                        0                         1  ...   \n",
       "936                        0                         0  ...   \n",
       "937                        0                         0  ...   \n",
       "938                        0                         0  ...   \n",
       "939                        0                         0  ...   \n",
       "\n",
       "     n_Hydrogen_acceptors  n_Hydrogen_donnors  n_briged_head_atoms  \\\n",
       "0                       5                   3                    0   \n",
       "1                       2                   2                    0   \n",
       "2                       3                   0                    0   \n",
       "3                       3                   1                    0   \n",
       "4                       3                   1                    0   \n",
       "..                    ...                 ...                  ...   \n",
       "935                     7                   6                    0   \n",
       "936                     2                   2                    0   \n",
       "937                     4                   4                    0   \n",
       "938                     6                   3                    0   \n",
       "939                    10                   5                    0   \n",
       "\n",
       "     n_atoms_stereo_centers  n_atoms_unspecified_stereo_centers  \\\n",
       "0                         0                                   0   \n",
       "1                         1                                   1   \n",
       "2                         0                                   0   \n",
       "3                         1                                   1   \n",
       "4                         1                                   1   \n",
       "..                      ...                                 ...   \n",
       "935                       3                                   3   \n",
       "936                       0                                   0   \n",
       "937                       1                                   1   \n",
       "938                       1                                   1   \n",
       "939                       1                                   1   \n",
       "\n",
       "     n_spiro_atoms  m_logp      m_mr  fraction_CSP3  is_cns_molecule  \n",
       "0                0  3.0365   94.6882       0.235294                0  \n",
       "1                0  1.8570   55.5002       0.300000                1  \n",
       "2                0  2.6371   65.8305       0.214286                0  \n",
       "3                0  1.0426   64.7197       0.307692                1  \n",
       "4                0  4.6309   90.1797       0.222222                1  \n",
       "..             ...     ...       ...            ...              ...  \n",
       "935              0 -1.7002   62.8581       0.555556                0  \n",
       "936              0  0.6924   42.3361       0.250000                1  \n",
       "937              0  1.1292   57.8701       0.454545                0  \n",
       "938              0  3.5072   99.8448       0.200000                0  \n",
       "939              0  0.2684  118.2616       0.250000                0  \n",
       "\n",
       "[940 rows x 38 columns]"
      ]
     },
     "execution_count": 8,
     "metadata": {},
     "output_type": "execute_result"
    }
   ],
   "source": [
    "mixed_df.to_csv(\"molecules_v1.csv\",sep=\"\\t\",index = False, header=True); mixed_df"
   ]
  },
  {
   "cell_type": "markdown",
   "metadata": {},
   "source": [
    "# Masks"
   ]
  },
  {
   "cell_type": "code",
   "execution_count": 9,
   "metadata": {},
   "outputs": [],
   "source": [
    "mask_cns_molecules=mixed_df[\"is_cns_molecule\"]==1\n",
    "mask_non_cns_molecules=mixed_df[\"is_cns_molecule\"]==0"
   ]
  },
  {
   "cell_type": "code",
   "execution_count": 10,
   "metadata": {},
   "outputs": [],
   "source": [
    "is_cns_molecule=mixed_df[mask_cns_molecules]\n",
    "is_not_cns_molecule=mixed_df[mask_non_cns_molecules]"
   ]
  },
  {
   "cell_type": "code",
   "execution_count": 11,
   "metadata": {},
   "outputs": [
    {
     "data": {
      "text/plain": [
       "array(['m_name', 'n_atoms_without_Hydrogen', 'n_atoms_with_Hydrogen',\n",
       "       'm_weight', 'm_avg_weigth', 'm_weigth_without_Hydrogen',\n",
       "       'n_radical_electrons', 'n_valence_electrons',\n",
       "       'n_aliphatic_carbocycles', 'n_aliphatic_heterocycles',\n",
       "       'n_aliphatic_rings', 'n_amide_bonds', 'n_aromatic_carbocycles',\n",
       "       'n_aromatic_heterocycles', 'n_aromatic_rings',\n",
       "       'n_saturated_carbocycles', 'n_saturated_heterocycles',\n",
       "       'n_saturated_rings', 'n_HBA', 'n_HBD', 'n_hetero_atoms',\n",
       "       'n_hetero_cycles', 'n_rings', 'n_strict_rotable_bonds',\n",
       "       'n_non_strict_rotable_bonds', 'n_primary_carbon_atoms', 'n_HOH',\n",
       "       'n_O', 'n_Hydrogen_acceptors', 'n_Hydrogen_donnors',\n",
       "       'n_briged_head_atoms', 'n_atoms_stereo_centers',\n",
       "       'n_atoms_unspecified_stereo_centers', 'n_spiro_atoms', 'm_logp',\n",
       "       'm_mr', 'fraction_CSP3', 'is_cns_molecule'], dtype=object)"
      ]
     },
     "execution_count": 11,
     "metadata": {},
     "output_type": "execute_result"
    }
   ],
   "source": [
    "columns=mixed_df.columns.values; columns"
   ]
  },
  {
   "cell_type": "markdown",
   "metadata": {},
   "source": [
    "# Model"
   ]
  },
  {
   "cell_type": "code",
   "execution_count": 12,
   "metadata": {},
   "outputs": [],
   "source": [
    "from sklearn.model_selection import train_test_split\n",
    "from sklearn.metrics import confusion_matrix\n",
    "from sklearn.metrics import f1_score\n",
    "from sklearn.metrics import accuracy_score\n",
    "from sklearn.svm import LinearSVC"
   ]
  },
  {
   "cell_type": "code",
   "execution_count": 13,
   "metadata": {},
   "outputs": [],
   "source": [
    "mixed_df=mixed_df.set_index([\"m_name\"])"
   ]
  },
  {
   "cell_type": "code",
   "execution_count": 14,
   "metadata": {},
   "outputs": [],
   "source": [
    "clf = LinearSVC(random_state=0, tol=1e-5, dual=False)"
   ]
  },
  {
   "cell_type": "code",
   "execution_count": 15,
   "metadata": {},
   "outputs": [],
   "source": [
    "y=mixed_df[\"is_cns_molecule\"]\n",
    "x=mixed_df.drop([\"is_cns_molecule\"],axis=1)"
   ]
  },
  {
   "cell_type": "code",
   "execution_count": 16,
   "metadata": {},
   "outputs": [],
   "source": [
    "x_train, x_test, y_train, y_test=train_test_split(x,y,random_state=0,test_size=0.2)"
   ]
  },
  {
   "cell_type": "code",
   "execution_count": 17,
   "metadata": {},
   "outputs": [
    {
     "data": {
      "text/plain": [
       "LinearSVC(C=1.0, class_weight=None, dual=False, fit_intercept=True,\n",
       "          intercept_scaling=1, loss='squared_hinge', max_iter=1000,\n",
       "          multi_class='ovr', penalty='l2', random_state=0, tol=1e-05,\n",
       "          verbose=0)"
      ]
     },
     "execution_count": 17,
     "metadata": {},
     "output_type": "execute_result"
    }
   ],
   "source": [
    "clf.fit(x_train,y_train)"
   ]
  },
  {
   "cell_type": "code",
   "execution_count": 18,
   "metadata": {},
   "outputs": [],
   "source": [
    "predicted=clf.predict(x_test)"
   ]
  },
  {
   "cell_type": "code",
   "execution_count": 19,
   "metadata": {},
   "outputs": [],
   "source": [
    "matrix=confusion_matrix(y_test,predicted)\n",
    "matrix_labels=[[\"True positive\",\"False positive\"],\n",
    "                         [\"False negative\",\"True negative\"]]"
   ]
  },
  {
   "cell_type": "code",
   "execution_count": 20,
   "metadata": {},
   "outputs": [
    {
     "name": "stdout",
     "output_type": "stream",
     "text": [
      "True positive 104\n",
      "False positive 9\n",
      "False negative 29\n",
      "True negative 46\n"
     ]
    }
   ],
   "source": [
    "for i in range(2):\n",
    "    for j in range(2):\n",
    "        print(\"{} {}\".format(matrix_labels[i][j],matrix[i][j]))"
   ]
  },
  {
   "cell_type": "code",
   "execution_count": 21,
   "metadata": {},
   "outputs": [
    {
     "name": "stdout",
     "output_type": "stream",
     "text": [
      "f1 score: 70.76923076923075%\n",
      "accuracy score: 79.7872340425532%\n"
     ]
    }
   ],
   "source": [
    "print(\"f1 score: {}%\".format(f1_score(y_test,predicted)*100)) \n",
    "print(\"accuracy score: {}%\".format(accuracy_score(y_test,predicted)*100))"
   ]
  },
  {
   "cell_type": "code",
   "execution_count": 22,
   "metadata": {},
   "outputs": [
    {
     "ename": "SyntaxError",
     "evalue": "non-default argument follows default argument (<ipython-input-22-3fad8e4a225b>, line 4)",
     "output_type": "error",
     "traceback": [
      "\u001b[1;36m  File \u001b[1;32m\"<ipython-input-22-3fad8e4a225b>\"\u001b[1;36m, line \u001b[1;32m4\u001b[0m\n\u001b[1;33m    def selector_scores(selection_type=mutual_info_regression,selected_k,columns_length,\u001b[0m\n\u001b[1;37m                       ^\u001b[0m\n\u001b[1;31mSyntaxError\u001b[0m\u001b[1;31m:\u001b[0m non-default argument follows default argument\n"
     ]
    }
   ],
   "source": [
    "from sklearn.feature_selection import *\n",
    "# mutual_info_regression,mutual_info_classif,f_regression\n",
    "\n",
    "def selector_scores(selection_type=mutual_info_regression,selected_k=len(x.columns)/2,columns_length=len(x.columns),\n",
    "                    data=x,historical_class=y):\n",
    "    \n",
    "    def print_selector_score(selector,columns_length):      \n",
    "        scores = selector.scores_\n",
    "        plt.figure(figsize=(12,8),dpi=80)\n",
    "        plt.plot(scores)\n",
    "        plt.xticks(np.arange(columns_length),[x for x in range(columns_length)]);\n",
    "        return scores\n",
    "    \n",
    "    selector = SelectKBest(selection_type, k=selected_k)\n",
    "    selector.fit(data,historical_class)\n",
    "    scores=print_selector_score(selector,columns_length)\n",
    "    \n",
    "    return scores"
   ]
  },
  {
   "cell_type": "code",
   "execution_count": null,
   "metadata": {},
   "outputs": [],
   "source": [
    "from itertools import chain \n",
    "\n",
    "def get_fixed_list(lst: list):   \n",
    "    def remove_duplicates(lst: list):\n",
    "        unique_lst = []\n",
    "        for data in lst:\n",
    "            if data not in unique_lst:\n",
    "                unique_lst.append(data)\n",
    "        return unique_lst  \n",
    "    \n",
    "    lst_1d=list(chain.from_iterable(lst))\n",
    "    return remove_duplicates(lst_1d)"
   ]
  },
  {
   "cell_type": "code",
   "execution_count": null,
   "metadata": {},
   "outputs": [],
   "source": [
    "def get_weigth_zero_features(data_df,scores):\n",
    "    weight_zero_features=[]\n",
    "    for label,i in zip(data_df.columns,scores):\n",
    "        if i==0: weight_zero_features.append(label)\n",
    "    return weight_zero_features"
   ]
  },
  {
   "cell_type": "code",
   "execution_count": null,
   "metadata": {},
   "outputs": [],
   "source": [
    "def get_weigths_n_iteration(data=x,historical_class=y,n):        \n",
    "    lst=[]\n",
    "    for i in range(n):\n",
    "        scores=selector_scores(data,historical_class,)\n",
    "        weight_zero_features=get_weigth_zero_features(data,scores)\n",
    "        lst.append(weight_zero_features)\n",
    "    return get_fixed_list(lst)"
   ]
  },
  {
   "cell_type": "code",
   "execution_count": null,
   "metadata": {},
   "outputs": [],
   "source": [
    "weight_zero_features=get_weigths_n_iteration(10)"
   ]
  },
  {
   "cell_type": "markdown",
   "metadata": {},
   "source": [
    "# Getting rid of weigth 0 features"
   ]
  },
  {
   "cell_type": "code",
   "execution_count": null,
   "metadata": {},
   "outputs": [],
   "source": [
    "weight_zero_features"
   ]
  },
  {
   "cell_type": "code",
   "execution_count": null,
   "metadata": {},
   "outputs": [],
   "source": [
    "#mixed_df=mixed_df.drop(weight_zero_features,axis=1); "
   ]
  },
  {
   "cell_type": "code",
   "execution_count": null,
   "metadata": {},
   "outputs": [],
   "source": [
    "mixed_df.shape"
   ]
  },
  {
   "cell_type": "code",
   "execution_count": null,
   "metadata": {},
   "outputs": [],
   "source": [
    "#mixed_df.to_csv(\"molecules_v2.csv\",sep=\"\\t\",index = False, header=True)"
   ]
  }
 ],
 "metadata": {
  "kernelspec": {
   "display_name": "Python 3",
   "language": "python",
   "name": "python3"
  },
  "language_info": {
   "codemirror_mode": {
    "name": "ipython",
    "version": 3
   },
   "file_extension": ".py",
   "mimetype": "text/x-python",
   "name": "python",
   "nbconvert_exporter": "python",
   "pygments_lexer": "ipython3",
   "version": "3.7.4"
  },
  "latex_envs": {
   "LaTeX_envs_menu_present": true,
   "autoclose": false,
   "autocomplete": true,
   "bibliofile": "biblio.bib",
   "cite_by": "apalike",
   "current_citInitial": 1,
   "eqLabelWithNumbers": true,
   "eqNumInitial": 1,
   "hotkeys": {
    "equation": "Ctrl-E",
    "itemize": "Ctrl-I"
   },
   "labels_anchors": false,
   "latex_user_defs": false,
   "report_style_numbering": false,
   "user_envs_cfg": false
  }
 },
 "nbformat": 4,
 "nbformat_minor": 2
}
