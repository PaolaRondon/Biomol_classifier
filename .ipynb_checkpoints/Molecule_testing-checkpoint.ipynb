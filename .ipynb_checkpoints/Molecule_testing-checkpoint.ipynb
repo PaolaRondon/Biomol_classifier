{
 "cells": [
  {
   "cell_type": "markdown",
   "metadata": {},
   "source": [
    "# Imports"
   ]
  },
  {
   "cell_type": "code",
   "execution_count": 2,
   "metadata": {},
   "outputs": [],
   "source": [
    "import pandas as pd\n",
    "import numpy as np"
   ]
  },
  {
   "cell_type": "markdown",
   "metadata": {},
   "source": [
    "# Loading dataframe"
   ]
  },
  {
   "cell_type": "code",
   "execution_count": 2,
   "metadata": {},
   "outputs": [],
   "source": [
    "cns_smiles_df=pd.read_csv('cns_smiles.txt',sep='\\t')"
   ]
  },
  {
   "cell_type": "code",
   "execution_count": 3,
   "metadata": {},
   "outputs": [
    {
     "data": {
      "text/html": [
       "<div>\n",
       "<style scoped>\n",
       "    .dataframe tbody tr th:only-of-type {\n",
       "        vertical-align: middle;\n",
       "    }\n",
       "\n",
       "    .dataframe tbody tr th {\n",
       "        vertical-align: top;\n",
       "    }\n",
       "\n",
       "    .dataframe thead th {\n",
       "        text-align: right;\n",
       "    }\n",
       "</style>\n",
       "<table border=\"1\" class=\"dataframe\">\n",
       "  <thead>\n",
       "    <tr style=\"text-align: right;\">\n",
       "      <th></th>\n",
       "      <th>Name</th>\n",
       "      <th>Smiles</th>\n",
       "    </tr>\n",
       "  </thead>\n",
       "  <tbody>\n",
       "    <tr>\n",
       "      <td>0</td>\n",
       "      <td>ACETAZOLAMIDE</td>\n",
       "      <td>CC(=O)Nc1nnc(s1)S(=O)(=O)N</td>\n",
       "    </tr>\n",
       "    <tr>\n",
       "      <td>1</td>\n",
       "      <td>ACETOPHENAZINE</td>\n",
       "      <td>CC(=O)c1ccc2c(c1)N(c3ccccc3S2)CCCN4CCN(CC4)CCO</td>\n",
       "    </tr>\n",
       "    <tr>\n",
       "      <td>2</td>\n",
       "      <td>ALFENTANIL</td>\n",
       "      <td>CCC(=O)N(c1ccccc1)C2(CCN(CC2)CCn3c(=O)n(nn3)CC...</td>\n",
       "    </tr>\n",
       "    <tr>\n",
       "      <td>3</td>\n",
       "      <td>ALPRAZOLAM</td>\n",
       "      <td>Cc1nnc2n1-c3ccc(cc3C(=NC2)c4ccccc4)Cl</td>\n",
       "    </tr>\n",
       "    <tr>\n",
       "      <td>4</td>\n",
       "      <td>AMANTADINE</td>\n",
       "      <td>C1C2CC3CC1CC(C2)(C3)N</td>\n",
       "    </tr>\n",
       "    <tr>\n",
       "      <td>...</td>\n",
       "      <td>...</td>\n",
       "      <td>...</td>\n",
       "    </tr>\n",
       "    <tr>\n",
       "      <td>311</td>\n",
       "      <td>BROMPERIDOL</td>\n",
       "      <td>c1cc(ccc1C(=O)CCCN2CCC(CC2)(c3ccc(cc3)Br)O)F</td>\n",
       "    </tr>\n",
       "    <tr>\n",
       "      <td>312</td>\n",
       "      <td>ETHCHLORVYNOL</td>\n",
       "      <td>CCC(/C=C/Cl)(C#C)O</td>\n",
       "    </tr>\n",
       "    <tr>\n",
       "      <td>313</td>\n",
       "      <td>CHLORMETHIAZOLE</td>\n",
       "      <td>c1c(scn1)CCCl</td>\n",
       "    </tr>\n",
       "    <tr>\n",
       "      <td>314</td>\n",
       "      <td>DRONABINOL</td>\n",
       "      <td>CCCCCc1cc(c2c(c1)OC(C3C2C=C(CC3)C)(C)C)O</td>\n",
       "    </tr>\n",
       "    <tr>\n",
       "      <td>315</td>\n",
       "      <td>PALONOSETRON</td>\n",
       "      <td>c1cc2c3c(c1)C(=O)N(CC3CCC2)C4CN5CCC4CC5</td>\n",
       "    </tr>\n",
       "  </tbody>\n",
       "</table>\n",
       "<p>316 rows × 2 columns</p>\n",
       "</div>"
      ],
      "text/plain": [
       "                Name                                             Smiles\n",
       "0      ACETAZOLAMIDE                         CC(=O)Nc1nnc(s1)S(=O)(=O)N\n",
       "1     ACETOPHENAZINE     CC(=O)c1ccc2c(c1)N(c3ccccc3S2)CCCN4CCN(CC4)CCO\n",
       "2         ALFENTANIL  CCC(=O)N(c1ccccc1)C2(CCN(CC2)CCn3c(=O)n(nn3)CC...\n",
       "3         ALPRAZOLAM              Cc1nnc2n1-c3ccc(cc3C(=NC2)c4ccccc4)Cl\n",
       "4         AMANTADINE                              C1C2CC3CC1CC(C2)(C3)N\n",
       "..               ...                                                ...\n",
       "311      BROMPERIDOL       c1cc(ccc1C(=O)CCCN2CCC(CC2)(c3ccc(cc3)Br)O)F\n",
       "312    ETHCHLORVYNOL                                 CCC(/C=C/Cl)(C#C)O\n",
       "313  CHLORMETHIAZOLE                                      c1c(scn1)CCCl\n",
       "314       DRONABINOL           CCCCCc1cc(c2c(c1)OC(C3C2C=C(CC3)C)(C)C)O\n",
       "315     PALONOSETRON            c1cc2c3c(c1)C(=O)N(CC3CCC2)C4CN5CCC4CC5\n",
       "\n",
       "[316 rows x 2 columns]"
      ]
     },
     "execution_count": 3,
     "metadata": {},
     "output_type": "execute_result"
    }
   ],
   "source": [
    "cns_smiles_df"
   ]
  },
  {
   "cell_type": "markdown",
   "metadata": {},
   "source": [
    "# rdkit imports"
   ]
  },
  {
   "cell_type": "code",
   "execution_count": 4,
   "metadata": {},
   "outputs": [
    {
     "name": "stderr",
     "output_type": "stream",
     "text": [
      "RDKit WARNING: [15:45:11] Enabling RDKit 2019.09.3 jupyter extensions\n"
     ]
    }
   ],
   "source": [
    "from IPython.display import SVG\n",
    "from rdkit import Chem\n",
    "from rdkit.Chem import AllChem\n",
    "from rdkit.Chem import rdDepictor\n",
    "from rdkit.Chem.Draw import rdMolDraw2D\n",
    "from rdkit.Chem import Draw"
   ]
  },
  {
   "cell_type": "code",
   "execution_count": 5,
   "metadata": {},
   "outputs": [
    {
     "name": "stdout",
     "output_type": "stream",
     "text": [
      "ACETAZOLAMIDE -> CC(=O)Nc1nnc(s1)S(=O)(=O)N\n"
     ]
    }
   ],
   "source": [
    "# variables get their values from the dataframe\n",
    "mol_name=cns_smiles_df.loc[[0],'Name'][0]\n",
    "mol_smiles=cns_smiles_df.loc[[0],'Smiles'][0]\n",
    "print(f\"{mol_name} -> {mol_smiles}\")"
   ]
  },
  {
   "cell_type": "code",
   "execution_count": 6,
   "metadata": {},
   "outputs": [],
   "source": [
    "m = Chem.MolFromSmiles(mol_smiles)"
   ]
  },
  {
   "cell_type": "markdown",
   "metadata": {},
   "source": [
    "### Mol blocks "
   ]
  },
  {
   "cell_type": "code",
   "execution_count": 7,
   "metadata": {},
   "outputs": [
    {
     "name": "stdout",
     "output_type": "stream",
     "text": [
      "ACETAZOLAMIDE\n",
      "     RDKit          2D\n",
      "\n",
      " 13 13  0  0  0  0  0  0  0  0999 V2000\n",
      "    4.7053   -0.5461    0.0000 C   0  0  0  0  0  0  0  0  0  0  0  0\n",
      "    3.2069   -0.4773    0.0000 C   0  0  0  0  0  0  0  0  0  0  0  0\n",
      "    2.3980   -1.7405    0.0000 O   0  0  0  0  0  0  0  0  0  0  0  0\n",
      "    2.5173    0.8549    0.0000 N   0  0  0  0  0  0  0  0  0  0  0  0\n",
      "    1.0189    0.9238    0.0000 C   0  0  0  0  0  0  0  0  0  0  0  0\n",
      "    0.1939    2.1765    0.0000 N   0  0  0  0  0  0  0  0  0  0  0  0\n",
      "   -1.2524    1.7790    0.0000 N   0  0  0  0  0  0  0  0  0  0  0  0\n",
      "   -1.3213    0.2806    0.0000 C   0  0  0  0  0  0  0  0  0  0  0  0\n",
      "    0.0824   -0.2480    0.0000 S   0  0  0  0  0  0  0  0  0  0  0  0\n",
      "   -2.5741   -0.5444    0.0000 S   0  0  0  0  0  0  0  0  0  0  0  0\n",
      "   -3.3991    0.7083    0.0000 O   0  0  0  0  0  0  0  0  0  0  0  0\n",
      "   -1.7491   -1.7972    0.0000 O   0  0  0  0  0  0  0  0  0  0  0  0\n",
      "   -3.8268   -1.3695    0.0000 N   0  0  0  0  0  0  0  0  0  0  0  0\n",
      "  1  2  1  0\n",
      "  2  3  2  0\n",
      "  2  4  1  0\n",
      "  4  5  1  0\n",
      "  5  6  2  0\n",
      "  6  7  1  0\n",
      "  7  8  2  0\n",
      "  8  9  1  0\n",
      "  8 10  1  0\n",
      " 10 11  2  0\n",
      " 10 12  2  0\n",
      " 10 13  1  0\n",
      "  9  5  1  0\n",
      "M  END\n",
      "\n"
     ]
    }
   ],
   "source": [
    "AllChem.Compute2DCoords(m) # 2d\n",
    "m.SetProp(\"_Name\",mol_name)\n",
    "print(Chem.MolToMolBlock(m))"
   ]
  },
  {
   "cell_type": "code",
   "execution_count": 8,
   "metadata": {},
   "outputs": [
    {
     "name": "stdout",
     "output_type": "stream",
     "text": [
      "x:4.705308677525869 | y:-0.5461492880085369 \n",
      "x:3.2068916882790144 | y:-0.4772542494615457 \n",
      "x:2.398018340079184 | y:-1.7404739083380207 \n",
      "x:2.51734804723199 | y:0.8548604479619201 \n",
      "x:1.0189310579851356 | y:0.9237554865089113 \n",
      "x:0.193920906933978 | y:2.176495783083802 \n",
      "x:-1.2524480725557454 | y:1.7789825440969034 \n",
      "x:-1.3213431111027367 | y:0.28056555485004886 \n",
      "x:0.08244639290871181 | y:-0.24799383483789417 \n",
      "x:-2.5740834076776276 | y:-0.5444445962011079 \n",
      "x:-3.3990935587287847 | y:0.7082957003737838 \n",
      "x:-1.7490732566264704 | y:-1.797184892775999 \n",
      "x:-3.8268237042525186 | y:-1.369454747252265 \n"
     ]
    }
   ],
   "source": [
    "AllChem.Compute2DCoords(m) # 2d\n",
    "for i in range(m.GetNumAtoms()): # same info as above, using Chem.MolToMolBlock(m)\n",
    "    pos = m.GetConformer().GetAtomPosition(i)\n",
    "    print(f\"x:{pos.x} | y:{pos.y} \")"
   ]
  },
  {
   "cell_type": "code",
   "execution_count": 9,
   "metadata": {},
   "outputs": [
    {
     "name": "stdout",
     "output_type": "stream",
     "text": [
      "(<rdkit.Chem.rdchem.Conformer object at 0x000001D685AF6330>,)\n",
      "(<rdkit.Chem.rdchem.Conformer object at 0x000001D685AF6870>,)\n"
     ]
    }
   ],
   "source": [
    "conforms = m.GetConformers()\n",
    "print(conforms)\n",
    "\n",
    "mh = Chem.AddHs(m)\n",
    "AllChem.EmbedMolecule(mh)\n",
    "print(mh.GetConformers())"
   ]
  },
  {
   "cell_type": "code",
   "execution_count": 10,
   "metadata": {},
   "outputs": [
    {
     "name": "stdout",
     "output_type": "stream",
     "text": [
      "ACETAZOLAMIDE\n",
      "     RDKit          3D\n",
      "\n",
      " 13 13  0  0  0  0  0  0  0  0999 V2000\n",
      "    4.9239   -0.1077   -0.4341 C   0  0  0  0  0  0  0  0  0  0  0  0\n",
      "    3.4446   -0.0062   -0.3919 C   0  0  0  0  0  0  0  0  0  0  0  0\n",
      "    2.8647    0.7545   -1.2069 O   0  0  0  0  0  0  0  0  0  0  0  0\n",
      "    2.6315   -0.7213    0.5203 N   0  0  0  0  0  0  0  0  0  0  0  0\n",
      "    1.1923   -0.5715    0.5024 C   0  0  0  0  0  0  0  0  0  0  0  0\n",
      "    0.2971   -1.1657    1.2842 N   0  0  0  0  0  0  0  0  0  0  0  0\n",
      "   -0.9275   -0.9152    1.1270 N   0  0  0  0  0  0  0  0  0  0  0  0\n",
      "   -1.3242   -0.0653    0.1895 C   0  0  0  0  0  0  0  0  0  0  0  0\n",
      "    0.1772    0.3846   -0.4910 S   0  0  0  0  0  0  0  0  0  0  0  0\n",
      "   -2.9607    0.4468   -0.2251 S   0  0  0  0  0  0  0  0  0  0  0  0\n",
      "   -3.9211   -0.6417    0.1553 O   0  0  0  0  0  0  0  0  0  0  0  0\n",
      "   -3.0173    0.7574   -1.7004 O   0  0  0  0  0  0  0  0  0  0  0  0\n",
      "   -3.3804    1.8513    0.7121 N   0  0  0  0  0  0  0  0  0  0  0  0\n",
      "  1  2  1  0\n",
      "  2  3  2  0\n",
      "  2  4  1  0\n",
      "  4  5  1  0\n",
      "  5  6  2  0\n",
      "  6  7  1  0\n",
      "  7  8  2  0\n",
      "  8  9  1  0\n",
      "  8 10  1  0\n",
      " 10 11  2  0\n",
      " 10 12  2  0\n",
      " 10 13  1  0\n",
      "  9  5  1  0\n",
      "M  END\n",
      "\n"
     ]
    }
   ],
   "source": [
    "AllChem.EmbedMolecule(m) # 3d\n",
    "m.SetProp(\"_Name\",mol_name)\n",
    "print(Chem.MolToMolBlock(m))"
   ]
  },
  {
   "cell_type": "markdown",
   "metadata": {},
   "source": [
    "### Normally molecules are stored in the RDKit with the hydrogen atoms implicit (e.g. not explicitly present in the molecular graph. When it is useful to have the hydrogens explicitly present, for example when generating or optimizing the 3D geometry"
   ]
  },
  {
   "cell_type": "code",
   "execution_count": 11,
   "metadata": {},
   "outputs": [
    {
     "data": {
      "text/plain": [
       "13"
      ]
     },
     "execution_count": 11,
     "metadata": {},
     "output_type": "execute_result"
    }
   ],
   "source": [
    "m.GetNumAtoms() # notice that this gives us the same length than element = [atom.GetSymbol() for atom in m.GetAtoms()]"
   ]
  },
  {
   "cell_type": "code",
   "execution_count": 12,
   "metadata": {},
   "outputs": [
    {
     "data": {
      "text/plain": [
       "19"
      ]
     },
     "execution_count": 12,
     "metadata": {},
     "output_type": "execute_result"
    }
   ],
   "source": [
    "m2 = Chem.AddHs(m)\n",
    "m2.GetNumAtoms()"
   ]
  },
  {
   "cell_type": "markdown",
   "metadata": {},
   "source": [
    "#### The Hs can be removed again using the rdkit.Chem.rdmolops.RemoveHs() function"
   ]
  },
  {
   "cell_type": "code",
   "execution_count": 13,
   "metadata": {
    "scrolled": true
   },
   "outputs": [
    {
     "data": {
      "text/plain": [
       "13"
      ]
     },
     "execution_count": 13,
     "metadata": {},
     "output_type": "execute_result"
    }
   ],
   "source": [
    "m3 = Chem.RemoveHs(m2)\n",
    "m3.GetNumAtoms()"
   ]
  },
  {
   "cell_type": "markdown",
   "metadata": {},
   "source": [
    "# Working with Molecules"
   ]
  },
  {
   "cell_type": "code",
   "execution_count": 14,
   "metadata": {},
   "outputs": [
    {
     "name": "stdout",
     "output_type": "stream",
     "text": [
      "ACETAZOLAMIDE formula: C4H6N4O3S2\n"
     ]
    }
   ],
   "source": [
    "print(\"{} formula: {}\".format(mol_name,AllChem.CalcMolFormula(m)))"
   ]
  },
  {
   "cell_type": "code",
   "execution_count": 15,
   "metadata": {},
   "outputs": [
    {
     "name": "stdout",
     "output_type": "stream",
     "text": [
      "aliphatic carbon atoms: 2\n"
     ]
    }
   ],
   "source": [
    "patt= Chem.MolFromSmarts(\"[C]\")\n",
    "pm = m.GetSubstructMatches(patt)\n",
    "print (\"aliphatic carbon atoms: {}\".format(len(pm)))"
   ]
  },
  {
   "cell_type": "code",
   "execution_count": 16,
   "metadata": {},
   "outputs": [
    {
     "name": "stdout",
     "output_type": "stream",
     "text": [
      "Total carbon atoms: 4\n"
     ]
    }
   ],
   "source": [
    "patt = Chem.MolFromSmarts(\"[#6]\")\n",
    "pm = m.GetSubstructMatches(patt)\n",
    "print (\"Total carbon atoms: {}\".format(len(pm)))"
   ]
  },
  {
   "cell_type": "markdown",
   "metadata": {},
   "source": [
    "#### Adjacency matrix"
   ]
  },
  {
   "cell_type": "code",
   "execution_count": 17,
   "metadata": {},
   "outputs": [
    {
     "data": {
      "text/plain": [
       "array([[0, 1, 0, 0, 0, 0, 0, 0, 0, 0, 0, 0, 0],\n",
       "       [1, 0, 1, 1, 0, 0, 0, 0, 0, 0, 0, 0, 0],\n",
       "       [0, 1, 0, 0, 0, 0, 0, 0, 0, 0, 0, 0, 0],\n",
       "       [0, 1, 0, 0, 1, 0, 0, 0, 0, 0, 0, 0, 0],\n",
       "       [0, 0, 0, 1, 0, 1, 0, 0, 1, 0, 0, 0, 0],\n",
       "       [0, 0, 0, 0, 1, 0, 1, 0, 0, 0, 0, 0, 0],\n",
       "       [0, 0, 0, 0, 0, 1, 0, 1, 0, 0, 0, 0, 0],\n",
       "       [0, 0, 0, 0, 0, 0, 1, 0, 1, 1, 0, 0, 0],\n",
       "       [0, 0, 0, 0, 1, 0, 0, 1, 0, 0, 0, 0, 0],\n",
       "       [0, 0, 0, 0, 0, 0, 0, 1, 0, 0, 1, 1, 1],\n",
       "       [0, 0, 0, 0, 0, 0, 0, 0, 0, 1, 0, 0, 0],\n",
       "       [0, 0, 0, 0, 0, 0, 0, 0, 0, 1, 0, 0, 0],\n",
       "       [0, 0, 0, 0, 0, 0, 0, 0, 0, 1, 0, 0, 0]], dtype=int32)"
      ]
     },
     "execution_count": 17,
     "metadata": {},
     "output_type": "execute_result"
    }
   ],
   "source": [
    "am = Chem.GetAdjacencyMatrix(m)\n",
    "am"
   ]
  },
  {
   "cell_type": "code",
   "execution_count": 18,
   "metadata": {},
   "outputs": [
    {
     "data": {
      "text/plain": [
       "['C', 'C', 'O', 'N', 'C', 'N', 'N', 'C', 'S', 'S', 'O', 'O', 'N']"
      ]
     },
     "execution_count": 18,
     "metadata": {},
     "output_type": "execute_result"
    }
   ],
   "source": [
    "element = [atom.GetSymbol() for atom in m.GetAtoms()]\n",
    "element"
   ]
  },
  {
   "cell_type": "code",
   "execution_count": 19,
   "metadata": {},
   "outputs": [
    {
     "data": {
      "text/html": [
       "<div>\n",
       "<style scoped>\n",
       "    .dataframe tbody tr th:only-of-type {\n",
       "        vertical-align: middle;\n",
       "    }\n",
       "\n",
       "    .dataframe tbody tr th {\n",
       "        vertical-align: top;\n",
       "    }\n",
       "\n",
       "    .dataframe thead th {\n",
       "        text-align: right;\n",
       "    }\n",
       "</style>\n",
       "<table border=\"1\" class=\"dataframe\">\n",
       "  <thead>\n",
       "    <tr style=\"text-align: right;\">\n",
       "      <th></th>\n",
       "      <th>C</th>\n",
       "      <th>C</th>\n",
       "      <th>O</th>\n",
       "      <th>N</th>\n",
       "      <th>C</th>\n",
       "      <th>N</th>\n",
       "      <th>N</th>\n",
       "      <th>C</th>\n",
       "      <th>S</th>\n",
       "      <th>S</th>\n",
       "      <th>O</th>\n",
       "      <th>O</th>\n",
       "      <th>N</th>\n",
       "    </tr>\n",
       "  </thead>\n",
       "  <tbody>\n",
       "    <tr>\n",
       "      <td>C</td>\n",
       "      <td>0</td>\n",
       "      <td>1</td>\n",
       "      <td>0</td>\n",
       "      <td>0</td>\n",
       "      <td>0</td>\n",
       "      <td>0</td>\n",
       "      <td>0</td>\n",
       "      <td>0</td>\n",
       "      <td>0</td>\n",
       "      <td>0</td>\n",
       "      <td>0</td>\n",
       "      <td>0</td>\n",
       "      <td>0</td>\n",
       "    </tr>\n",
       "    <tr>\n",
       "      <td>C</td>\n",
       "      <td>1</td>\n",
       "      <td>0</td>\n",
       "      <td>1</td>\n",
       "      <td>1</td>\n",
       "      <td>0</td>\n",
       "      <td>0</td>\n",
       "      <td>0</td>\n",
       "      <td>0</td>\n",
       "      <td>0</td>\n",
       "      <td>0</td>\n",
       "      <td>0</td>\n",
       "      <td>0</td>\n",
       "      <td>0</td>\n",
       "    </tr>\n",
       "    <tr>\n",
       "      <td>O</td>\n",
       "      <td>0</td>\n",
       "      <td>1</td>\n",
       "      <td>0</td>\n",
       "      <td>0</td>\n",
       "      <td>0</td>\n",
       "      <td>0</td>\n",
       "      <td>0</td>\n",
       "      <td>0</td>\n",
       "      <td>0</td>\n",
       "      <td>0</td>\n",
       "      <td>0</td>\n",
       "      <td>0</td>\n",
       "      <td>0</td>\n",
       "    </tr>\n",
       "    <tr>\n",
       "      <td>N</td>\n",
       "      <td>0</td>\n",
       "      <td>1</td>\n",
       "      <td>0</td>\n",
       "      <td>0</td>\n",
       "      <td>1</td>\n",
       "      <td>0</td>\n",
       "      <td>0</td>\n",
       "      <td>0</td>\n",
       "      <td>0</td>\n",
       "      <td>0</td>\n",
       "      <td>0</td>\n",
       "      <td>0</td>\n",
       "      <td>0</td>\n",
       "    </tr>\n",
       "    <tr>\n",
       "      <td>C</td>\n",
       "      <td>0</td>\n",
       "      <td>0</td>\n",
       "      <td>0</td>\n",
       "      <td>1</td>\n",
       "      <td>0</td>\n",
       "      <td>1</td>\n",
       "      <td>0</td>\n",
       "      <td>0</td>\n",
       "      <td>1</td>\n",
       "      <td>0</td>\n",
       "      <td>0</td>\n",
       "      <td>0</td>\n",
       "      <td>0</td>\n",
       "    </tr>\n",
       "    <tr>\n",
       "      <td>N</td>\n",
       "      <td>0</td>\n",
       "      <td>0</td>\n",
       "      <td>0</td>\n",
       "      <td>0</td>\n",
       "      <td>1</td>\n",
       "      <td>0</td>\n",
       "      <td>1</td>\n",
       "      <td>0</td>\n",
       "      <td>0</td>\n",
       "      <td>0</td>\n",
       "      <td>0</td>\n",
       "      <td>0</td>\n",
       "      <td>0</td>\n",
       "    </tr>\n",
       "    <tr>\n",
       "      <td>N</td>\n",
       "      <td>0</td>\n",
       "      <td>0</td>\n",
       "      <td>0</td>\n",
       "      <td>0</td>\n",
       "      <td>0</td>\n",
       "      <td>1</td>\n",
       "      <td>0</td>\n",
       "      <td>1</td>\n",
       "      <td>0</td>\n",
       "      <td>0</td>\n",
       "      <td>0</td>\n",
       "      <td>0</td>\n",
       "      <td>0</td>\n",
       "    </tr>\n",
       "    <tr>\n",
       "      <td>C</td>\n",
       "      <td>0</td>\n",
       "      <td>0</td>\n",
       "      <td>0</td>\n",
       "      <td>0</td>\n",
       "      <td>0</td>\n",
       "      <td>0</td>\n",
       "      <td>1</td>\n",
       "      <td>0</td>\n",
       "      <td>1</td>\n",
       "      <td>1</td>\n",
       "      <td>0</td>\n",
       "      <td>0</td>\n",
       "      <td>0</td>\n",
       "    </tr>\n",
       "    <tr>\n",
       "      <td>S</td>\n",
       "      <td>0</td>\n",
       "      <td>0</td>\n",
       "      <td>0</td>\n",
       "      <td>0</td>\n",
       "      <td>1</td>\n",
       "      <td>0</td>\n",
       "      <td>0</td>\n",
       "      <td>1</td>\n",
       "      <td>0</td>\n",
       "      <td>0</td>\n",
       "      <td>0</td>\n",
       "      <td>0</td>\n",
       "      <td>0</td>\n",
       "    </tr>\n",
       "    <tr>\n",
       "      <td>S</td>\n",
       "      <td>0</td>\n",
       "      <td>0</td>\n",
       "      <td>0</td>\n",
       "      <td>0</td>\n",
       "      <td>0</td>\n",
       "      <td>0</td>\n",
       "      <td>0</td>\n",
       "      <td>1</td>\n",
       "      <td>0</td>\n",
       "      <td>0</td>\n",
       "      <td>1</td>\n",
       "      <td>1</td>\n",
       "      <td>1</td>\n",
       "    </tr>\n",
       "    <tr>\n",
       "      <td>O</td>\n",
       "      <td>0</td>\n",
       "      <td>0</td>\n",
       "      <td>0</td>\n",
       "      <td>0</td>\n",
       "      <td>0</td>\n",
       "      <td>0</td>\n",
       "      <td>0</td>\n",
       "      <td>0</td>\n",
       "      <td>0</td>\n",
       "      <td>1</td>\n",
       "      <td>0</td>\n",
       "      <td>0</td>\n",
       "      <td>0</td>\n",
       "    </tr>\n",
       "    <tr>\n",
       "      <td>O</td>\n",
       "      <td>0</td>\n",
       "      <td>0</td>\n",
       "      <td>0</td>\n",
       "      <td>0</td>\n",
       "      <td>0</td>\n",
       "      <td>0</td>\n",
       "      <td>0</td>\n",
       "      <td>0</td>\n",
       "      <td>0</td>\n",
       "      <td>1</td>\n",
       "      <td>0</td>\n",
       "      <td>0</td>\n",
       "      <td>0</td>\n",
       "    </tr>\n",
       "    <tr>\n",
       "      <td>N</td>\n",
       "      <td>0</td>\n",
       "      <td>0</td>\n",
       "      <td>0</td>\n",
       "      <td>0</td>\n",
       "      <td>0</td>\n",
       "      <td>0</td>\n",
       "      <td>0</td>\n",
       "      <td>0</td>\n",
       "      <td>0</td>\n",
       "      <td>1</td>\n",
       "      <td>0</td>\n",
       "      <td>0</td>\n",
       "      <td>0</td>\n",
       "    </tr>\n",
       "  </tbody>\n",
       "</table>\n",
       "</div>"
      ],
      "text/plain": [
       "   C  C  O  N  C  N  N  C  S  S  O  O  N\n",
       "C  0  1  0  0  0  0  0  0  0  0  0  0  0\n",
       "C  1  0  1  1  0  0  0  0  0  0  0  0  0\n",
       "O  0  1  0  0  0  0  0  0  0  0  0  0  0\n",
       "N  0  1  0  0  1  0  0  0  0  0  0  0  0\n",
       "C  0  0  0  1  0  1  0  0  1  0  0  0  0\n",
       "N  0  0  0  0  1  0  1  0  0  0  0  0  0\n",
       "N  0  0  0  0  0  1  0  1  0  0  0  0  0\n",
       "C  0  0  0  0  0  0  1  0  1  1  0  0  0\n",
       "S  0  0  0  0  1  0  0  1  0  0  0  0  0\n",
       "S  0  0  0  0  0  0  0  1  0  0  1  1  1\n",
       "O  0  0  0  0  0  0  0  0  0  1  0  0  0\n",
       "O  0  0  0  0  0  0  0  0  0  1  0  0  0\n",
       "N  0  0  0  0  0  0  0  0  0  1  0  0  0"
      ]
     },
     "execution_count": 19,
     "metadata": {},
     "output_type": "execute_result"
    }
   ],
   "source": [
    "df_adj_elements = pd.DataFrame(am, index=element,  columns=element)\n",
    "df_adj_elements"
   ]
  },
  {
   "cell_type": "markdown",
   "metadata": {},
   "source": [
    "#### Number of atoms in each element"
   ]
  },
  {
   "cell_type": "code",
   "execution_count": 20,
   "metadata": {},
   "outputs": [
    {
     "name": "stdout",
     "output_type": "stream",
     "text": [
      "C:6\n",
      "C:6\n",
      "O:8\n",
      "N:7\n",
      "C:6\n",
      "N:7\n",
      "N:7\n",
      "C:6\n",
      "S:16\n",
      "S:16\n",
      "O:8\n",
      "O:8\n",
      "N:7\n"
     ]
    }
   ],
   "source": [
    "for te,atom in zip(element,m.GetAtoms()):\n",
    "    print(\"{}:{}\".format(te,atom.GetAtomicNum()))"
   ]
  },
  {
   "cell_type": "markdown",
   "metadata": {},
   "source": [
    "#### Type of bond for each element. Looping over Atoms and Bonds"
   ]
  },
  {
   "cell_type": "code",
   "execution_count": 21,
   "metadata": {},
   "outputs": [
    {
     "name": "stdout",
     "output_type": "stream",
     "text": [
      "C: SINGLE\n",
      "C: DOUBLE\n",
      "O: SINGLE\n",
      "N: SINGLE\n",
      "C: AROMATIC\n",
      "N: AROMATIC\n",
      "N: AROMATIC\n",
      "C: AROMATIC\n",
      "S: SINGLE\n",
      "S: DOUBLE\n",
      "O: DOUBLE\n",
      "O: SINGLE\n",
      "N: AROMATIC\n"
     ]
    }
   ],
   "source": [
    "for i in range(len(element)): # for i in range(m.GetNumAtoms()): same result\n",
    "    print(\"{}: {}\".format(element[i],m.GetBonds()[i].GetBondType()))"
   ]
  },
  {
   "cell_type": "markdown",
   "metadata": {},
   "source": [
    "#### Ring Information"
   ]
  },
  {
   "cell_type": "code",
   "execution_count": 22,
   "metadata": {},
   "outputs": [
    {
     "name": "stdout",
     "output_type": "stream",
     "text": [
      "C is is ring?: False\n",
      "C is is ring?: False\n",
      "O is is ring?: False\n",
      "N is is ring?: False\n",
      "C is is ring?: True\n",
      "N is is ring?: True\n",
      "N is is ring?: True\n",
      "C is is ring?: True\n",
      "S is is ring?: True\n",
      "S is is ring?: False\n",
      "O is is ring?: False\n",
      "O is is ring?: False\n",
      "N is is ring?: False\n"
     ]
    }
   ],
   "source": [
    "# other info: m.GetAtomWithIdx(i).IsInRingSize(n) where n is a integer\n",
    "for i in range(len(element)): # for i in range(m.GetNumAtoms()): same result\n",
    "    print(\"{} is is ring?: {}\".format(element[i],m.GetAtomWithIdx(i).IsInRing()))"
   ]
  },
  {
   "cell_type": "markdown",
   "metadata": {},
   "source": [
    "# Select k best"
   ]
  },
  {
   "cell_type": "code",
   "execution_count": 23,
   "metadata": {},
   "outputs": [],
   "source": [
    "import pandas as pd\n",
    "import numpy as np\n",
    "import matplotlib.pyplot as plt\n",
    "%matplotlib inline \n",
    "plt.rcParams.update({'figure.max_open_warning': 0})"
   ]
  },
  {
   "cell_type": "code",
   "execution_count": 24,
   "metadata": {},
   "outputs": [
    {
     "data": {
      "text/html": [
       "<div>\n",
       "<style scoped>\n",
       "    .dataframe tbody tr th:only-of-type {\n",
       "        vertical-align: middle;\n",
       "    }\n",
       "\n",
       "    .dataframe tbody tr th {\n",
       "        vertical-align: top;\n",
       "    }\n",
       "\n",
       "    .dataframe thead th {\n",
       "        text-align: right;\n",
       "    }\n",
       "</style>\n",
       "<table border=\"1\" class=\"dataframe\">\n",
       "  <thead>\n",
       "    <tr style=\"text-align: right;\">\n",
       "      <th></th>\n",
       "      <th>m_name</th>\n",
       "      <th>n_atoms_without_Hydrogen</th>\n",
       "      <th>n_atoms_with_Hydrogen</th>\n",
       "      <th>m_weight</th>\n",
       "      <th>m_avg_weigth</th>\n",
       "      <th>m_weigth_without_Hydrogen</th>\n",
       "      <th>n_radical_electrons</th>\n",
       "      <th>n_valence_electrons</th>\n",
       "      <th>n_aliphatic_carbocycles</th>\n",
       "      <th>n_aliphatic_heterocycles</th>\n",
       "      <th>...</th>\n",
       "      <th>n_Hydrogen_acceptors</th>\n",
       "      <th>n_Hydrogen_donnors</th>\n",
       "      <th>n_briged_head_atoms</th>\n",
       "      <th>n_atoms_stereo_centers</th>\n",
       "      <th>n_atoms_unspecified_stereo_centers</th>\n",
       "      <th>n_spiro_atoms</th>\n",
       "      <th>m_logp</th>\n",
       "      <th>m_mr</th>\n",
       "      <th>fraction_CSP3</th>\n",
       "      <th>is_cns_molecule</th>\n",
       "    </tr>\n",
       "  </thead>\n",
       "  <tbody>\n",
       "    <tr>\n",
       "      <td>0</td>\n",
       "      <td>BUMETANIDE</td>\n",
       "      <td>25</td>\n",
       "      <td>45</td>\n",
       "      <td>364.109293</td>\n",
       "      <td>344.263</td>\n",
       "      <td>364.423</td>\n",
       "      <td>0</td>\n",
       "      <td>134</td>\n",
       "      <td>0</td>\n",
       "      <td>0</td>\n",
       "      <td>...</td>\n",
       "      <td>5</td>\n",
       "      <td>3</td>\n",
       "      <td>0</td>\n",
       "      <td>0</td>\n",
       "      <td>0</td>\n",
       "      <td>0</td>\n",
       "      <td>3.0365</td>\n",
       "      <td>94.6882</td>\n",
       "      <td>0.235294</td>\n",
       "      <td>0</td>\n",
       "    </tr>\n",
       "    <tr>\n",
       "      <td>1</td>\n",
       "      <td>BACLOFEN</td>\n",
       "      <td>14</td>\n",
       "      <td>26</td>\n",
       "      <td>213.055656</td>\n",
       "      <td>201.568</td>\n",
       "      <td>213.664</td>\n",
       "      <td>0</td>\n",
       "      <td>76</td>\n",
       "      <td>0</td>\n",
       "      <td>0</td>\n",
       "      <td>...</td>\n",
       "      <td>2</td>\n",
       "      <td>2</td>\n",
       "      <td>0</td>\n",
       "      <td>1</td>\n",
       "      <td>1</td>\n",
       "      <td>0</td>\n",
       "      <td>1.8570</td>\n",
       "      <td>55.5002</td>\n",
       "      <td>0.300000</td>\n",
       "      <td>1</td>\n",
       "    </tr>\n",
       "    <tr>\n",
       "      <td>2</td>\n",
       "      <td>METYRAPONE</td>\n",
       "      <td>17</td>\n",
       "      <td>31</td>\n",
       "      <td>226.110613</td>\n",
       "      <td>212.167</td>\n",
       "      <td>226.279</td>\n",
       "      <td>0</td>\n",
       "      <td>86</td>\n",
       "      <td>0</td>\n",
       "      <td>0</td>\n",
       "      <td>...</td>\n",
       "      <td>3</td>\n",
       "      <td>0</td>\n",
       "      <td>0</td>\n",
       "      <td>0</td>\n",
       "      <td>0</td>\n",
       "      <td>0</td>\n",
       "      <td>2.6371</td>\n",
       "      <td>65.8305</td>\n",
       "      <td>0.214286</td>\n",
       "      <td>0</td>\n",
       "    </tr>\n",
       "    <tr>\n",
       "      <td>3</td>\n",
       "      <td>METHYLPHENOBARBITAL</td>\n",
       "      <td>18</td>\n",
       "      <td>32</td>\n",
       "      <td>246.100442</td>\n",
       "      <td>232.154</td>\n",
       "      <td>246.266</td>\n",
       "      <td>0</td>\n",
       "      <td>94</td>\n",
       "      <td>0</td>\n",
       "      <td>1</td>\n",
       "      <td>...</td>\n",
       "      <td>3</td>\n",
       "      <td>1</td>\n",
       "      <td>0</td>\n",
       "      <td>1</td>\n",
       "      <td>1</td>\n",
       "      <td>0</td>\n",
       "      <td>1.0426</td>\n",
       "      <td>64.7197</td>\n",
       "      <td>0.307692</td>\n",
       "      <td>1</td>\n",
       "    </tr>\n",
       "    <tr>\n",
       "      <td>4</td>\n",
       "      <td>DULOXETINE</td>\n",
       "      <td>21</td>\n",
       "      <td>40</td>\n",
       "      <td>297.118735</td>\n",
       "      <td>278.271</td>\n",
       "      <td>297.423</td>\n",
       "      <td>0</td>\n",
       "      <td>108</td>\n",
       "      <td>0</td>\n",
       "      <td>0</td>\n",
       "      <td>...</td>\n",
       "      <td>3</td>\n",
       "      <td>1</td>\n",
       "      <td>0</td>\n",
       "      <td>1</td>\n",
       "      <td>1</td>\n",
       "      <td>0</td>\n",
       "      <td>4.6309</td>\n",
       "      <td>90.1797</td>\n",
       "      <td>0.222222</td>\n",
       "      <td>1</td>\n",
       "    </tr>\n",
       "    <tr>\n",
       "      <td>...</td>\n",
       "      <td>...</td>\n",
       "      <td>...</td>\n",
       "      <td>...</td>\n",
       "      <td>...</td>\n",
       "      <td>...</td>\n",
       "      <td>...</td>\n",
       "      <td>...</td>\n",
       "      <td>...</td>\n",
       "      <td>...</td>\n",
       "      <td>...</td>\n",
       "      <td>...</td>\n",
       "      <td>...</td>\n",
       "      <td>...</td>\n",
       "      <td>...</td>\n",
       "      <td>...</td>\n",
       "      <td>...</td>\n",
       "      <td>...</td>\n",
       "      <td>...</td>\n",
       "      <td>...</td>\n",
       "      <td>...</td>\n",
       "      <td>...</td>\n",
       "    </tr>\n",
       "    <tr>\n",
       "      <td>935</td>\n",
       "      <td>SAPROPTERIN</td>\n",
       "      <td>17</td>\n",
       "      <td>32</td>\n",
       "      <td>241.117489</td>\n",
       "      <td>226.131</td>\n",
       "      <td>241.251</td>\n",
       "      <td>0</td>\n",
       "      <td>94</td>\n",
       "      <td>0</td>\n",
       "      <td>1</td>\n",
       "      <td>...</td>\n",
       "      <td>7</td>\n",
       "      <td>6</td>\n",
       "      <td>0</td>\n",
       "      <td>3</td>\n",
       "      <td>3</td>\n",
       "      <td>0</td>\n",
       "      <td>-1.7002</td>\n",
       "      <td>62.8581</td>\n",
       "      <td>0.555556</td>\n",
       "      <td>0</td>\n",
       "    </tr>\n",
       "    <tr>\n",
       "      <td>936</td>\n",
       "      <td>PHENELZINE</td>\n",
       "      <td>10</td>\n",
       "      <td>22</td>\n",
       "      <td>136.100048</td>\n",
       "      <td>124.102</td>\n",
       "      <td>136.198</td>\n",
       "      <td>0</td>\n",
       "      <td>54</td>\n",
       "      <td>0</td>\n",
       "      <td>0</td>\n",
       "      <td>...</td>\n",
       "      <td>2</td>\n",
       "      <td>2</td>\n",
       "      <td>0</td>\n",
       "      <td>0</td>\n",
       "      <td>0</td>\n",
       "      <td>0</td>\n",
       "      <td>0.6924</td>\n",
       "      <td>42.3361</td>\n",
       "      <td>0.250000</td>\n",
       "      <td>1</td>\n",
       "    </tr>\n",
       "    <tr>\n",
       "      <td>937</td>\n",
       "      <td>ISOPROTERENOL_HYDROCHLORIDE</td>\n",
       "      <td>15</td>\n",
       "      <td>32</td>\n",
       "      <td>211.120843</td>\n",
       "      <td>194.125</td>\n",
       "      <td>211.261</td>\n",
       "      <td>0</td>\n",
       "      <td>84</td>\n",
       "      <td>0</td>\n",
       "      <td>0</td>\n",
       "      <td>...</td>\n",
       "      <td>4</td>\n",
       "      <td>4</td>\n",
       "      <td>0</td>\n",
       "      <td>1</td>\n",
       "      <td>1</td>\n",
       "      <td>0</td>\n",
       "      <td>1.1292</td>\n",
       "      <td>57.8701</td>\n",
       "      <td>0.454545</td>\n",
       "      <td>0</td>\n",
       "    </tr>\n",
       "    <tr>\n",
       "      <td>938</td>\n",
       "      <td>FLOCTAFENINE</td>\n",
       "      <td>29</td>\n",
       "      <td>46</td>\n",
       "      <td>406.114042</td>\n",
       "      <td>389.224</td>\n",
       "      <td>406.360</td>\n",
       "      <td>0</td>\n",
       "      <td>152</td>\n",
       "      <td>0</td>\n",
       "      <td>0</td>\n",
       "      <td>...</td>\n",
       "      <td>6</td>\n",
       "      <td>3</td>\n",
       "      <td>0</td>\n",
       "      <td>1</td>\n",
       "      <td>1</td>\n",
       "      <td>0</td>\n",
       "      <td>3.5072</td>\n",
       "      <td>99.8448</td>\n",
       "      <td>0.200000</td>\n",
       "      <td>0</td>\n",
       "    </tr>\n",
       "    <tr>\n",
       "      <td>939</td>\n",
       "      <td>METHOTREXATE_SODIUM</td>\n",
       "      <td>33</td>\n",
       "      <td>55</td>\n",
       "      <td>454.171316</td>\n",
       "      <td>432.271</td>\n",
       "      <td>454.447</td>\n",
       "      <td>0</td>\n",
       "      <td>172</td>\n",
       "      <td>0</td>\n",
       "      <td>0</td>\n",
       "      <td>...</td>\n",
       "      <td>10</td>\n",
       "      <td>5</td>\n",
       "      <td>0</td>\n",
       "      <td>1</td>\n",
       "      <td>1</td>\n",
       "      <td>0</td>\n",
       "      <td>0.2684</td>\n",
       "      <td>118.2616</td>\n",
       "      <td>0.250000</td>\n",
       "      <td>0</td>\n",
       "    </tr>\n",
       "  </tbody>\n",
       "</table>\n",
       "<p>940 rows × 38 columns</p>\n",
       "</div>"
      ],
      "text/plain": [
       "                          m_name  n_atoms_without_Hydrogen  \\\n",
       "0                     BUMETANIDE                        25   \n",
       "1                       BACLOFEN                        14   \n",
       "2                     METYRAPONE                        17   \n",
       "3            METHYLPHENOBARBITAL                        18   \n",
       "4                     DULOXETINE                        21   \n",
       "..                           ...                       ...   \n",
       "935                  SAPROPTERIN                        17   \n",
       "936                   PHENELZINE                        10   \n",
       "937  ISOPROTERENOL_HYDROCHLORIDE                        15   \n",
       "938                 FLOCTAFENINE                        29   \n",
       "939          METHOTREXATE_SODIUM                        33   \n",
       "\n",
       "     n_atoms_with_Hydrogen    m_weight  m_avg_weigth  \\\n",
       "0                       45  364.109293       344.263   \n",
       "1                       26  213.055656       201.568   \n",
       "2                       31  226.110613       212.167   \n",
       "3                       32  246.100442       232.154   \n",
       "4                       40  297.118735       278.271   \n",
       "..                     ...         ...           ...   \n",
       "935                     32  241.117489       226.131   \n",
       "936                     22  136.100048       124.102   \n",
       "937                     32  211.120843       194.125   \n",
       "938                     46  406.114042       389.224   \n",
       "939                     55  454.171316       432.271   \n",
       "\n",
       "     m_weigth_without_Hydrogen  n_radical_electrons  n_valence_electrons  \\\n",
       "0                      364.423                    0                  134   \n",
       "1                      213.664                    0                   76   \n",
       "2                      226.279                    0                   86   \n",
       "3                      246.266                    0                   94   \n",
       "4                      297.423                    0                  108   \n",
       "..                         ...                  ...                  ...   \n",
       "935                    241.251                    0                   94   \n",
       "936                    136.198                    0                   54   \n",
       "937                    211.261                    0                   84   \n",
       "938                    406.360                    0                  152   \n",
       "939                    454.447                    0                  172   \n",
       "\n",
       "     n_aliphatic_carbocycles  n_aliphatic_heterocycles  ...  \\\n",
       "0                          0                         0  ...   \n",
       "1                          0                         0  ...   \n",
       "2                          0                         0  ...   \n",
       "3                          0                         1  ...   \n",
       "4                          0                         0  ...   \n",
       "..                       ...                       ...  ...   \n",
       "935                        0                         1  ...   \n",
       "936                        0                         0  ...   \n",
       "937                        0                         0  ...   \n",
       "938                        0                         0  ...   \n",
       "939                        0                         0  ...   \n",
       "\n",
       "     n_Hydrogen_acceptors  n_Hydrogen_donnors  n_briged_head_atoms  \\\n",
       "0                       5                   3                    0   \n",
       "1                       2                   2                    0   \n",
       "2                       3                   0                    0   \n",
       "3                       3                   1                    0   \n",
       "4                       3                   1                    0   \n",
       "..                    ...                 ...                  ...   \n",
       "935                     7                   6                    0   \n",
       "936                     2                   2                    0   \n",
       "937                     4                   4                    0   \n",
       "938                     6                   3                    0   \n",
       "939                    10                   5                    0   \n",
       "\n",
       "     n_atoms_stereo_centers  n_atoms_unspecified_stereo_centers  \\\n",
       "0                         0                                   0   \n",
       "1                         1                                   1   \n",
       "2                         0                                   0   \n",
       "3                         1                                   1   \n",
       "4                         1                                   1   \n",
       "..                      ...                                 ...   \n",
       "935                       3                                   3   \n",
       "936                       0                                   0   \n",
       "937                       1                                   1   \n",
       "938                       1                                   1   \n",
       "939                       1                                   1   \n",
       "\n",
       "     n_spiro_atoms  m_logp      m_mr  fraction_CSP3  is_cns_molecule  \n",
       "0                0  3.0365   94.6882       0.235294                0  \n",
       "1                0  1.8570   55.5002       0.300000                1  \n",
       "2                0  2.6371   65.8305       0.214286                0  \n",
       "3                0  1.0426   64.7197       0.307692                1  \n",
       "4                0  4.6309   90.1797       0.222222                1  \n",
       "..             ...     ...       ...            ...              ...  \n",
       "935              0 -1.7002   62.8581       0.555556                0  \n",
       "936              0  0.6924   42.3361       0.250000                1  \n",
       "937              0  1.1292   57.8701       0.454545                0  \n",
       "938              0  3.5072   99.8448       0.200000                0  \n",
       "939              0  0.2684  118.2616       0.250000                0  \n",
       "\n",
       "[940 rows x 38 columns]"
      ]
     },
     "execution_count": 24,
     "metadata": {},
     "output_type": "execute_result"
    }
   ],
   "source": [
    "mixed_df=pd.read_csv(\"molecules_v1.csv\",sep=\"\\t\"); mixed_df"
   ]
  },
  {
   "cell_type": "code",
   "execution_count": 25,
   "metadata": {},
   "outputs": [],
   "source": [
    "from sklearn.model_selection import train_test_split\n",
    "from sklearn.metrics import confusion_matrix\n",
    "from sklearn.metrics import f1_score\n",
    "from sklearn.metrics import accuracy_score\n",
    "from sklearn.svm import LinearSVC"
   ]
  },
  {
   "cell_type": "code",
   "execution_count": 26,
   "metadata": {},
   "outputs": [],
   "source": [
    "data_frame=mixed_df.drop([\"m_name\"],axis=1)\n",
    "y=data_frame[\"is_cns_molecule\"]\n",
    "x=data_frame.drop([\"is_cns_molecule\"],axis=1)\n",
    "x=x.drop(['n_radical_electrons'],axis=1) # radical electrons is constant. WARNING ALERT"
   ]
  },
  {
   "cell_type": "code",
   "execution_count": 27,
   "metadata": {},
   "outputs": [],
   "source": [
    "from sklearn.feature_selection import *"
   ]
  },
  {
   "cell_type": "code",
   "execution_count": 29,
   "metadata": {},
   "outputs": [],
   "source": [
    "def selector_scores(selection_type=f_classif,selected_k=len(x.columns),columns_length=len(x.columns),\n",
    "                    data=x,historical_class=y):\n",
    "    def get_scores(selector,columns_length):      \n",
    "        scores = selector.scores_\n",
    "        plt.figure(figsize=(12,8),dpi=80)\n",
    "        plt.plot(scores)\n",
    "        plt.xticks(np.arange(columns_length),[x for x in range(columns_length)]);\n",
    "        \n",
    "        return scores\n",
    "    \n",
    "    selector = SelectKBest(selection_type, k=selected_k)\n",
    "    selector.fit(data,historical_class)\n",
    "    results=get_scores(selector,columns_length)\n",
    "    return results"
   ]
  },
  {
   "cell_type": "code",
   "execution_count": 30,
   "metadata": {},
   "outputs": [
    {
     "data": {
      "image/png": "[encoded data removed]",
      "text/plain": [
       "<Figure size 960x640 with 1 Axes>"
      ]
     },
     "metadata": {
      "needs_background": "light"
     },
     "output_type": "display_data"
    }
   ],
   "source": [
    "scores=selector_scores()"
   ]
  },
  {
   "cell_type": "code",
   "execution_count": 31,
   "metadata": {},
   "outputs": [],
   "source": [
    "def scores_to_dict(data,scores):\n",
    "    dct={}\n",
    "    for label,i in zip(data.columns,scores):\n",
    "        dct[label]=i\n",
    "    return dct"
   ]
  },
  {
   "cell_type": "code",
   "execution_count": 32,
   "metadata": {},
   "outputs": [],
   "source": [
    "scores_dict=scores_to_dict(x,scores)"
   ]
  },
  {
   "cell_type": "code",
   "execution_count": 33,
   "metadata": {},
   "outputs": [
    {
     "name": "stdout",
     "output_type": "stream",
     "text": [
      "n_atoms_without_Hydrogen: 31.72479977691589\n",
      "n_atoms_with_Hydrogen: 19.718134745970797\n",
      "m_weight: 43.94253867873949\n",
      "m_avg_weigth: 46.33532806802201\n",
      "m_weigth_without_Hydrogen: 43.86746578791417\n",
      "n_valence_electrons: 38.19101253107733\n",
      "n_aliphatic_carbocycles: 3.4115081356316312\n",
      "n_aliphatic_heterocycles: 31.4565595502892\n",
      "n_aliphatic_rings: 5.758756788231769\n",
      "n_amide_bonds: 0.07656685966290797\n",
      "n_aromatic_carbocycles: 35.66120111883486\n",
      "n_aromatic_heterocycles: 21.401540019270062\n",
      "n_aromatic_rings: 3.8477785742883728\n",
      "n_saturated_carbocycles: 11.15796504377962\n",
      "n_saturated_heterocycles: 7.5567483759722895\n",
      "n_saturated_rings: 0.26387222533811144\n",
      "n_HBA: 95.79126647686563\n",
      "n_HBD: 115.68202399926876\n",
      "n_hetero_atoms: 123.93330752196007\n",
      "n_hetero_cycles: 3.733933382040554\n",
      "n_rings: 13.620146549896782\n",
      "n_strict_rotable_bonds: 46.27534556260187\n",
      "n_non_strict_rotable_bonds: 58.573996755642746\n",
      "n_primary_carbon_atoms: 3.8047991953591973\n",
      "n_HOH: 102.1479134664739\n",
      "n_O: 125.31991939223073\n",
      "n_Hydrogen_acceptors: 95.79126647686563\n",
      "n_Hydrogen_donnors: 115.68202399926876\n",
      "n_briged_head_atoms: 9.89599413526781\n",
      "n_atoms_stereo_centers: 31.154289329368947\n",
      "n_atoms_unspecified_stereo_centers: 31.154289329368947\n",
      "n_spiro_atoms: 6.5157255438327795\n",
      "m_logp: 16.345069851791834\n",
      "m_mr: 16.687681665603243\n",
      "fraction_CSP3: 4.65145402279527\n"
     ]
    }
   ],
   "source": [
    "for k,v in scores_dict.items():\n",
    "    print(\"{}: {}\".format(k,v))"
   ]
  },
  {
   "cell_type": "code",
   "execution_count": 34,
   "metadata": {},
   "outputs": [
    {
     "name": "stdout",
     "output_type": "stream",
     "text": [
      "n_O: 125.31991939223073\n"
     ]
    }
   ],
   "source": [
    "import operator\n",
    "max_weight_label=max(scores_dict.items(), key=operator.itemgetter(1))[0]\n",
    "max_weight=max(scores_dict.items(), key=operator.itemgetter(1))[1];\n",
    "\n",
    "print(\"{}: {}\".format(max_weight_label,max_weight))"
   ]
  },
  {
   "cell_type": "code",
   "execution_count": 35,
   "metadata": {},
   "outputs": [
    {
     "name": "stdout",
     "output_type": "stream",
     "text": [
      "n_amide_bonds: 0.07656685966290797\n"
     ]
    }
   ],
   "source": [
    "min_weight_label=min(scores_dict.items(), key=operator.itemgetter(1))[0]\n",
    "min_weight=min(scores_dict.items(), key=operator.itemgetter(1))[1];\n",
    "\n",
    "print(\"{}: {}\".format(min_weight_label,min_weight))"
   ]
  },
  {
   "cell_type": "code",
   "execution_count": 36,
   "metadata": {},
   "outputs": [
    {
     "data": {
      "text/plain": [
       "38.88949208389834"
      ]
     },
     "execution_count": 36,
     "metadata": {},
     "output_type": "execute_result"
    }
   ],
   "source": [
    "import statistics\n",
    "avrg_weigth = statistics.mean(scores); avrg_weigth "
   ]
  },
  {
   "cell_type": "code",
   "execution_count": 13,
   "metadata": {},
   "outputs": [
    {
     "name": "stdout",
     "output_type": "stream",
     "text": [
      "[['C2' '14%']\n",
      " ['Installation' '64%']\n",
      " ['NA' '14%']\n",
      " ['na' '7%']]\n"
     ]
    }
   ],
   "source": [
    "m = [['Installation', '64%'], ['C2', '14%'], ['NA', '14%'], ['C2', '14%'], ['NA', '14%'], ['na', '7%']]\n",
    "print(np.unique(m,axis=0))"
   ]
  },
  {
   "cell_type": "code",
   "execution_count": 14,
   "metadata": {},
   "outputs": [],
   "source": [
    "from itertools import chain \n",
    "\n",
    "def get_fixed_list(lst: list): \n",
    "    lst_1d=list(chain.from_iterable(lst))\n",
    "    \n",
    "    return np.unique(lst_1d,axis=0)  "
   ]
  }
 ],
 "metadata": {
  "kernelspec": {
   "display_name": "Python 3",
   "language": "python",
   "name": "python3"
  },
  "language_info": {
   "codemirror_mode": {
    "name": "ipython",
    "version": 3
   },
   "file_extension": ".py",
   "mimetype": "text/x-python",
   "name": "python",
   "nbconvert_exporter": "python",
   "pygments_lexer": "ipython3",
   "version": "3.7.4"
  },
  "latex_envs": {
   "LaTeX_envs_menu_present": true,
   "autoclose": false,
   "autocomplete": true,
   "bibliofile": "biblio.bib",
   "cite_by": "apalike",
   "current_citInitial": 1,
   "eqLabelWithNumbers": true,
   "eqNumInitial": 1,
   "hotkeys": {
    "equation": "Ctrl-E",
    "itemize": "Ctrl-I"
   },
   "labels_anchors": false,
   "latex_user_defs": false,
   "report_style_numbering": false,
   "user_envs_cfg": false
  }
 },
 "nbformat": 4,
 "nbformat_minor": 2
}
