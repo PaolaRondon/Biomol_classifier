{
 "cells": [
  {
   "cell_type": "markdown",
   "metadata": {},
   "source": [
    "# Imports"
   ]
  },
  {
   "cell_type": "code",
   "execution_count": 1,
   "metadata": {},
   "outputs": [],
   "source": [
    "import pandas as pd\n",
    "import numpy as np"
   ]
  },
  {
   "cell_type": "markdown",
   "metadata": {},
   "source": [
    "# Loading csv/tsv"
   ]
  },
  {
   "cell_type": "code",
   "execution_count": 2,
   "metadata": {},
   "outputs": [],
   "source": [
    "cns_smiles_df=pd.read_csv('cns_smiles.tsv',sep='\\t')\n",
    "non_cns_smiles_df=pd.read_csv('non_cns_smiles.tsv',sep='\\t')"
   ]
  },
  {
   "cell_type": "markdown",
   "metadata": {},
   "source": [
    "## DataSets"
   ]
  },
  {
   "cell_type": "code",
   "execution_count": 3,
   "metadata": {},
   "outputs": [
    {
     "data": {
      "text/html": [
       "<div>\n",
       "<style scoped>\n",
       "    .dataframe tbody tr th:only-of-type {\n",
       "        vertical-align: middle;\n",
       "    }\n",
       "\n",
       "    .dataframe tbody tr th {\n",
       "        vertical-align: top;\n",
       "    }\n",
       "\n",
       "    .dataframe thead th {\n",
       "        text-align: right;\n",
       "    }\n",
       "</style>\n",
       "<table border=\"1\" class=\"dataframe\">\n",
       "  <thead>\n",
       "    <tr style=\"text-align: right;\">\n",
       "      <th></th>\n",
       "      <th>Name</th>\n",
       "      <th>Smiles</th>\n",
       "    </tr>\n",
       "  </thead>\n",
       "  <tbody>\n",
       "    <tr>\n",
       "      <td>0</td>\n",
       "      <td>ACETAZOLAMIDE</td>\n",
       "      <td>CC(=O)Nc1nnc(s1)S(=O)(=O)N</td>\n",
       "    </tr>\n",
       "    <tr>\n",
       "      <td>1</td>\n",
       "      <td>ACETOPHENAZINE</td>\n",
       "      <td>CC(=O)c1ccc2c(c1)N(c3ccccc3S2)CCCN4CCN(CC4)CCO</td>\n",
       "    </tr>\n",
       "    <tr>\n",
       "      <td>2</td>\n",
       "      <td>ALFENTANIL</td>\n",
       "      <td>CCC(=O)N(c1ccccc1)C2(CCN(CC2)CCn3c(=O)n(nn3)CC...</td>\n",
       "    </tr>\n",
       "    <tr>\n",
       "      <td>3</td>\n",
       "      <td>ALPRAZOLAM</td>\n",
       "      <td>Cc1nnc2n1-c3ccc(cc3C(=NC2)c4ccccc4)Cl</td>\n",
       "    </tr>\n",
       "    <tr>\n",
       "      <td>4</td>\n",
       "      <td>AMANTADINE</td>\n",
       "      <td>C1C2CC3CC1CC(C2)(C3)N</td>\n",
       "    </tr>\n",
       "    <tr>\n",
       "      <td>...</td>\n",
       "      <td>...</td>\n",
       "      <td>...</td>\n",
       "    </tr>\n",
       "    <tr>\n",
       "      <td>311</td>\n",
       "      <td>BROMPERIDOL</td>\n",
       "      <td>c1cc(ccc1C(=O)CCCN2CCC(CC2)(c3ccc(cc3)Br)O)F</td>\n",
       "    </tr>\n",
       "    <tr>\n",
       "      <td>312</td>\n",
       "      <td>ETHCHLORVYNOL</td>\n",
       "      <td>CCC(/C=C/Cl)(C#C)O</td>\n",
       "    </tr>\n",
       "    <tr>\n",
       "      <td>313</td>\n",
       "      <td>CHLORMETHIAZOLE</td>\n",
       "      <td>c1c(scn1)CCCl</td>\n",
       "    </tr>\n",
       "    <tr>\n",
       "      <td>314</td>\n",
       "      <td>DRONABINOL</td>\n",
       "      <td>CCCCCc1cc(c2c(c1)OC(C3C2C=C(CC3)C)(C)C)O</td>\n",
       "    </tr>\n",
       "    <tr>\n",
       "      <td>315</td>\n",
       "      <td>PALONOSETRON</td>\n",
       "      <td>c1cc2c3c(c1)C(=O)N(CC3CCC2)C4CN5CCC4CC5</td>\n",
       "    </tr>\n",
       "  </tbody>\n",
       "</table>\n",
       "<p>316 rows × 2 columns</p>\n",
       "</div>"
      ],
      "text/plain": [
       "                Name                                             Smiles\n",
       "0      ACETAZOLAMIDE                         CC(=O)Nc1nnc(s1)S(=O)(=O)N\n",
       "1     ACETOPHENAZINE     CC(=O)c1ccc2c(c1)N(c3ccccc3S2)CCCN4CCN(CC4)CCO\n",
       "2         ALFENTANIL  CCC(=O)N(c1ccccc1)C2(CCN(CC2)CCn3c(=O)n(nn3)CC...\n",
       "3         ALPRAZOLAM              Cc1nnc2n1-c3ccc(cc3C(=NC2)c4ccccc4)Cl\n",
       "4         AMANTADINE                              C1C2CC3CC1CC(C2)(C3)N\n",
       "..               ...                                                ...\n",
       "311      BROMPERIDOL       c1cc(ccc1C(=O)CCCN2CCC(CC2)(c3ccc(cc3)Br)O)F\n",
       "312    ETHCHLORVYNOL                                 CCC(/C=C/Cl)(C#C)O\n",
       "313  CHLORMETHIAZOLE                                      c1c(scn1)CCCl\n",
       "314       DRONABINOL           CCCCCc1cc(c2c(c1)OC(C3C2C=C(CC3)C)(C)C)O\n",
       "315     PALONOSETRON            c1cc2c3c(c1)C(=O)N(CC3CCC2)C4CN5CCC4CC5\n",
       "\n",
       "[316 rows x 2 columns]"
      ]
     },
     "execution_count": 3,
     "metadata": {},
     "output_type": "execute_result"
    }
   ],
   "source": [
    "cns_smiles_df"
   ]
  },
  {
   "cell_type": "code",
   "execution_count": 4,
   "metadata": {
    "scrolled": true
   },
   "outputs": [
    {
     "data": {
      "text/html": [
       "<div>\n",
       "<style scoped>\n",
       "    .dataframe tbody tr th:only-of-type {\n",
       "        vertical-align: middle;\n",
       "    }\n",
       "\n",
       "    .dataframe tbody tr th {\n",
       "        vertical-align: top;\n",
       "    }\n",
       "\n",
       "    .dataframe thead th {\n",
       "        text-align: right;\n",
       "    }\n",
       "</style>\n",
       "<table border=\"1\" class=\"dataframe\">\n",
       "  <thead>\n",
       "    <tr style=\"text-align: right;\">\n",
       "      <th></th>\n",
       "      <th>Name</th>\n",
       "      <th>Smiles</th>\n",
       "    </tr>\n",
       "  </thead>\n",
       "  <tbody>\n",
       "    <tr>\n",
       "      <td>0</td>\n",
       "      <td>ABACAVIR_SULFATE</td>\n",
       "      <td>Nc1nc(NC2CC2)c3ncn(C4CC(CO)C=C4)c3n1</td>\n",
       "    </tr>\n",
       "    <tr>\n",
       "      <td>1</td>\n",
       "      <td>ACARBOSE</td>\n",
       "      <td>CC1OC(OC2C(O)C(O)C(OC3C(O)C(O)C(O)OC3CO)OC2CO)...</td>\n",
       "    </tr>\n",
       "    <tr>\n",
       "      <td>2</td>\n",
       "      <td>ACEBUTOLOL</td>\n",
       "      <td>CCCC(=O)Nc1ccc(OCC(O)CNC(C)C)c(c1)C(=O)C</td>\n",
       "    </tr>\n",
       "    <tr>\n",
       "      <td>3</td>\n",
       "      <td>ACECAINIDE</td>\n",
       "      <td>CCN(CC)CCNC(=O)c1ccc(NC(=O)C)cc1</td>\n",
       "    </tr>\n",
       "    <tr>\n",
       "      <td>4</td>\n",
       "      <td>ACECLOFENAC</td>\n",
       "      <td>OC(=O)COC(=O)Cc1ccccc1Nc2c(Cl)cccc2Cl</td>\n",
       "    </tr>\n",
       "    <tr>\n",
       "      <td>...</td>\n",
       "      <td>...</td>\n",
       "      <td>...</td>\n",
       "    </tr>\n",
       "    <tr>\n",
       "      <td>619</td>\n",
       "      <td>XYLOSE</td>\n",
       "      <td>OCC(O)C(O)C(O)C=O</td>\n",
       "    </tr>\n",
       "    <tr>\n",
       "      <td>620</td>\n",
       "      <td>ZAFIRLUKAST</td>\n",
       "      <td>COc1cc(ccc1Cc2cn(C)c3ccc(NC(=O)OC4CCCC4)cc23)C...</td>\n",
       "    </tr>\n",
       "    <tr>\n",
       "      <td>621</td>\n",
       "      <td>ZALCITABINE</td>\n",
       "      <td>NC1=NC(=O)N(C=C1)C2CCC(CO)O2</td>\n",
       "    </tr>\n",
       "    <tr>\n",
       "      <td>622</td>\n",
       "      <td>ZATEBRADINE</td>\n",
       "      <td>COc1ccc(CCN(C)CCCN2CCc3cc(OC)c(OC)cc3CC2=O)cc1OC</td>\n",
       "    </tr>\n",
       "    <tr>\n",
       "      <td>623</td>\n",
       "      <td>ZOMEPIRAC</td>\n",
       "      <td>Cc1cc(CC(=O)O)n(C)c1C(=O)c2ccc(Cl)cc2</td>\n",
       "    </tr>\n",
       "  </tbody>\n",
       "</table>\n",
       "<p>624 rows × 2 columns</p>\n",
       "</div>"
      ],
      "text/plain": [
       "                 Name                                             Smiles\n",
       "0    ABACAVIR_SULFATE               Nc1nc(NC2CC2)c3ncn(C4CC(CO)C=C4)c3n1\n",
       "1            ACARBOSE  CC1OC(OC2C(O)C(O)C(OC3C(O)C(O)C(O)OC3CO)OC2CO)...\n",
       "2          ACEBUTOLOL           CCCC(=O)Nc1ccc(OCC(O)CNC(C)C)c(c1)C(=O)C\n",
       "3          ACECAINIDE                   CCN(CC)CCNC(=O)c1ccc(NC(=O)C)cc1\n",
       "4         ACECLOFENAC              OC(=O)COC(=O)Cc1ccccc1Nc2c(Cl)cccc2Cl\n",
       "..                ...                                                ...\n",
       "619            XYLOSE                                  OCC(O)C(O)C(O)C=O\n",
       "620       ZAFIRLUKAST  COc1cc(ccc1Cc2cn(C)c3ccc(NC(=O)OC4CCCC4)cc23)C...\n",
       "621       ZALCITABINE                       NC1=NC(=O)N(C=C1)C2CCC(CO)O2\n",
       "622       ZATEBRADINE   COc1ccc(CCN(C)CCCN2CCc3cc(OC)c(OC)cc3CC2=O)cc1OC\n",
       "623         ZOMEPIRAC              Cc1cc(CC(=O)O)n(C)c1C(=O)c2ccc(Cl)cc2\n",
       "\n",
       "[624 rows x 2 columns]"
      ]
     },
     "execution_count": 4,
     "metadata": {},
     "output_type": "execute_result"
    }
   ],
   "source": [
    "non_cns_smiles_df"
   ]
  },
  {
   "cell_type": "markdown",
   "metadata": {},
   "source": [
    "# rdkit import"
   ]
  },
  {
   "cell_type": "code",
   "execution_count": 5,
   "metadata": {},
   "outputs": [
    {
     "name": "stderr",
     "output_type": "stream",
     "text": [
      "RDKit WARNING: [12:50:30] Enabling RDKit 2019.09.3 jupyter extensions\n"
     ]
    }
   ],
   "source": [
    "from IPython.display import SVG\n",
    "from rdkit import Chem\n",
    "from rdkit.Chem import AllChem\n",
    "from rdkit.Chem import rdDepictor\n",
    "from rdkit.Chem.Draw import rdMolDraw2D\n",
    "from rdkit.Chem import Draw"
   ]
  },
  {
   "cell_type": "markdown",
   "metadata": {},
   "source": [
    "# Folder creation for imgs"
   ]
  },
  {
   "cell_type": "code",
   "execution_count": 6,
   "metadata": {},
   "outputs": [
    {
     "name": "stdout",
     "output_type": "stream",
     "text": [
      "The current working directory is C:\\Users\\HGMI2\\Desktop\\Bio-mol\n"
     ]
    }
   ],
   "source": [
    "import os\n",
    "path = os.getcwd()\n",
    "print (\"The current working directory is %s\" % path)"
   ]
  },
  {
   "cell_type": "code",
   "execution_count": 11,
   "metadata": {},
   "outputs": [
    {
     "name": "stdout",
     "output_type": "stream",
     "text": [
      "Successfully created the directory C:\\Users\\HGMI2\\Desktop\\Bio-mol/cns_smiles_imgs \n"
     ]
    }
   ],
   "source": [
    "path = os.getcwd()\n",
    "ncs_path = path+r\"/cns_smiles_imgs\"\n",
    "try:\n",
    "    os.mkdir(ncs_path)\n",
    "except OSError:\n",
    "    print (\"Creation of the directory %s failed\" % ncs_path)\n",
    "else:\n",
    "    print (\"Successfully created the directory %s \" % ncs_path)"
   ]
  },
  {
   "cell_type": "code",
   "execution_count": 12,
   "metadata": {},
   "outputs": [
    {
     "name": "stdout",
     "output_type": "stream",
     "text": [
      "Successfully created the directory C:\\Users\\HGMI2\\Desktop\\Bio-mol/non_cns_smiles_imgs \n"
     ]
    }
   ],
   "source": [
    "path = os.getcwd()\n",
    "ncns_path = path+r\"/non_cns_smiles_imgs\"\n",
    "try:\n",
    "    os.mkdir(ncns_path)\n",
    "except OSError:\n",
    "    print (\"Creation of the directory %s failed\" % ncns_path)\n",
    "else:\n",
    "    print (\"Successfully created the directory %s \" % ncns_path)"
   ]
  },
  {
   "cell_type": "markdown",
   "metadata": {},
   "source": [
    "# Smiles to molecule"
   ]
  },
  {
   "cell_type": "code",
   "execution_count": null,
   "metadata": {},
   "outputs": [],
   "source": []
  },
  {
   "cell_type": "markdown",
   "metadata": {},
   "source": [
    "# Molecule to img"
   ]
  },
  {
   "cell_type": "code",
   "execution_count": null,
   "metadata": {},
   "outputs": [],
   "source": []
  }
 ],
 "metadata": {
  "kernelspec": {
   "display_name": "Python 3",
   "language": "python",
   "name": "python3"
  },
  "language_info": {
   "codemirror_mode": {
    "name": "ipython",
    "version": 3
   },
   "file_extension": ".py",
   "mimetype": "text/x-python",
   "name": "python",
   "nbconvert_exporter": "python",
   "pygments_lexer": "ipython3",
   "version": "3.7.4"
  },
  "latex_envs": {
   "LaTeX_envs_menu_present": true,
   "autoclose": false,
   "autocomplete": true,
   "bibliofile": "biblio.bib",
   "cite_by": "apalike",
   "current_citInitial": 1,
   "eqLabelWithNumbers": true,
   "eqNumInitial": 1,
   "hotkeys": {
    "equation": "Ctrl-E",
    "itemize": "Ctrl-I"
   },
   "labels_anchors": false,
   "latex_user_defs": false,
   "report_style_numbering": false,
   "user_envs_cfg": false
  }
 },
 "nbformat": 4,
 "nbformat_minor": 2
}
