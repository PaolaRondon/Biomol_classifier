{
 "cells": [
  {
   "cell_type": "markdown",
   "metadata": {},
   "source": [
    "# Basic imports"
   ]
  },
  {
   "cell_type": "code",
   "execution_count": 1,
   "metadata": {},
   "outputs": [],
   "source": [
    "import pandas as pd\n",
    "import numpy as np\n",
    "import matplotlib.pyplot as plt\n",
    "%matplotlib inline \n",
    "plt.rcParams.update({'figure.max_open_warning': 0})"
   ]
  },
  {
   "cell_type": "markdown",
   "metadata": {},
   "source": [
    "# Loading dataframes"
   ]
  },
  {
   "cell_type": "code",
   "execution_count": 2,
   "metadata": {},
   "outputs": [],
   "source": [
    "e_df=pd.read_csv(\"e_molecules.csv\", sep=\"\\t\")\n",
    "em_df=pd.read_csv(\"em_molecules.csv\", sep=\"\\t\")\n",
    "emp_df=pd.read_csv(\"emp_molecules.csv\", sep=\"\\t\")\n",
    "best_k10_df=pd.read_csv(\"best_k10.csv\", sep=\"\\t\")\n",
    "best_k15_df=pd.read_csv(\"best_k15.csv\", sep=\"\\t\")\n",
    "best_k20_df=pd.read_csv(\"best_k20.csv\", sep=\"\\t\")\n",
    "best_k25_df=pd.read_csv(\"best_k25.csv\", sep=\"\\t\")"
   ]
  },
  {
   "cell_type": "markdown",
   "metadata": {},
   "source": [
    "# Model imports"
   ]
  },
  {
   "cell_type": "code",
   "execution_count": 3,
   "metadata": {},
   "outputs": [],
   "source": [
    "from sklearn.model_selection import train_test_split\n",
    "from sklearn.metrics import confusion_matrix\n",
    "from sklearn.metrics import f1_score\n",
    "from sklearn.metrics import accuracy_score\n",
    "from sklearn.svm import LinearSVC"
   ]
  },
  {
   "cell_type": "markdown",
   "metadata": {},
   "source": [
    "# Linear model"
   ]
  },
  {
   "cell_type": "markdown",
   "metadata": {},
   "source": [
    " When dual=False the underlying implementation of LinearSVC is not random and random_state has no effect on the results."
   ]
  },
  {
   "cell_type": "code",
   "execution_count": 4,
   "metadata": {},
   "outputs": [],
   "source": [
    "clf = LinearSVC(random_state=0, tol=1e-5, dual=False)"
   ]
  },
  {
   "cell_type": "code",
   "execution_count": 5,
   "metadata": {},
   "outputs": [],
   "source": [
    "def linear_model(model,data,prediction,testing_size=0.2):\n",
    "    \n",
    "    def print_model_scores(y_test,predicted):\n",
    "        matrix=confusion_matrix(y_test,predicted)\n",
    "        matrix_labels=[[\"True positive\",\"False positive\"],\n",
    "                       [\"False negative\",\"True negative\"]]\n",
    "\n",
    "        for i in range(2):\n",
    "            for j in range(2):\n",
    "                print(\"{} {}\".format(matrix_labels[i][j],matrix[i][j]))\n",
    "\n",
    "        print(\"\\nf1 score: {}%\".format(f1_score(y_test,predicted)*100)) \n",
    "        print(\"accuracy score: {}%\".format(accuracy_score(y_test,predicted)*100)) \n",
    "    \n",
    "    x_train, x_test, y_train, y_test=train_test_split(data,prediction,random_state=0,test_size=testing_size)    \n",
    "    clf.fit(x_train,y_train)\n",
    "    predicted=clf.predict(x_test)\n",
    "    print_model_scores(y_test,predicted)   "
   ]
  },
  {
   "cell_type": "markdown",
   "metadata": {},
   "source": [
    "## Experimental features"
   ]
  },
  {
   "cell_type": "code",
   "execution_count": 6,
   "metadata": {},
   "outputs": [],
   "source": [
    "temp_e_df=e_df.drop([\"m_name\"],axis=1)\n",
    "e_y=temp_e_df[\"is_cns_molecule\"]\n",
    "e_x=temp_e_df.drop([\"is_cns_molecule\"],axis=1)"
   ]
  },
  {
   "cell_type": "code",
   "execution_count": 7,
   "metadata": {},
   "outputs": [
    {
     "name": "stdout",
     "output_type": "stream",
     "text": [
      "True positive 100\n",
      "False positive 13\n",
      "False negative 42\n",
      "True negative 33\n",
      "\n",
      "f1 score: 54.54545454545454%\n",
      "accuracy score: 70.74468085106383%\n"
     ]
    }
   ],
   "source": [
    "linear_model(clf,e_x,e_y)"
   ]
  },
  {
   "cell_type": "markdown",
   "metadata": {},
   "source": [
    "## Experimental + must have features"
   ]
  },
  {
   "cell_type": "code",
   "execution_count": 8,
   "metadata": {},
   "outputs": [],
   "source": [
    "temp_em_df=em_df.drop([\"m_name\"],axis=1)\n",
    "em_y=temp_em_df[\"is_cns_molecule\"]\n",
    "em_x=temp_em_df.drop([\"is_cns_molecule\"],axis=1)"
   ]
  },
  {
   "cell_type": "code",
   "execution_count": 9,
   "metadata": {},
   "outputs": [
    {
     "name": "stdout",
     "output_type": "stream",
     "text": [
      "True positive 101\n",
      "False positive 12\n",
      "False negative 30\n",
      "True negative 45\n",
      "\n",
      "f1 score: 68.18181818181819%\n",
      "accuracy score: 77.6595744680851%\n"
     ]
    }
   ],
   "source": [
    "linear_model(clf,em_x,em_y)"
   ]
  },
  {
   "cell_type": "markdown",
   "metadata": {},
   "source": [
    "##  Experimental + must have features + possible features"
   ]
  },
  {
   "cell_type": "code",
   "execution_count": 10,
   "metadata": {},
   "outputs": [],
   "source": [
    "temp_emp_df=emp_df.drop([\"m_name\"],axis=1)\n",
    "emp_y=temp_emp_df[\"is_cns_molecule\"]\n",
    "emp_x=temp_emp_df.drop([\"is_cns_molecule\"],axis=1)"
   ]
  },
  {
   "cell_type": "code",
   "execution_count": 11,
   "metadata": {
    "scrolled": true
   },
   "outputs": [
    {
     "name": "stdout",
     "output_type": "stream",
     "text": [
      "True positive 99\n",
      "False positive 14\n",
      "False negative 29\n",
      "True negative 46\n",
      "\n",
      "f1 score: 68.14814814814815%\n",
      "accuracy score: 77.12765957446808%\n"
     ]
    }
   ],
   "source": [
    "linear_model(clf,emp_x,emp_y)"
   ]
  },
  {
   "cell_type": "markdown",
   "metadata": {},
   "source": [
    "## k10 features"
   ]
  },
  {
   "cell_type": "code",
   "execution_count": 12,
   "metadata": {},
   "outputs": [],
   "source": [
    "temp_k10_df=best_k10_df.drop([\"m_name\"],axis=1)\n",
    "k10_y=temp_k10_df[\"is_cns_molecule\"]\n",
    "k10_x=temp_k10_df.drop([\"is_cns_molecule\"],axis=1)"
   ]
  },
  {
   "cell_type": "code",
   "execution_count": 13,
   "metadata": {},
   "outputs": [
    {
     "name": "stdout",
     "output_type": "stream",
     "text": [
      "True positive 101\n",
      "False positive 12\n",
      "False negative 40\n",
      "True negative 35\n",
      "\n",
      "f1 score: 57.377049180327866%\n",
      "accuracy score: 72.3404255319149%\n"
     ]
    }
   ],
   "source": [
    "linear_model(clf,k10_x,k10_y)"
   ]
  },
  {
   "cell_type": "markdown",
   "metadata": {},
   "source": [
    "## k15 features"
   ]
  },
  {
   "cell_type": "code",
   "execution_count": 14,
   "metadata": {},
   "outputs": [],
   "source": [
    "temp_k15_df=best_k15_df.drop([\"m_name\"],axis=1)\n",
    "k15_y=temp_k15_df[\"is_cns_molecule\"]\n",
    "k15_x=temp_k15_df.drop([\"is_cns_molecule\"],axis=1)"
   ]
  },
  {
   "cell_type": "code",
   "execution_count": 15,
   "metadata": {},
   "outputs": [
    {
     "name": "stdout",
     "output_type": "stream",
     "text": [
      "True positive 102\n",
      "False positive 11\n",
      "False negative 36\n",
      "True negative 39\n",
      "\n",
      "f1 score: 62.4%\n",
      "accuracy score: 75.0%\n"
     ]
    }
   ],
   "source": [
    "linear_model(clf,k15_x,k15_y)"
   ]
  },
  {
   "cell_type": "markdown",
   "metadata": {},
   "source": [
    "## k20 features"
   ]
  },
  {
   "cell_type": "code",
   "execution_count": 16,
   "metadata": {},
   "outputs": [],
   "source": [
    "temp_k20_df=best_k20_df.drop([\"m_name\"],axis=1)\n",
    "k20_y=temp_k20_df[\"is_cns_molecule\"]\n",
    "k20_x=temp_k20_df.drop([\"is_cns_molecule\"],axis=1)"
   ]
  },
  {
   "cell_type": "code",
   "execution_count": 17,
   "metadata": {},
   "outputs": [
    {
     "name": "stdout",
     "output_type": "stream",
     "text": [
      "True positive 105\n",
      "False positive 8\n",
      "False negative 30\n",
      "True negative 45\n",
      "\n",
      "f1 score: 70.31249999999999%\n",
      "accuracy score: 79.7872340425532%\n"
     ]
    }
   ],
   "source": [
    "linear_model(clf,k20_x,k20_y)"
   ]
  },
  {
   "cell_type": "markdown",
   "metadata": {},
   "source": [
    "## k25 features"
   ]
  },
  {
   "cell_type": "code",
   "execution_count": 18,
   "metadata": {},
   "outputs": [],
   "source": [
    "temp_k25_df=best_k25_df.drop([\"m_name\"],axis=1)\n",
    "k25_y=temp_k25_df[\"is_cns_molecule\"]\n",
    "k25_x=temp_k25_df.drop([\"is_cns_molecule\"],axis=1)"
   ]
  },
  {
   "cell_type": "code",
   "execution_count": 19,
   "metadata": {},
   "outputs": [
    {
     "name": "stdout",
     "output_type": "stream",
     "text": [
      "True positive 104\n",
      "False positive 9\n",
      "False negative 29\n",
      "True negative 46\n",
      "\n",
      "f1 score: 70.76923076923075%\n",
      "accuracy score: 79.7872340425532%\n"
     ]
    }
   ],
   "source": [
    "linear_model(clf,k25_x,k25_y)"
   ]
  },
  {
   "cell_type": "markdown",
   "metadata": {},
   "source": [
    "# CV linear model"
   ]
  },
  {
   "cell_type": "code",
   "execution_count": 20,
   "metadata": {},
   "outputs": [],
   "source": [
    "from sklearn.model_selection import cross_validate\n",
    "from sklearn.model_selection import KFold"
   ]
  },
  {
   "cell_type": "code",
   "execution_count": 21,
   "metadata": {},
   "outputs": [],
   "source": [
    "def print_results(cv):\n",
    "    keys=list(sorted(cv.keys()))\n",
    "    for i in keys:\n",
    "        print(\"Average: {}\".format(round(cv[i].mean(),4)))\n",
    "        print(\"{} -> {}\".format(i,cv[i]),end=\"\\n\\n\")"
   ]
  },
  {
   "cell_type": "code",
   "execution_count": 22,
   "metadata": {},
   "outputs": [],
   "source": [
    "clf = LinearSVC(random_state=0, tol=1e-5, dual=False)"
   ]
  },
  {
   "cell_type": "markdown",
   "metadata": {},
   "source": [
    "## Experimental features"
   ]
  },
  {
   "cell_type": "code",
   "execution_count": 23,
   "metadata": {},
   "outputs": [
    {
     "name": "stdout",
     "output_type": "stream",
     "text": [
      "Average: 0.0043\n",
      "fit_time -> [0.00598836 0.00498629 0.0039866  0.00399041 0.00397372 0.00295281\n",
      " 0.00399065 0.00498581 0.0039897  0.00398827]\n",
      "\n",
      "Average: 0.0107\n",
      "score_time -> [0.01196384 0.01197028 0.01097083 0.00897717 0.00897694 0.01096869\n",
      " 0.00997329 0.00997305 0.01196885 0.01097059]\n",
      "\n",
      "Average: 0.7127\n",
      "test_accuracy -> [0.70526316 0.72631579 0.72631579 0.68421053 0.74468085 0.75531915\n",
      " 0.64516129 0.70967742 0.72043011 0.70967742]\n",
      "\n",
      "Average: 0.6259\n",
      "test_average_precision -> [0.60377854 0.69527613 0.55523182 0.62929819 0.65572762 0.69821848\n",
      " 0.560444   0.67506146 0.63457986 0.55150016]\n",
      "\n",
      "Average: 0.5299\n",
      "test_f1 -> [0.5        0.53571429 0.58064516 0.46428571 0.52       0.59649123\n",
      " 0.42105263 0.55737705 0.55172414 0.57142857]\n",
      "\n",
      "Average: 0.3621\n",
      "test_jaccard -> [0.33333333 0.36585366 0.40909091 0.30232558 0.35135135 0.425\n",
      " 0.26666667 0.38636364 0.38095238 0.4       ]\n",
      "\n",
      "Average: 0.4845\n",
      "test_recall -> [0.4375     0.46875    0.5625     0.40625    0.40625    0.53125\n",
      " 0.38709677 0.5483871  0.51612903 0.58064516]\n",
      "\n",
      "Average: 0.7879\n",
      "test_roc_auc -> [0.78472222 0.78769841 0.78918651 0.81349206 0.80241935 0.83921371\n",
      " 0.74141519 0.78876171 0.80437045 0.72788762]\n",
      "\n"
     ]
    }
   ],
   "source": [
    "cv_results_e = cross_validate(clf, e_x, e_y, cv=10,scoring=('accuracy','average_precision',\n",
    "                                                           'f1','jaccard','recall','roc_auc'))\n",
    "print_results(cv_results_e)"
   ]
  },
  {
   "cell_type": "markdown",
   "metadata": {},
   "source": [
    "##  Experimental + must have features"
   ]
  },
  {
   "cell_type": "code",
   "execution_count": 24,
   "metadata": {},
   "outputs": [
    {
     "name": "stdout",
     "output_type": "stream",
     "text": [
      "Average: 0.0049\n",
      "fit_time -> [0.00799012 0.0039885  0.004987   0.00501704 0.004951   0.00497699\n",
      " 0.0039897  0.00399041 0.00402045 0.00495577]\n",
      "\n",
      "Average: 0.0089\n",
      "score_time -> [0.0109973  0.00898004 0.00893354 0.00898719 0.00800896 0.00898695\n",
      " 0.00997734 0.00894189 0.00795031 0.00702047]\n",
      "\n",
      "Average: 0.7617\n",
      "test_accuracy -> [0.76842105 0.72631579 0.77894737 0.75789474 0.74468085 0.79787234\n",
      " 0.7311828  0.76344086 0.79569892 0.75268817]\n",
      "\n",
      "Average: 0.6924\n",
      "test_average_precision -> [0.70780134 0.75452623 0.59872542 0.61764345 0.68471678 0.74175445\n",
      " 0.68665269 0.70384293 0.74563918 0.68249822]\n",
      "\n",
      "Average: 0.6154\n",
      "test_f1 -> [0.63333333 0.53571429 0.69565217 0.62295082 0.55555556 0.6984127\n",
      " 0.52830189 0.60714286 0.66666667 0.61016949]\n",
      "\n",
      "Average: 0.447\n",
      "test_jaccard -> [0.46341463 0.36585366 0.53333333 0.45238095 0.38461538 0.53658537\n",
      " 0.35897436 0.43589744 0.5        0.43902439]\n",
      "\n",
      "Average: 0.5756\n",
      "test_recall -> [0.59375    0.46875    0.75       0.59375    0.46875    0.6875\n",
      " 0.4516129  0.5483871  0.61290323 0.58064516]\n",
      "\n",
      "Average: 0.8248\n",
      "test_roc_auc -> [0.84474206 0.8422619  0.81597222 0.81696429 0.80897177 0.85584677\n",
      " 0.80645161 0.82310094 0.84599376 0.78720083]\n",
      "\n"
     ]
    }
   ],
   "source": [
    "cv_results_em = cross_validate(clf, em_x, em_y, cv=10,scoring=('accuracy','average_precision',\n",
    "                                                           'f1','jaccard','recall','roc_auc'))\n",
    "print_results(cv_results_em)"
   ]
  },
  {
   "cell_type": "markdown",
   "metadata": {},
   "source": [
    "## Experimental + must have features + possible features"
   ]
  },
  {
   "cell_type": "code",
   "execution_count": 25,
   "metadata": {},
   "outputs": [
    {
     "name": "stdout",
     "output_type": "stream",
     "text": [
      "Average: 0.007\n",
      "fit_time -> [0.01000476 0.00797796 0.00698423 0.00596809 0.00698113 0.00695562\n",
      " 0.00598335 0.00598359 0.00698113 0.00598359]\n",
      "\n",
      "Average: 0.0077\n",
      "score_time -> [0.00898123 0.00698304 0.00798011 0.0079782  0.00698113 0.00698161\n",
      " 0.00798059 0.00797892 0.00797772 0.00698185]\n",
      "\n",
      "Average: 0.7767\n",
      "test_accuracy -> [0.73684211 0.77894737 0.8        0.74736842 0.73404255 0.82978723\n",
      " 0.75268817 0.79569892 0.80645161 0.78494624]\n",
      "\n",
      "Average: 0.715\n",
      "test_average_precision -> [0.71722328 0.76990851 0.62842304 0.60069288 0.70756533 0.79553289\n",
      " 0.6836331  0.74325698 0.81444399 0.68931132]\n",
      "\n",
      "Average: 0.644\n",
      "test_f1 -> [0.56140351 0.63157895 0.71641791 0.64705882 0.54545455 0.73333333\n",
      " 0.58181818 0.6779661  0.67857143 0.66666667]\n",
      "\n",
      "Average: 0.4779\n",
      "test_jaccard -> [0.3902439  0.46153846 0.55813953 0.47826087 0.375      0.57894737\n",
      " 0.41025641 0.51282051 0.51351351 0.5       ]\n",
      "\n",
      "Average: 0.6076\n",
      "test_recall -> [0.5        0.5625     0.75       0.6875     0.46875    0.6875\n",
      " 0.51612903 0.64516129 0.61290323 0.64516129]\n",
      "\n",
      "Average: 0.8358\n",
      "test_roc_auc -> [0.83382937 0.84771825 0.84474206 0.82242063 0.80342742 0.88306452\n",
      " 0.81997919 0.83766909 0.87617066 0.78876171]\n",
      "\n"
     ]
    }
   ],
   "source": [
    "cv_results_emp = cross_validate(clf, emp_x, emp_y, cv=10,scoring=('accuracy','average_precision',\n",
    "                                                           'f1','jaccard','recall','roc_auc'))\n",
    "print_results(cv_results_emp)"
   ]
  },
  {
   "cell_type": "markdown",
   "metadata": {},
   "source": [
    "## k10 features"
   ]
  },
  {
   "cell_type": "code",
   "execution_count": 26,
   "metadata": {},
   "outputs": [
    {
     "name": "stdout",
     "output_type": "stream",
     "text": [
      "Average: 0.0044\n",
      "fit_time -> [0.00598478 0.00299144 0.00498843 0.00395679 0.0039885  0.00399041\n",
      " 0.00398993 0.00399375 0.00502062 0.00501823]\n",
      "\n",
      "Average: 0.008\n",
      "score_time -> [0.00900173 0.00796294 0.00799966 0.00800395 0.00698209 0.00699329\n",
      " 0.00696802 0.00994515 0.00794458 0.00797987]\n",
      "\n",
      "Average: 0.7309\n",
      "test_accuracy -> [0.70526316 0.70526316 0.74736842 0.73684211 0.75531915 0.75531915\n",
      " 0.7311828  0.72043011 0.74193548 0.70967742]\n",
      "\n",
      "Average: 0.6412\n",
      "test_average_precision -> [0.55818172 0.71480925 0.58186288 0.60618361 0.68220642 0.73140935\n",
      " 0.60708669 0.67354885 0.68975452 0.56685164]\n",
      "\n",
      "Average: 0.5661\n",
      "test_f1 -> [0.51724138 0.5        0.61290323 0.57627119 0.54901961 0.58181818\n",
      " 0.54545455 0.59375    0.6        0.58461538]\n",
      "\n",
      "Average: 0.3956\n",
      "test_jaccard -> [0.34883721 0.33333333 0.44186047 0.4047619  0.37837838 0.41025641\n",
      " 0.375      0.42222222 0.42857143 0.41304348]\n",
      "\n",
      "Average: 0.5259\n",
      "test_recall -> [0.46875    0.4375     0.59375    0.53125    0.4375     0.5\n",
      " 0.48387097 0.61290323 0.58064516 0.61290323]\n",
      "\n",
      "Average: 0.7968\n",
      "test_roc_auc -> [0.78125    0.80952381 0.80803571 0.82291667 0.80544355 0.84072581\n",
      " 0.76378772 0.789282   0.81269511 0.73413111]\n",
      "\n"
     ]
    }
   ],
   "source": [
    "cv_results_k10 = cross_validate(clf, k10_x, k10_y, cv=10,scoring=('accuracy','average_precision',\n",
    "                                                           'f1','jaccard','recall','roc_auc'))\n",
    "print_results(cv_results_k10)"
   ]
  },
  {
   "cell_type": "markdown",
   "metadata": {},
   "source": [
    "## k15 features"
   ]
  },
  {
   "cell_type": "code",
   "execution_count": 27,
   "metadata": {},
   "outputs": [
    {
     "name": "stdout",
     "output_type": "stream",
     "text": [
      "Average: 0.0087\n",
      "fit_time -> [0.00896978 0.00793958 0.00897598 0.0089457  0.00897574 0.00797939\n",
      " 0.00797915 0.00793266 0.00997257 0.00897598]\n",
      "\n",
      "Average: 0.0081\n",
      "score_time -> [0.00801754 0.00901461 0.00797915 0.00801015 0.00797772 0.00797772\n",
      " 0.00798488 0.00897717 0.00797868 0.00694871]\n",
      "\n",
      "Average: 0.7724\n",
      "test_accuracy -> [0.8        0.74736842 0.75789474 0.77894737 0.75531915 0.78723404\n",
      " 0.75268817 0.78494624 0.79569892 0.76344086]\n",
      "\n",
      "Average: 0.6986\n",
      "test_average_precision -> [0.65365005 0.75341956 0.64649845 0.66426913 0.67217258 0.74917118\n",
      " 0.68426946 0.69157904 0.77649357 0.69430372]\n",
      "\n",
      "Average: 0.6355\n",
      "test_f1 -> [0.65454545 0.53846154 0.64615385 0.6557377  0.59649123 0.6875\n",
      " 0.61016949 0.64285714 0.6779661  0.64516129]\n",
      "\n",
      "Average: 0.4671\n",
      "test_jaccard -> [0.48648649 0.36842105 0.47727273 0.48780488 0.425      0.52380952\n",
      " 0.43902439 0.47368421 0.51282051 0.47619048]\n",
      "\n",
      "Average: 0.5952\n",
      "test_recall -> [0.5625     0.4375     0.65625    0.625      0.53125    0.6875\n",
      " 0.58064516 0.58064516 0.64516129 0.64516129]\n",
      "\n",
      "Average: 0.8238\n",
      "test_roc_auc -> [0.80257937 0.8328373  0.83382937 0.86111111 0.79889113 0.84576613\n",
      " 0.81269511 0.81893861 0.85119667 0.78043704]\n",
      "\n"
     ]
    }
   ],
   "source": [
    "cv_results_k15 = cross_validate(clf, k15_x, k15_y, cv=10,scoring=('accuracy','average_precision',\n",
    "                                                           'f1','jaccard','recall','roc_auc'))\n",
    "print_results(cv_results_k15)"
   ]
  },
  {
   "cell_type": "markdown",
   "metadata": {},
   "source": [
    "## k20 features"
   ]
  },
  {
   "cell_type": "code",
   "execution_count": 28,
   "metadata": {},
   "outputs": [
    {
     "name": "stdout",
     "output_type": "stream",
     "text": [
      "Average: 0.0087\n",
      "fit_time -> [0.01201057 0.00893974 0.00897622 0.00797701 0.00897527 0.00797844\n",
      " 0.00698042 0.0079782  0.00897551 0.00797868]\n",
      "\n",
      "Average: 0.0073\n",
      "score_time -> [0.00797272 0.00797987 0.00797844 0.00698376 0.00797868 0.00698042\n",
      " 0.00698209 0.00698185 0.00698161 0.00598407]\n",
      "\n",
      "Average: 0.8106\n",
      "test_accuracy -> [0.76842105 0.85263158 0.78947368 0.83157895 0.82978723 0.79787234\n",
      " 0.76344086 0.84946237 0.83870968 0.78494624]\n",
      "\n",
      "Average: 0.774\n",
      "test_average_precision -> [0.7816315  0.81619779 0.68153881 0.76559053 0.80196239 0.71553541\n",
      " 0.75039022 0.84187963 0.82289736 0.76195225]\n",
      "\n",
      "Average: 0.7016\n",
      "test_f1 -> [0.60714286 0.75       0.6969697  0.76470588 0.71428571 0.6984127\n",
      " 0.62068966 0.75       0.73684211 0.67741935]\n",
      "\n",
      "Average: 0.5427\n",
      "test_jaccard -> [0.43589744 0.6        0.53488372 0.61904762 0.55555556 0.53658537\n",
      " 0.45       0.6        0.58333333 0.51219512]\n",
      "\n",
      "Average: 0.6644\n",
      "test_recall -> [0.53125    0.65625    0.71875    0.8125     0.625      0.6875\n",
      " 0.58064516 0.67741935 0.67741935 0.67741935]\n",
      "\n",
      "Average: 0.8678\n",
      "test_roc_auc -> [0.85515873 0.88144841 0.87450397 0.89285714 0.86592742 0.86693548\n",
      " 0.84859521 0.87721124 0.87460978 0.84027055]\n",
      "\n"
     ]
    }
   ],
   "source": [
    "cv_results_k20 = cross_validate(clf, k20_x, k20_y, cv=10,scoring=('accuracy','average_precision',\n",
    "                                                           'f1','jaccard','recall','roc_auc'))\n",
    "print_results(cv_results_k20)"
   ]
  },
  {
   "cell_type": "markdown",
   "metadata": {},
   "source": [
    "## k25 features"
   ]
  },
  {
   "cell_type": "code",
   "execution_count": 29,
   "metadata": {},
   "outputs": [
    {
     "name": "stdout",
     "output_type": "stream",
     "text": [
      "Average: 0.0127\n",
      "fit_time -> [0.01396132 0.01096892 0.01397181 0.01296473 0.0119679  0.01296496\n",
      " 0.01296353 0.01196551 0.01196766 0.01296473]\n",
      "\n",
      "Average: 0.0085\n",
      "score_time -> [0.00801444 0.00698066 0.00793767 0.00997257 0.00797868 0.00797892\n",
      " 0.00897908 0.00997329 0.00797892 0.00897813]\n",
      "\n",
      "Average: 0.8192\n",
      "test_accuracy -> [0.78947368 0.83157895 0.83157895 0.8        0.79787234 0.81914894\n",
      " 0.79569892 0.88172043 0.84946237 0.79569892]\n",
      "\n",
      "Average: 0.7904\n",
      "test_average_precision -> [0.79760761 0.86590267 0.71693667 0.68819067 0.79921214 0.71234196\n",
      " 0.77896491 0.88099437 0.85173296 0.81229655]\n",
      "\n",
      "Average: 0.7175\n",
      "test_f1 -> [0.66666667 0.72413793 0.75757576 0.72463768 0.66666667 0.73015873\n",
      " 0.66666667 0.8        0.75       0.68852459]\n",
      "\n",
      "Average: 0.5612\n",
      "test_jaccard -> [0.5        0.56756757 0.6097561  0.56818182 0.5        0.575\n",
      " 0.5        0.66666667 0.6        0.525     ]\n",
      "\n",
      "Average: 0.6834\n",
      "test_recall -> [0.625      0.65625    0.78125    0.78125    0.59375    0.71875\n",
      " 0.61290323 0.70967742 0.67741935 0.67741935]\n",
      "\n",
      "Average: 0.8784\n",
      "test_roc_auc -> [0.86954365 0.90228175 0.875      0.8655754  0.86542339 0.87096774\n",
      " 0.86264308 0.90166493 0.90322581 0.86784599]\n",
      "\n"
     ]
    }
   ],
   "source": [
    "cv_results_k25 = cross_validate(clf, k25_x, k25_y, cv=10,scoring=('accuracy','average_precision',\n",
    "                                                           'f1','jaccard','recall','roc_auc'))\n",
    "print_results(cv_results_k25)"
   ]
  }
 ],
 "metadata": {
  "kernelspec": {
   "display_name": "Python 3",
   "language": "python",
   "name": "python3"
  },
  "language_info": {
   "codemirror_mode": {
    "name": "ipython",
    "version": 3
   },
   "file_extension": ".py",
   "mimetype": "text/x-python",
   "name": "python",
   "nbconvert_exporter": "python",
   "pygments_lexer": "ipython3",
   "version": "3.7.4"
  },
  "latex_envs": {
   "LaTeX_envs_menu_present": true,
   "autoclose": false,
   "autocomplete": true,
   "bibliofile": "biblio.bib",
   "cite_by": "apalike",
   "current_citInitial": 1,
   "eqLabelWithNumbers": true,
   "eqNumInitial": 1,
   "hotkeys": {
    "equation": "Ctrl-E",
    "itemize": "Ctrl-I"
   },
   "labels_anchors": false,
   "latex_user_defs": false,
   "report_style_numbering": false,
   "user_envs_cfg": false
  }
 },
 "nbformat": 4,
 "nbformat_minor": 2
}
