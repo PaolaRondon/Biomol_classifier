{
 "cells": [
  {
   "cell_type": "markdown",
   "metadata": {},
   "source": [
    "# Imports"
   ]
  },
  {
   "cell_type": "code",
   "execution_count": 1,
   "metadata": {},
   "outputs": [],
   "source": [
    "import pandas as pd\n",
    "import numpy as np"
   ]
  },
  {
   "cell_type": "markdown",
   "metadata": {},
   "source": [
    "# Loading dataframe"
   ]
  },
  {
   "cell_type": "code",
   "execution_count": 2,
   "metadata": {},
   "outputs": [],
   "source": [
    "cns_smiles_df=pd.read_csv('cns_smiles.tsv',sep='\\t')"
   ]
  },
  {
   "cell_type": "code",
   "execution_count": 3,
   "metadata": {},
   "outputs": [
    {
     "data": {
      "text/html": [
       "<div>\n",
       "<style scoped>\n",
       "    .dataframe tbody tr th:only-of-type {\n",
       "        vertical-align: middle;\n",
       "    }\n",
       "\n",
       "    .dataframe tbody tr th {\n",
       "        vertical-align: top;\n",
       "    }\n",
       "\n",
       "    .dataframe thead th {\n",
       "        text-align: right;\n",
       "    }\n",
       "</style>\n",
       "<table border=\"1\" class=\"dataframe\">\n",
       "  <thead>\n",
       "    <tr style=\"text-align: right;\">\n",
       "      <th></th>\n",
       "      <th>Name</th>\n",
       "      <th>Smiles</th>\n",
       "    </tr>\n",
       "  </thead>\n",
       "  <tbody>\n",
       "    <tr>\n",
       "      <td>0</td>\n",
       "      <td>ACETAZOLAMIDE</td>\n",
       "      <td>CC(=O)Nc1nnc(s1)S(=O)(=O)N</td>\n",
       "    </tr>\n",
       "    <tr>\n",
       "      <td>1</td>\n",
       "      <td>ACETOPHENAZINE</td>\n",
       "      <td>CC(=O)c1ccc2c(c1)N(c3ccccc3S2)CCCN4CCN(CC4)CCO</td>\n",
       "    </tr>\n",
       "    <tr>\n",
       "      <td>2</td>\n",
       "      <td>ALFENTANIL</td>\n",
       "      <td>CCC(=O)N(c1ccccc1)C2(CCN(CC2)CCn3c(=O)n(nn3)CC...</td>\n",
       "    </tr>\n",
       "    <tr>\n",
       "      <td>3</td>\n",
       "      <td>ALPRAZOLAM</td>\n",
       "      <td>Cc1nnc2n1-c3ccc(cc3C(=NC2)c4ccccc4)Cl</td>\n",
       "    </tr>\n",
       "    <tr>\n",
       "      <td>4</td>\n",
       "      <td>AMANTADINE</td>\n",
       "      <td>C1C2CC3CC1CC(C2)(C3)N</td>\n",
       "    </tr>\n",
       "    <tr>\n",
       "      <td>...</td>\n",
       "      <td>...</td>\n",
       "      <td>...</td>\n",
       "    </tr>\n",
       "    <tr>\n",
       "      <td>311</td>\n",
       "      <td>BROMPERIDOL</td>\n",
       "      <td>c1cc(ccc1C(=O)CCCN2CCC(CC2)(c3ccc(cc3)Br)O)F</td>\n",
       "    </tr>\n",
       "    <tr>\n",
       "      <td>312</td>\n",
       "      <td>ETHCHLORVYNOL</td>\n",
       "      <td>CCC(/C=C/Cl)(C#C)O</td>\n",
       "    </tr>\n",
       "    <tr>\n",
       "      <td>313</td>\n",
       "      <td>CHLORMETHIAZOLE</td>\n",
       "      <td>c1c(scn1)CCCl</td>\n",
       "    </tr>\n",
       "    <tr>\n",
       "      <td>314</td>\n",
       "      <td>DRONABINOL</td>\n",
       "      <td>CCCCCc1cc(c2c(c1)OC(C3C2C=C(CC3)C)(C)C)O</td>\n",
       "    </tr>\n",
       "    <tr>\n",
       "      <td>315</td>\n",
       "      <td>PALONOSETRON</td>\n",
       "      <td>c1cc2c3c(c1)C(=O)N(CC3CCC2)C4CN5CCC4CC5</td>\n",
       "    </tr>\n",
       "  </tbody>\n",
       "</table>\n",
       "<p>316 rows × 2 columns</p>\n",
       "</div>"
      ],
      "text/plain": [
       "                Name                                             Smiles\n",
       "0      ACETAZOLAMIDE                         CC(=O)Nc1nnc(s1)S(=O)(=O)N\n",
       "1     ACETOPHENAZINE     CC(=O)c1ccc2c(c1)N(c3ccccc3S2)CCCN4CCN(CC4)CCO\n",
       "2         ALFENTANIL  CCC(=O)N(c1ccccc1)C2(CCN(CC2)CCn3c(=O)n(nn3)CC...\n",
       "3         ALPRAZOLAM              Cc1nnc2n1-c3ccc(cc3C(=NC2)c4ccccc4)Cl\n",
       "4         AMANTADINE                              C1C2CC3CC1CC(C2)(C3)N\n",
       "..               ...                                                ...\n",
       "311      BROMPERIDOL       c1cc(ccc1C(=O)CCCN2CCC(CC2)(c3ccc(cc3)Br)O)F\n",
       "312    ETHCHLORVYNOL                                 CCC(/C=C/Cl)(C#C)O\n",
       "313  CHLORMETHIAZOLE                                      c1c(scn1)CCCl\n",
       "314       DRONABINOL           CCCCCc1cc(c2c(c1)OC(C3C2C=C(CC3)C)(C)C)O\n",
       "315     PALONOSETRON            c1cc2c3c(c1)C(=O)N(CC3CCC2)C4CN5CCC4CC5\n",
       "\n",
       "[316 rows x 2 columns]"
      ]
     },
     "execution_count": 3,
     "metadata": {},
     "output_type": "execute_result"
    }
   ],
   "source": [
    "cns_smiles_df"
   ]
  },
  {
   "cell_type": "markdown",
   "metadata": {},
   "source": [
    "# rdkit imports"
   ]
  },
  {
   "cell_type": "code",
   "execution_count": 4,
   "metadata": {},
   "outputs": [
    {
     "name": "stderr",
     "output_type": "stream",
     "text": [
      "RDKit WARNING: [12:05:10] Enabling RDKit 2019.09.3 jupyter extensions\n"
     ]
    }
   ],
   "source": [
    "from IPython.display import SVG\n",
    "from rdkit import Chem\n",
    "from rdkit.Chem import AllChem\n",
    "from rdkit.Chem import rdDepictor\n",
    "from rdkit.Chem.Draw import rdMolDraw2D\n",
    "from rdkit.Chem import Draw"
   ]
  },
  {
   "cell_type": "code",
   "execution_count": 9,
   "metadata": {},
   "outputs": [
    {
     "name": "stdout",
     "output_type": "stream",
     "text": [
      "ACETAZOLAMIDE -> CC(=O)Nc1nnc(s1)S(=O)(=O)N\n"
     ]
    }
   ],
   "source": [
    "# variables get their values from the dataframe\n",
    "mol_name=cns_smiles_df.loc[[0],'Name'][0]\n",
    "mol_smiles=cns_smiles_df.loc[[0],'Smiles'][0]\n",
    "print(f\"{mol_name} -> {mol_smiles}\")"
   ]
  },
  {
   "cell_type": "code",
   "execution_count": 10,
   "metadata": {},
   "outputs": [],
   "source": [
    "m = Chem.MolFromSmiles(mol_smiles)"
   ]
  },
  {
   "cell_type": "markdown",
   "metadata": {},
   "source": [
    "### Mol blocks "
   ]
  },
  {
   "cell_type": "code",
   "execution_count": 11,
   "metadata": {},
   "outputs": [
    {
     "name": "stdout",
     "output_type": "stream",
     "text": [
      "ACETAZOLAMIDE\n",
      "     RDKit          2D\n",
      "\n",
      " 13 13  0  0  0  0  0  0  0  0999 V2000\n",
      "    4.7053   -0.5461    0.0000 C   0  0  0  0  0  0  0  0  0  0  0  0\n",
      "    3.2069   -0.4773    0.0000 C   0  0  0  0  0  0  0  0  0  0  0  0\n",
      "    2.3980   -1.7405    0.0000 O   0  0  0  0  0  0  0  0  0  0  0  0\n",
      "    2.5173    0.8549    0.0000 N   0  0  0  0  0  0  0  0  0  0  0  0\n",
      "    1.0189    0.9238    0.0000 C   0  0  0  0  0  0  0  0  0  0  0  0\n",
      "    0.1939    2.1765    0.0000 N   0  0  0  0  0  0  0  0  0  0  0  0\n",
      "   -1.2524    1.7790    0.0000 N   0  0  0  0  0  0  0  0  0  0  0  0\n",
      "   -1.3213    0.2806    0.0000 C   0  0  0  0  0  0  0  0  0  0  0  0\n",
      "    0.0824   -0.2480    0.0000 S   0  0  0  0  0  0  0  0  0  0  0  0\n",
      "   -2.5741   -0.5444    0.0000 S   0  0  0  0  0  0  0  0  0  0  0  0\n",
      "   -3.3991    0.7083    0.0000 O   0  0  0  0  0  0  0  0  0  0  0  0\n",
      "   -1.7491   -1.7972    0.0000 O   0  0  0  0  0  0  0  0  0  0  0  0\n",
      "   -3.8268   -1.3695    0.0000 N   0  0  0  0  0  0  0  0  0  0  0  0\n",
      "  1  2  1  0\n",
      "  2  3  2  0\n",
      "  2  4  1  0\n",
      "  4  5  1  0\n",
      "  5  6  2  0\n",
      "  6  7  1  0\n",
      "  7  8  2  0\n",
      "  8  9  1  0\n",
      "  8 10  1  0\n",
      " 10 11  2  0\n",
      " 10 12  2  0\n",
      " 10 13  1  0\n",
      "  9  5  1  0\n",
      "M  END\n",
      "\n"
     ]
    }
   ],
   "source": [
    "AllChem.Compute2DCoords(m) # 2d\n",
    "m.SetProp(\"_Name\",mol_name)\n",
    "print(Chem.MolToMolBlock(m))"
   ]
  },
  {
   "cell_type": "code",
   "execution_count": 47,
   "metadata": {},
   "outputs": [
    {
     "name": "stdout",
     "output_type": "stream",
     "text": [
      "x:4.705308677525869 | y:-0.5461492880085369 \n",
      "x:3.2068916882790144 | y:-0.4772542494615457 \n",
      "x:2.398018340079184 | y:-1.7404739083380207 \n",
      "x:2.51734804723199 | y:0.8548604479619201 \n",
      "x:1.0189310579851356 | y:0.9237554865089113 \n",
      "x:0.193920906933978 | y:2.176495783083802 \n",
      "x:-1.2524480725557454 | y:1.7789825440969034 \n",
      "x:-1.3213431111027367 | y:0.28056555485004886 \n",
      "x:0.08244639290871181 | y:-0.24799383483789417 \n",
      "x:-2.5740834076776276 | y:-0.5444445962011079 \n",
      "x:-3.3990935587287847 | y:0.7082957003737838 \n",
      "x:-1.7490732566264704 | y:-1.797184892775999 \n",
      "x:-3.8268237042525186 | y:-1.369454747252265 \n"
     ]
    }
   ],
   "source": [
    "AllChem.Compute2DCoords(m) # 2d\n",
    "for i in range(m.GetNumAtoms()): # same info as above, using Chem.MolToMolBlock(m)\n",
    "    pos = m.GetConformer().GetAtomPosition(i)\n",
    "    print(f\"x:{pos.x} | y:{pos.y} \")"
   ]
  },
  {
   "cell_type": "code",
   "execution_count": 13,
   "metadata": {},
   "outputs": [
    {
     "name": "stdout",
     "output_type": "stream",
     "text": [
      "(<rdkit.Chem.rdchem.Conformer object at 0x000001D72CD74570>,)\n",
      "(<rdkit.Chem.rdchem.Conformer object at 0x000001D72CD74450>,)\n"
     ]
    }
   ],
   "source": [
    "conforms = m.GetConformers()\n",
    "print(conforms)\n",
    "\n",
    "mh = Chem.AddHs(m)\n",
    "AllChem.EmbedMolecule(mh)\n",
    "print(mh.GetConformers())"
   ]
  },
  {
   "cell_type": "code",
   "execution_count": 14,
   "metadata": {},
   "outputs": [
    {
     "name": "stdout",
     "output_type": "stream",
     "text": [
      "ACETAZOLAMIDE\n",
      "     RDKit          3D\n",
      "\n",
      " 13 13  0  0  0  0  0  0  0  0999 V2000\n",
      "    4.9239   -0.1077   -0.4341 C   0  0  0  0  0  0  0  0  0  0  0  0\n",
      "    3.4446   -0.0062   -0.3919 C   0  0  0  0  0  0  0  0  0  0  0  0\n",
      "    2.8647    0.7545   -1.2069 O   0  0  0  0  0  0  0  0  0  0  0  0\n",
      "    2.6315   -0.7213    0.5203 N   0  0  0  0  0  0  0  0  0  0  0  0\n",
      "    1.1923   -0.5715    0.5024 C   0  0  0  0  0  0  0  0  0  0  0  0\n",
      "    0.2971   -1.1657    1.2842 N   0  0  0  0  0  0  0  0  0  0  0  0\n",
      "   -0.9275   -0.9152    1.1270 N   0  0  0  0  0  0  0  0  0  0  0  0\n",
      "   -1.3242   -0.0653    0.1895 C   0  0  0  0  0  0  0  0  0  0  0  0\n",
      "    0.1772    0.3846   -0.4910 S   0  0  0  0  0  0  0  0  0  0  0  0\n",
      "   -2.9607    0.4468   -0.2251 S   0  0  0  0  0  0  0  0  0  0  0  0\n",
      "   -3.9211   -0.6417    0.1553 O   0  0  0  0  0  0  0  0  0  0  0  0\n",
      "   -3.0173    0.7574   -1.7004 O   0  0  0  0  0  0  0  0  0  0  0  0\n",
      "   -3.3804    1.8513    0.7121 N   0  0  0  0  0  0  0  0  0  0  0  0\n",
      "  1  2  1  0\n",
      "  2  3  2  0\n",
      "  2  4  1  0\n",
      "  4  5  1  0\n",
      "  5  6  2  0\n",
      "  6  7  1  0\n",
      "  7  8  2  0\n",
      "  8  9  1  0\n",
      "  8 10  1  0\n",
      " 10 11  2  0\n",
      " 10 12  2  0\n",
      " 10 13  1  0\n",
      "  9  5  1  0\n",
      "M  END\n",
      "\n"
     ]
    }
   ],
   "source": [
    "AllChem.EmbedMolecule(m) # 3d\n",
    "m.SetProp(\"_Name\",mol_name)\n",
    "print(Chem.MolToMolBlock(m))"
   ]
  },
  {
   "cell_type": "markdown",
   "metadata": {},
   "source": [
    "### Normally molecules are stored in the RDKit with the hydrogen atoms implicit (e.g. not explicitly present in the molecular graph. When it is useful to have the hydrogens explicitly present, for example when generating or optimizing the 3D geometry"
   ]
  },
  {
   "cell_type": "code",
   "execution_count": 44,
   "metadata": {},
   "outputs": [
    {
     "data": {
      "text/plain": [
       "13"
      ]
     },
     "execution_count": 44,
     "metadata": {},
     "output_type": "execute_result"
    }
   ],
   "source": [
    "m.GetNumAtoms() # notice that this gives us the same length than element = [atom.GetSymbol() for atom in m.GetAtoms()]"
   ]
  },
  {
   "cell_type": "code",
   "execution_count": 45,
   "metadata": {},
   "outputs": [
    {
     "data": {
      "text/plain": [
       "19"
      ]
     },
     "execution_count": 45,
     "metadata": {},
     "output_type": "execute_result"
    }
   ],
   "source": [
    "m2 = Chem.AddHs(m)\n",
    "m2.GetNumAtoms()"
   ]
  },
  {
   "cell_type": "markdown",
   "metadata": {},
   "source": [
    "#### The Hs can be removed again using the rdkit.Chem.rdmolops.RemoveHs() function"
   ]
  },
  {
   "cell_type": "code",
   "execution_count": 46,
   "metadata": {
    "scrolled": true
   },
   "outputs": [
    {
     "data": {
      "text/plain": [
       "13"
      ]
     },
     "execution_count": 46,
     "metadata": {},
     "output_type": "execute_result"
    }
   ],
   "source": [
    "m3 = Chem.RemoveHs(m2)\n",
    "m3.GetNumAtoms()"
   ]
  },
  {
   "cell_type": "markdown",
   "metadata": {},
   "source": [
    "# Working with Molecules"
   ]
  },
  {
   "cell_type": "code",
   "execution_count": 15,
   "metadata": {},
   "outputs": [
    {
     "name": "stdout",
     "output_type": "stream",
     "text": [
      "ACETAZOLAMIDE formula: C4H6N4O3S2\n"
     ]
    }
   ],
   "source": [
    "print(\"{} formula: {}\".format(mol_name,AllChem.CalcMolFormula(m)))"
   ]
  },
  {
   "cell_type": "code",
   "execution_count": 16,
   "metadata": {},
   "outputs": [
    {
     "name": "stdout",
     "output_type": "stream",
     "text": [
      "aliphatic carbon atoms: 2\n"
     ]
    }
   ],
   "source": [
    "patt= Chem.MolFromSmarts(\"[C]\")\n",
    "pm = m.GetSubstructMatches(patt)\n",
    "print (\"aliphatic carbon atoms: {}\".format(len(pm)))"
   ]
  },
  {
   "cell_type": "code",
   "execution_count": 17,
   "metadata": {},
   "outputs": [
    {
     "name": "stdout",
     "output_type": "stream",
     "text": [
      "Total carbon atoms: 4\n"
     ]
    }
   ],
   "source": [
    "patt = Chem.MolFromSmarts(\"[#6]\")\n",
    "pm = m.GetSubstructMatches(patt)\n",
    "print (\"Total carbon atoms: {}\".format(len(pm)))"
   ]
  },
  {
   "cell_type": "markdown",
   "metadata": {},
   "source": [
    "#### Adjacency matrix"
   ]
  },
  {
   "cell_type": "code",
   "execution_count": 30,
   "metadata": {},
   "outputs": [
    {
     "data": {
      "text/plain": [
       "array([[0, 1, 0, 0, 0, 0, 0, 0, 0, 0, 0, 0, 0],\n",
       "       [1, 0, 1, 1, 0, 0, 0, 0, 0, 0, 0, 0, 0],\n",
       "       [0, 1, 0, 0, 0, 0, 0, 0, 0, 0, 0, 0, 0],\n",
       "       [0, 1, 0, 0, 1, 0, 0, 0, 0, 0, 0, 0, 0],\n",
       "       [0, 0, 0, 1, 0, 1, 0, 0, 1, 0, 0, 0, 0],\n",
       "       [0, 0, 0, 0, 1, 0, 1, 0, 0, 0, 0, 0, 0],\n",
       "       [0, 0, 0, 0, 0, 1, 0, 1, 0, 0, 0, 0, 0],\n",
       "       [0, 0, 0, 0, 0, 0, 1, 0, 1, 1, 0, 0, 0],\n",
       "       [0, 0, 0, 0, 1, 0, 0, 1, 0, 0, 0, 0, 0],\n",
       "       [0, 0, 0, 0, 0, 0, 0, 1, 0, 0, 1, 1, 1],\n",
       "       [0, 0, 0, 0, 0, 0, 0, 0, 0, 1, 0, 0, 0],\n",
       "       [0, 0, 0, 0, 0, 0, 0, 0, 0, 1, 0, 0, 0],\n",
       "       [0, 0, 0, 0, 0, 0, 0, 0, 0, 1, 0, 0, 0]], dtype=int32)"
      ]
     },
     "execution_count": 30,
     "metadata": {},
     "output_type": "execute_result"
    }
   ],
   "source": [
    "am = Chem.GetAdjacencyMatrix(m)\n",
    "am"
   ]
  },
  {
   "cell_type": "code",
   "execution_count": 41,
   "metadata": {},
   "outputs": [
    {
     "data": {
      "text/plain": [
       "['C', 'C', 'O', 'N', 'C', 'N', 'N', 'C', 'S', 'S', 'O', 'O', 'N']"
      ]
     },
     "execution_count": 41,
     "metadata": {},
     "output_type": "execute_result"
    }
   ],
   "source": [
    "element = [atom.GetSymbol() for atom in m.GetAtoms()]\n",
    "element"
   ]
  },
  {
   "cell_type": "code",
   "execution_count": 34,
   "metadata": {},
   "outputs": [
    {
     "data": {
      "text/html": [
       "<div>\n",
       "<style scoped>\n",
       "    .dataframe tbody tr th:only-of-type {\n",
       "        vertical-align: middle;\n",
       "    }\n",
       "\n",
       "    .dataframe tbody tr th {\n",
       "        vertical-align: top;\n",
       "    }\n",
       "\n",
       "    .dataframe thead th {\n",
       "        text-align: right;\n",
       "    }\n",
       "</style>\n",
       "<table border=\"1\" class=\"dataframe\">\n",
       "  <thead>\n",
       "    <tr style=\"text-align: right;\">\n",
       "      <th></th>\n",
       "      <th>C</th>\n",
       "      <th>C</th>\n",
       "      <th>O</th>\n",
       "      <th>N</th>\n",
       "      <th>C</th>\n",
       "      <th>N</th>\n",
       "      <th>N</th>\n",
       "      <th>C</th>\n",
       "      <th>S</th>\n",
       "      <th>S</th>\n",
       "      <th>O</th>\n",
       "      <th>O</th>\n",
       "      <th>N</th>\n",
       "    </tr>\n",
       "  </thead>\n",
       "  <tbody>\n",
       "    <tr>\n",
       "      <td>C</td>\n",
       "      <td>0</td>\n",
       "      <td>1</td>\n",
       "      <td>0</td>\n",
       "      <td>0</td>\n",
       "      <td>0</td>\n",
       "      <td>0</td>\n",
       "      <td>0</td>\n",
       "      <td>0</td>\n",
       "      <td>0</td>\n",
       "      <td>0</td>\n",
       "      <td>0</td>\n",
       "      <td>0</td>\n",
       "      <td>0</td>\n",
       "    </tr>\n",
       "    <tr>\n",
       "      <td>C</td>\n",
       "      <td>1</td>\n",
       "      <td>0</td>\n",
       "      <td>1</td>\n",
       "      <td>1</td>\n",
       "      <td>0</td>\n",
       "      <td>0</td>\n",
       "      <td>0</td>\n",
       "      <td>0</td>\n",
       "      <td>0</td>\n",
       "      <td>0</td>\n",
       "      <td>0</td>\n",
       "      <td>0</td>\n",
       "      <td>0</td>\n",
       "    </tr>\n",
       "    <tr>\n",
       "      <td>O</td>\n",
       "      <td>0</td>\n",
       "      <td>1</td>\n",
       "      <td>0</td>\n",
       "      <td>0</td>\n",
       "      <td>0</td>\n",
       "      <td>0</td>\n",
       "      <td>0</td>\n",
       "      <td>0</td>\n",
       "      <td>0</td>\n",
       "      <td>0</td>\n",
       "      <td>0</td>\n",
       "      <td>0</td>\n",
       "      <td>0</td>\n",
       "    </tr>\n",
       "    <tr>\n",
       "      <td>N</td>\n",
       "      <td>0</td>\n",
       "      <td>1</td>\n",
       "      <td>0</td>\n",
       "      <td>0</td>\n",
       "      <td>1</td>\n",
       "      <td>0</td>\n",
       "      <td>0</td>\n",
       "      <td>0</td>\n",
       "      <td>0</td>\n",
       "      <td>0</td>\n",
       "      <td>0</td>\n",
       "      <td>0</td>\n",
       "      <td>0</td>\n",
       "    </tr>\n",
       "    <tr>\n",
       "      <td>C</td>\n",
       "      <td>0</td>\n",
       "      <td>0</td>\n",
       "      <td>0</td>\n",
       "      <td>1</td>\n",
       "      <td>0</td>\n",
       "      <td>1</td>\n",
       "      <td>0</td>\n",
       "      <td>0</td>\n",
       "      <td>1</td>\n",
       "      <td>0</td>\n",
       "      <td>0</td>\n",
       "      <td>0</td>\n",
       "      <td>0</td>\n",
       "    </tr>\n",
       "    <tr>\n",
       "      <td>N</td>\n",
       "      <td>0</td>\n",
       "      <td>0</td>\n",
       "      <td>0</td>\n",
       "      <td>0</td>\n",
       "      <td>1</td>\n",
       "      <td>0</td>\n",
       "      <td>1</td>\n",
       "      <td>0</td>\n",
       "      <td>0</td>\n",
       "      <td>0</td>\n",
       "      <td>0</td>\n",
       "      <td>0</td>\n",
       "      <td>0</td>\n",
       "    </tr>\n",
       "    <tr>\n",
       "      <td>N</td>\n",
       "      <td>0</td>\n",
       "      <td>0</td>\n",
       "      <td>0</td>\n",
       "      <td>0</td>\n",
       "      <td>0</td>\n",
       "      <td>1</td>\n",
       "      <td>0</td>\n",
       "      <td>1</td>\n",
       "      <td>0</td>\n",
       "      <td>0</td>\n",
       "      <td>0</td>\n",
       "      <td>0</td>\n",
       "      <td>0</td>\n",
       "    </tr>\n",
       "    <tr>\n",
       "      <td>C</td>\n",
       "      <td>0</td>\n",
       "      <td>0</td>\n",
       "      <td>0</td>\n",
       "      <td>0</td>\n",
       "      <td>0</td>\n",
       "      <td>0</td>\n",
       "      <td>1</td>\n",
       "      <td>0</td>\n",
       "      <td>1</td>\n",
       "      <td>1</td>\n",
       "      <td>0</td>\n",
       "      <td>0</td>\n",
       "      <td>0</td>\n",
       "    </tr>\n",
       "    <tr>\n",
       "      <td>S</td>\n",
       "      <td>0</td>\n",
       "      <td>0</td>\n",
       "      <td>0</td>\n",
       "      <td>0</td>\n",
       "      <td>1</td>\n",
       "      <td>0</td>\n",
       "      <td>0</td>\n",
       "      <td>1</td>\n",
       "      <td>0</td>\n",
       "      <td>0</td>\n",
       "      <td>0</td>\n",
       "      <td>0</td>\n",
       "      <td>0</td>\n",
       "    </tr>\n",
       "    <tr>\n",
       "      <td>S</td>\n",
       "      <td>0</td>\n",
       "      <td>0</td>\n",
       "      <td>0</td>\n",
       "      <td>0</td>\n",
       "      <td>0</td>\n",
       "      <td>0</td>\n",
       "      <td>0</td>\n",
       "      <td>1</td>\n",
       "      <td>0</td>\n",
       "      <td>0</td>\n",
       "      <td>1</td>\n",
       "      <td>1</td>\n",
       "      <td>1</td>\n",
       "    </tr>\n",
       "    <tr>\n",
       "      <td>O</td>\n",
       "      <td>0</td>\n",
       "      <td>0</td>\n",
       "      <td>0</td>\n",
       "      <td>0</td>\n",
       "      <td>0</td>\n",
       "      <td>0</td>\n",
       "      <td>0</td>\n",
       "      <td>0</td>\n",
       "      <td>0</td>\n",
       "      <td>1</td>\n",
       "      <td>0</td>\n",
       "      <td>0</td>\n",
       "      <td>0</td>\n",
       "    </tr>\n",
       "    <tr>\n",
       "      <td>O</td>\n",
       "      <td>0</td>\n",
       "      <td>0</td>\n",
       "      <td>0</td>\n",
       "      <td>0</td>\n",
       "      <td>0</td>\n",
       "      <td>0</td>\n",
       "      <td>0</td>\n",
       "      <td>0</td>\n",
       "      <td>0</td>\n",
       "      <td>1</td>\n",
       "      <td>0</td>\n",
       "      <td>0</td>\n",
       "      <td>0</td>\n",
       "    </tr>\n",
       "    <tr>\n",
       "      <td>N</td>\n",
       "      <td>0</td>\n",
       "      <td>0</td>\n",
       "      <td>0</td>\n",
       "      <td>0</td>\n",
       "      <td>0</td>\n",
       "      <td>0</td>\n",
       "      <td>0</td>\n",
       "      <td>0</td>\n",
       "      <td>0</td>\n",
       "      <td>1</td>\n",
       "      <td>0</td>\n",
       "      <td>0</td>\n",
       "      <td>0</td>\n",
       "    </tr>\n",
       "  </tbody>\n",
       "</table>\n",
       "</div>"
      ],
      "text/plain": [
       "   C  C  O  N  C  N  N  C  S  S  O  O  N\n",
       "C  0  1  0  0  0  0  0  0  0  0  0  0  0\n",
       "C  1  0  1  1  0  0  0  0  0  0  0  0  0\n",
       "O  0  1  0  0  0  0  0  0  0  0  0  0  0\n",
       "N  0  1  0  0  1  0  0  0  0  0  0  0  0\n",
       "C  0  0  0  1  0  1  0  0  1  0  0  0  0\n",
       "N  0  0  0  0  1  0  1  0  0  0  0  0  0\n",
       "N  0  0  0  0  0  1  0  1  0  0  0  0  0\n",
       "C  0  0  0  0  0  0  1  0  1  1  0  0  0\n",
       "S  0  0  0  0  1  0  0  1  0  0  0  0  0\n",
       "S  0  0  0  0  0  0  0  1  0  0  1  1  1\n",
       "O  0  0  0  0  0  0  0  0  0  1  0  0  0\n",
       "O  0  0  0  0  0  0  0  0  0  1  0  0  0\n",
       "N  0  0  0  0  0  0  0  0  0  1  0  0  0"
      ]
     },
     "execution_count": 34,
     "metadata": {},
     "output_type": "execute_result"
    }
   ],
   "source": [
    "df_adj_elements = pd.DataFrame(am, index=element,  columns=element)\n",
    "df_adj_elements"
   ]
  },
  {
   "cell_type": "markdown",
   "metadata": {},
   "source": [
    "#### Number of atoms in each element"
   ]
  },
  {
   "cell_type": "code",
   "execution_count": 33,
   "metadata": {},
   "outputs": [
    {
     "name": "stdout",
     "output_type": "stream",
     "text": [
      "C:6\n",
      "C:6\n",
      "O:8\n",
      "N:7\n",
      "C:6\n",
      "N:7\n",
      "N:7\n",
      "C:6\n",
      "S:16\n",
      "S:16\n",
      "O:8\n",
      "O:8\n",
      "N:7\n"
     ]
    }
   ],
   "source": [
    "for te,atom in zip(element,m.GetAtoms()):\n",
    "    print(\"{}:{}\".format(te,atom.GetAtomicNum()))"
   ]
  },
  {
   "cell_type": "markdown",
   "metadata": {},
   "source": [
    "#### Type of bond for each element. Looping over Atoms and Bonds"
   ]
  },
  {
   "cell_type": "code",
   "execution_count": 42,
   "metadata": {},
   "outputs": [
    {
     "name": "stdout",
     "output_type": "stream",
     "text": [
      "C: SINGLE\n",
      "C: DOUBLE\n",
      "O: SINGLE\n",
      "N: SINGLE\n",
      "C: AROMATIC\n",
      "N: AROMATIC\n",
      "N: AROMATIC\n",
      "C: AROMATIC\n",
      "S: SINGLE\n",
      "S: DOUBLE\n",
      "O: DOUBLE\n",
      "O: SINGLE\n",
      "N: AROMATIC\n"
     ]
    }
   ],
   "source": [
    "for i in range(len(element)): # for i in range(m.GetNumAtoms()): same result\n",
    "    print(\"{}: {}\".format(element[i],m.GetBonds()[i].GetBondType()))"
   ]
  },
  {
   "cell_type": "markdown",
   "metadata": {},
   "source": [
    "#### Ring Information"
   ]
  },
  {
   "cell_type": "code",
   "execution_count": 43,
   "metadata": {},
   "outputs": [
    {
     "name": "stdout",
     "output_type": "stream",
     "text": [
      "C is is ring?: False\n",
      "C is is ring?: False\n",
      "O is is ring?: False\n",
      "N is is ring?: False\n",
      "C is is ring?: True\n",
      "N is is ring?: True\n",
      "N is is ring?: True\n",
      "C is is ring?: True\n",
      "S is is ring?: True\n",
      "S is is ring?: False\n",
      "O is is ring?: False\n",
      "O is is ring?: False\n",
      "N is is ring?: False\n"
     ]
    }
   ],
   "source": [
    "# other info: m.GetAtomWithIdx(i).IsInRingSize(n) where n is a integer\n",
    "for i in range(len(element)): # for i in range(m.GetNumAtoms()): same result\n",
    "    print(\"{} is is ring?: {}\".format(element[i],m.GetAtomWithIdx(i).IsInRing()))"
   ]
  }
 ],
 "metadata": {
  "kernelspec": {
   "display_name": "Python 3",
   "language": "python",
   "name": "python3"
  },
  "language_info": {
   "codemirror_mode": {
    "name": "ipython",
    "version": 3
   },
   "file_extension": ".py",
   "mimetype": "text/x-python",
   "name": "python",
   "nbconvert_exporter": "python",
   "pygments_lexer": "ipython3",
   "version": "3.7.4"
  },
  "latex_envs": {
   "LaTeX_envs_menu_present": true,
   "autoclose": false,
   "autocomplete": true,
   "bibliofile": "biblio.bib",
   "cite_by": "apalike",
   "current_citInitial": 1,
   "eqLabelWithNumbers": true,
   "eqNumInitial": 1,
   "hotkeys": {
    "equation": "Ctrl-E",
    "itemize": "Ctrl-I"
   },
   "labels_anchors": false,
   "latex_user_defs": false,
   "report_style_numbering": false,
   "user_envs_cfg": false
  }
 },
 "nbformat": 4,
 "nbformat_minor": 2
}
