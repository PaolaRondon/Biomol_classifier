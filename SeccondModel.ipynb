{
 "cells": [
  {
   "cell_type": "code",
   "execution_count": 1,
   "metadata": {},
   "outputs": [],
   "source": [
    "import pandas as pd"
   ]
  },
  {
   "cell_type": "code",
   "execution_count": 2,
   "metadata": {},
   "outputs": [
    {
     "data": {
      "text/html": [
       "<div>\n",
       "<style scoped>\n",
       "    .dataframe tbody tr th:only-of-type {\n",
       "        vertical-align: middle;\n",
       "    }\n",
       "\n",
       "    .dataframe tbody tr th {\n",
       "        vertical-align: top;\n",
       "    }\n",
       "\n",
       "    .dataframe thead th {\n",
       "        text-align: right;\n",
       "    }\n",
       "</style>\n",
       "<table border=\"1\" class=\"dataframe\">\n",
       "  <thead>\n",
       "    <tr style=\"text-align: right;\">\n",
       "      <th></th>\n",
       "      <th>m_name</th>\n",
       "      <th>n_atoms_without_Hydrogen</th>\n",
       "      <th>m_weight</th>\n",
       "      <th>m_avg_weigth</th>\n",
       "      <th>m_weigth_without_Hydrogen</th>\n",
       "      <th>n_valence_electrons</th>\n",
       "      <th>n_aliphatic_rings</th>\n",
       "      <th>n_aromatic_carbocycles</th>\n",
       "      <th>n_HBA</th>\n",
       "      <th>n_HBD</th>\n",
       "      <th>...</th>\n",
       "      <th>n_primary_carbon_atoms</th>\n",
       "      <th>n_HOH</th>\n",
       "      <th>n_O</th>\n",
       "      <th>n_Hydrogen_acceptors</th>\n",
       "      <th>n_Hydrogen_donnors</th>\n",
       "      <th>n_atoms_unspecified_stereo_centers</th>\n",
       "      <th>m_logp</th>\n",
       "      <th>m_mr</th>\n",
       "      <th>fraction_CSP3</th>\n",
       "      <th>is_cns_molecule</th>\n",
       "    </tr>\n",
       "  </thead>\n",
       "  <tbody>\n",
       "    <tr>\n",
       "      <td>0</td>\n",
       "      <td>BUMETANIDE</td>\n",
       "      <td>25</td>\n",
       "      <td>364.109293</td>\n",
       "      <td>344.263</td>\n",
       "      <td>364.423</td>\n",
       "      <td>134</td>\n",
       "      <td>0</td>\n",
       "      <td>2</td>\n",
       "      <td>5</td>\n",
       "      <td>3</td>\n",
       "      <td>...</td>\n",
       "      <td>17</td>\n",
       "      <td>4</td>\n",
       "      <td>7</td>\n",
       "      <td>5</td>\n",
       "      <td>3</td>\n",
       "      <td>0</td>\n",
       "      <td>3.0365</td>\n",
       "      <td>94.6882</td>\n",
       "      <td>0.235294</td>\n",
       "      <td>0</td>\n",
       "    </tr>\n",
       "    <tr>\n",
       "      <td>1</td>\n",
       "      <td>BACLOFEN</td>\n",
       "      <td>14</td>\n",
       "      <td>213.055656</td>\n",
       "      <td>201.568</td>\n",
       "      <td>213.664</td>\n",
       "      <td>76</td>\n",
       "      <td>0</td>\n",
       "      <td>1</td>\n",
       "      <td>2</td>\n",
       "      <td>2</td>\n",
       "      <td>...</td>\n",
       "      <td>10</td>\n",
       "      <td>3</td>\n",
       "      <td>3</td>\n",
       "      <td>2</td>\n",
       "      <td>2</td>\n",
       "      <td>1</td>\n",
       "      <td>1.8570</td>\n",
       "      <td>55.5002</td>\n",
       "      <td>0.300000</td>\n",
       "      <td>1</td>\n",
       "    </tr>\n",
       "    <tr>\n",
       "      <td>2</td>\n",
       "      <td>METYRAPONE</td>\n",
       "      <td>17</td>\n",
       "      <td>226.110613</td>\n",
       "      <td>212.167</td>\n",
       "      <td>226.279</td>\n",
       "      <td>86</td>\n",
       "      <td>0</td>\n",
       "      <td>0</td>\n",
       "      <td>3</td>\n",
       "      <td>0</td>\n",
       "      <td>...</td>\n",
       "      <td>14</td>\n",
       "      <td>0</td>\n",
       "      <td>3</td>\n",
       "      <td>3</td>\n",
       "      <td>0</td>\n",
       "      <td>0</td>\n",
       "      <td>2.6371</td>\n",
       "      <td>65.8305</td>\n",
       "      <td>0.214286</td>\n",
       "      <td>0</td>\n",
       "    </tr>\n",
       "    <tr>\n",
       "      <td>3</td>\n",
       "      <td>METHYLPHENOBARBITAL</td>\n",
       "      <td>18</td>\n",
       "      <td>246.100442</td>\n",
       "      <td>232.154</td>\n",
       "      <td>246.266</td>\n",
       "      <td>94</td>\n",
       "      <td>1</td>\n",
       "      <td>1</td>\n",
       "      <td>3</td>\n",
       "      <td>1</td>\n",
       "      <td>...</td>\n",
       "      <td>13</td>\n",
       "      <td>1</td>\n",
       "      <td>5</td>\n",
       "      <td>3</td>\n",
       "      <td>1</td>\n",
       "      <td>1</td>\n",
       "      <td>1.0426</td>\n",
       "      <td>64.7197</td>\n",
       "      <td>0.307692</td>\n",
       "      <td>1</td>\n",
       "    </tr>\n",
       "    <tr>\n",
       "      <td>4</td>\n",
       "      <td>DULOXETINE</td>\n",
       "      <td>21</td>\n",
       "      <td>297.118735</td>\n",
       "      <td>278.271</td>\n",
       "      <td>297.423</td>\n",
       "      <td>108</td>\n",
       "      <td>0</td>\n",
       "      <td>2</td>\n",
       "      <td>3</td>\n",
       "      <td>1</td>\n",
       "      <td>...</td>\n",
       "      <td>18</td>\n",
       "      <td>1</td>\n",
       "      <td>2</td>\n",
       "      <td>3</td>\n",
       "      <td>1</td>\n",
       "      <td>1</td>\n",
       "      <td>4.6309</td>\n",
       "      <td>90.1797</td>\n",
       "      <td>0.222222</td>\n",
       "      <td>1</td>\n",
       "    </tr>\n",
       "  </tbody>\n",
       "</table>\n",
       "<p>5 rows × 23 columns</p>\n",
       "</div>"
      ],
      "text/plain": [
       "                m_name  n_atoms_without_Hydrogen    m_weight  m_avg_weigth  \\\n",
       "0           BUMETANIDE                        25  364.109293       344.263   \n",
       "1             BACLOFEN                        14  213.055656       201.568   \n",
       "2           METYRAPONE                        17  226.110613       212.167   \n",
       "3  METHYLPHENOBARBITAL                        18  246.100442       232.154   \n",
       "4           DULOXETINE                        21  297.118735       278.271   \n",
       "\n",
       "   m_weigth_without_Hydrogen  n_valence_electrons  n_aliphatic_rings  \\\n",
       "0                    364.423                  134                  0   \n",
       "1                    213.664                   76                  0   \n",
       "2                    226.279                   86                  0   \n",
       "3                    246.266                   94                  1   \n",
       "4                    297.423                  108                  0   \n",
       "\n",
       "   n_aromatic_carbocycles  n_HBA  n_HBD  ...  n_primary_carbon_atoms  n_HOH  \\\n",
       "0                       2      5      3  ...                      17      4   \n",
       "1                       1      2      2  ...                      10      3   \n",
       "2                       0      3      0  ...                      14      0   \n",
       "3                       1      3      1  ...                      13      1   \n",
       "4                       2      3      1  ...                      18      1   \n",
       "\n",
       "   n_O  n_Hydrogen_acceptors  n_Hydrogen_donnors  \\\n",
       "0    7                     5                   3   \n",
       "1    3                     2                   2   \n",
       "2    3                     3                   0   \n",
       "3    5                     3                   1   \n",
       "4    2                     3                   1   \n",
       "\n",
       "   n_atoms_unspecified_stereo_centers  m_logp     m_mr  fraction_CSP3  \\\n",
       "0                                   0  3.0365  94.6882       0.235294   \n",
       "1                                   1  1.8570  55.5002       0.300000   \n",
       "2                                   0  2.6371  65.8305       0.214286   \n",
       "3                                   1  1.0426  64.7197       0.307692   \n",
       "4                                   1  4.6309  90.1797       0.222222   \n",
       "\n",
       "   is_cns_molecule  \n",
       "0                0  \n",
       "1                1  \n",
       "2                0  \n",
       "3                1  \n",
       "4                1  \n",
       "\n",
       "[5 rows x 23 columns]"
      ]
     },
     "execution_count": 2,
     "metadata": {},
     "output_type": "execute_result"
    }
   ],
   "source": [
    "molecules_df=pd.read_csv(\"molecules_v2.csv\", sep=\"\\t\");  molecules_df.head()"
   ]
  },
  {
   "cell_type": "code",
   "execution_count": 3,
   "metadata": {},
   "outputs": [
    {
     "name": "stdout",
     "output_type": "stream",
     "text": [
      "m_name\n",
      "n_atoms_without_Hydrogen\n",
      "m_weight\n",
      "m_avg_weigth\n",
      "m_weigth_without_Hydrogen\n",
      "n_valence_electrons\n",
      "n_aliphatic_rings\n",
      "n_aromatic_carbocycles\n",
      "n_HBA\n",
      "n_HBD\n",
      "n_hetero_atoms\n",
      "n_strict_rotable_bonds\n",
      "n_non_strict_rotable_bonds\n",
      "n_primary_carbon_atoms\n",
      "n_HOH\n",
      "n_O\n",
      "n_Hydrogen_acceptors\n",
      "n_Hydrogen_donnors\n",
      "n_atoms_unspecified_stereo_centers\n",
      "m_logp\n",
      "m_mr\n",
      "fraction_CSP3\n",
      "is_cns_molecule\n"
     ]
    }
   ],
   "source": [
    "for c in molecules_df.columns.values:\n",
    "    print(c)"
   ]
  },
  {
   "cell_type": "code",
   "execution_count": 4,
   "metadata": {},
   "outputs": [],
   "source": [
    "from sklearn.model_selection import train_test_split\n",
    "from sklearn.metrics import confusion_matrix\n",
    "from sklearn.metrics import f1_score\n",
    "from sklearn.metrics import accuracy_score\n",
    "from sklearn.svm import LinearSVC"
   ]
  },
  {
   "cell_type": "code",
   "execution_count": 5,
   "metadata": {},
   "outputs": [],
   "source": [
    "y=molecules_df[\"is_cns_molecule\"]\n",
    "x=molecules_df.drop([\"is_cns_molecule\"],axis=1)\n",
    "x=x.drop([\"m_name\"],axis=1)"
   ]
  },
  {
   "cell_type": "code",
   "execution_count": 6,
   "metadata": {},
   "outputs": [
    {
     "name": "stdout",
     "output_type": "stream",
     "text": [
      "(940, 21)\n",
      "(940,)\n"
     ]
    }
   ],
   "source": [
    "print(x.shape)\n",
    "print(y.shape)"
   ]
  },
  {
   "cell_type": "code",
   "execution_count": 7,
   "metadata": {},
   "outputs": [],
   "source": [
    "x_train, x_test, y_train, y_test=train_test_split(x,y,random_state=0,test_size=0.2)"
   ]
  },
  {
   "cell_type": "code",
   "execution_count": 8,
   "metadata": {},
   "outputs": [],
   "source": [
    "clf = LinearSVC(random_state=0, tol=1e-5, dual=False)\n",
    "clf.fit(x_train,y_train)\n",
    "predicted=clf.predict(x_test)"
   ]
  },
  {
   "cell_type": "code",
   "execution_count": 9,
   "metadata": {},
   "outputs": [],
   "source": [
    "matrix=confusion_matrix(y_test,predicted)\n",
    "matrix_labels=[[\"True positive\",\"False positive\"],\n",
    "                         [\"False negative\",\"True negative\"]]"
   ]
  },
  {
   "cell_type": "code",
   "execution_count": 10,
   "metadata": {},
   "outputs": [
    {
     "name": "stdout",
     "output_type": "stream",
     "text": [
      "True positive 102\n",
      "False positive 11\n",
      "False negative 27\n",
      "True negative 48\n"
     ]
    }
   ],
   "source": [
    "for i in range(2):\n",
    "    for j in range(2):\n",
    "        print(\"{} {}\".format(matrix_labels[i][j],matrix[i][j]))"
   ]
  },
  {
   "cell_type": "code",
   "execution_count": 11,
   "metadata": {},
   "outputs": [
    {
     "name": "stdout",
     "output_type": "stream",
     "text": [
      "f1 score: 71.64179104477611%\n",
      "accuracy score: 79.7872340425532%\n"
     ]
    }
   ],
   "source": [
    "print(\"f1 score: {}%\".format(f1_score(y_test,predicted)*100)) \n",
    "print(\"accuracy score: {}%\".format(accuracy_score(y_test,predicted)*100))"
   ]
  }
 ],
 "metadata": {
  "kernelspec": {
   "display_name": "Python 3",
   "language": "python",
   "name": "python3"
  },
  "language_info": {
   "codemirror_mode": {
    "name": "ipython",
    "version": 3
   },
   "file_extension": ".py",
   "mimetype": "text/x-python",
   "name": "python",
   "nbconvert_exporter": "python",
   "pygments_lexer": "ipython3",
   "version": "3.7.4"
  },
  "latex_envs": {
   "LaTeX_envs_menu_present": true,
   "autoclose": false,
   "autocomplete": true,
   "bibliofile": "biblio.bib",
   "cite_by": "apalike",
   "current_citInitial": 1,
   "eqLabelWithNumbers": true,
   "eqNumInitial": 1,
   "hotkeys": {
    "equation": "Ctrl-E",
    "itemize": "Ctrl-I"
   },
   "labels_anchors": false,
   "latex_user_defs": false,
   "report_style_numbering": false,
   "user_envs_cfg": false
  }
 },
 "nbformat": 4,
 "nbformat_minor": 2
}
