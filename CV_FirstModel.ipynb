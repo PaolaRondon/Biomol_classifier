{
 "cells": [
  {
   "cell_type": "markdown",
   "metadata": {},
   "source": [
    "# Basic imports"
   ]
  },
  {
   "cell_type": "code",
   "execution_count": 1,
   "metadata": {},
   "outputs": [],
   "source": [
    "import pandas as pd"
   ]
  },
  {
   "cell_type": "markdown",
   "metadata": {},
   "source": [
    "# Reading the csv files"
   ]
  },
  {
   "cell_type": "code",
   "execution_count": 2,
   "metadata": {},
   "outputs": [],
   "source": [
    "molecules_zero_df=pd.read_csv(\"molecules_v1.csv\", sep=\"\\t\")\n",
    "molecules_non_zero_df=pd.read_csv(\"molecules_v2.csv\", sep=\"\\t\")"
   ]
  },
  {
   "cell_type": "markdown",
   "metadata": {},
   "source": [
    "# Model imports"
   ]
  },
  {
   "cell_type": "code",
   "execution_count": 3,
   "metadata": {},
   "outputs": [],
   "source": [
    "from sklearn.model_selection import train_test_split\n",
    "from sklearn.metrics import confusion_matrix\n",
    "from sklearn.svm import LinearSVC\n",
    "from sklearn.model_selection import cross_validate"
   ]
  },
  {
   "cell_type": "markdown",
   "metadata": {},
   "source": [
    "# Splitting the data"
   ]
  },
  {
   "cell_type": "code",
   "execution_count": 4,
   "metadata": {},
   "outputs": [],
   "source": [
    "y1=molecules_zero_df[\"is_cns_molecule\"]\n",
    "x1=molecules_zero_df.drop([\"is_cns_molecule\"],axis=1)\n",
    "x1=x1.drop([\"m_name\"],axis=1)\n",
    "\n",
    "y2=molecules_non_zero_df[\"is_cns_molecule\"]\n",
    "x2=molecules_non_zero_df.drop([\"is_cns_molecule\"],axis=1)\n",
    "x2=x2.drop([\"m_name\"],axis=1)"
   ]
  },
  {
   "cell_type": "markdown",
   "metadata": {},
   "source": [
    "# Model"
   ]
  },
  {
   "cell_type": "code",
   "execution_count": 5,
   "metadata": {},
   "outputs": [],
   "source": [
    "clf = LinearSVC(random_state=0, tol=1e-5, dual=False)"
   ]
  },
  {
   "cell_type": "markdown",
   "metadata": {},
   "source": [
    "# Print results function"
   ]
  },
  {
   "cell_type": "code",
   "execution_count": 6,
   "metadata": {},
   "outputs": [],
   "source": [
    "def print_results(cv):\n",
    "    keys=list(sorted(cv.keys()))\n",
    "    for i in keys:\n",
    "        print(\"Average: {}\".format(round(cv[i].mean(),4)))\n",
    "        print(\"{} -> {}\".format(i,cv[i]),end=\"\\n\\n\")\n",
    "        "
   ]
  },
  {
   "cell_type": "markdown",
   "metadata": {},
   "source": [
    "# Molecules_V1 original dataset with weigth zero features"
   ]
  },
  {
   "cell_type": "code",
   "execution_count": 7,
   "metadata": {},
   "outputs": [],
   "source": [
    "x_train, x_test, y_train, y_test=train_test_split(x1,y1,random_state=0,test_size=0.2)\n",
    "cv_results_v1 = cross_validate(clf, x1, y1, cv=10,scoring=('accuracy','average_precision',\n",
    "                                                           'f1',))"
   ]
  },
  {
   "cell_type": "code",
   "execution_count": 8,
   "metadata": {},
   "outputs": [
    {
     "name": "stdout",
     "output_type": "stream",
     "text": [
      "Average: 0.0129\n",
      "fit_time -> [0.01595545 0.0119679  0.01396275 0.01199436 0.01196694 0.01296687\n",
      " 0.01196694 0.01297045 0.0119679  0.0129652 ]\n",
      "\n",
      "Average: 0.0035\n",
      "score_time -> [0.00299215 0.00398946 0.0039897  0.0039897  0.00299215 0.00299072\n",
      " 0.00398993 0.00298619 0.00398993 0.00299239]\n",
      "\n",
      "Average: 0.8266\n",
      "test_accuracy -> [0.81052632 0.84210526 0.83157895 0.82105263 0.81914894 0.82978723\n",
      " 0.74193548 0.86021505 0.87096774 0.83870968]\n",
      "\n",
      "Average: 0.7967\n",
      "test_average_precision -> [0.79964809 0.8057368  0.75012269 0.68717177 0.79405783 0.76562297\n",
      " 0.75245923 0.88246008 0.87505704 0.85507058]\n",
      "\n",
      "Average: 0.7328\n",
      "test_f1 -> [0.68965517 0.74576271 0.75       0.75362319 0.71186441 0.75\n",
      " 0.6        0.77192982 0.79310345 0.76190476]\n",
      "\n"
     ]
    }
   ],
   "source": [
    "print_results(cv_results_v1)"
   ]
  },
  {
   "cell_type": "markdown",
   "metadata": {},
   "source": [
    "# Molecules_V2 alter dataset with non weigth zero features"
   ]
  },
  {
   "cell_type": "code",
   "execution_count": 9,
   "metadata": {},
   "outputs": [],
   "source": [
    "x_train, x_test, y_train, y_test=train_test_split(x2,y2,random_state=0,test_size=0.2)\n",
    "cv_results_v2 = cross_validate(clf, x2, y2, cv=10,scoring=('accuracy','average_precision',\n",
    "                                                           'f1',))"
   ]
  },
  {
   "cell_type": "code",
   "execution_count": 10,
   "metadata": {},
   "outputs": [
    {
     "name": "stdout",
     "output_type": "stream",
     "text": [
      "Average: 0.0099\n",
      "fit_time -> [0.01299977 0.00997877 0.00897884 0.00895143 0.01097035 0.00897551\n",
      " 0.00997305 0.0079782  0.00897574 0.01097035]\n",
      "\n",
      "Average: 0.0035\n",
      "score_time -> [0.00299311 0.00398302 0.00297904 0.00398946 0.00299215 0.00398946\n",
      " 0.00299239 0.0039897  0.00299239 0.00398946]\n",
      "\n",
      "Average: 0.8011\n",
      "test_accuracy -> [0.77894737 0.81052632 0.83157895 0.81052632 0.76595745 0.76595745\n",
      " 0.79569892 0.86021505 0.8172043  0.77419355]\n",
      "\n",
      "Average: 0.7477\n",
      "test_average_precision -> [0.69450193 0.8474754  0.64751731 0.66430227 0.77858618 0.68430192\n",
      " 0.71700695 0.84592336 0.82715123 0.76987987]\n",
      "\n",
      "Average: 0.6891\n",
      "test_f1 -> [0.63157895 0.66666667 0.75       0.74285714 0.64516129 0.65625\n",
      " 0.66666667 0.76363636 0.70175439 0.66666667]\n",
      "\n"
     ]
    }
   ],
   "source": [
    "print_results(cv_results_v2)"
   ]
  }
 ],
 "metadata": {
  "kernelspec": {
   "display_name": "Python 3",
   "language": "python",
   "name": "python3"
  },
  "language_info": {
   "codemirror_mode": {
    "name": "ipython",
    "version": 3
   },
   "file_extension": ".py",
   "mimetype": "text/x-python",
   "name": "python",
   "nbconvert_exporter": "python",
   "pygments_lexer": "ipython3",
   "version": "3.7.4"
  },
  "latex_envs": {
   "LaTeX_envs_menu_present": true,
   "autoclose": false,
   "autocomplete": true,
   "bibliofile": "biblio.bib",
   "cite_by": "apalike",
   "current_citInitial": 1,
   "eqLabelWithNumbers": true,
   "eqNumInitial": 1,
   "hotkeys": {
    "equation": "Ctrl-E",
    "itemize": "Ctrl-I"
   },
   "labels_anchors": false,
   "latex_user_defs": false,
   "report_style_numbering": false,
   "user_envs_cfg": false
  }
 },
 "nbformat": 4,
 "nbformat_minor": 2
}
